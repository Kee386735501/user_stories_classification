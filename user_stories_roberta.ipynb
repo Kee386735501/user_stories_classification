{
 "cells": [
  {
   "cell_type": "markdown",
   "id": "f84ccd7a-559d-488e-9d0e-776a29642b46",
   "metadata": {},
   "source": [
    "User Stories Classification with Roberta "
   ]
  },
  {
   "cell_type": "code",
   "execution_count": 1,
   "id": "807a028b-7a9f-49fc-a7da-5d5bd5f087d9",
   "metadata": {},
   "outputs": [
    {
     "name": "stderr",
     "output_type": "stream",
     "text": [
      "Some weights of RobertaModel were not initialized from the model checkpoint at roberta-base and are newly initialized: ['roberta.pooler.dense.bias', 'roberta.pooler.dense.weight']\n",
      "You should probably TRAIN this model on a down-stream task to be able to use it for predictions and inference.\n",
      "100%|██████████████████████████████████████████████████████████████████████████████| 1257/1257 [03:16<00:00,  6.41it/s]\n"
     ]
    },
    {
     "name": "stdout",
     "output_type": "stream",
     "text": [
      "Epochs: 1\n",
      "              | Train Loss:  0.554\n",
      "              | Train Accuracy:  0.588\n",
      "              | Val Loss:  0.402\n",
      "              | Val Accuracy:  0.732\n"
     ]
    },
    {
     "name": "stderr",
     "output_type": "stream",
     "text": [
      "100%|██████████████████████████████████████████████████████████████████████████████| 1257/1257 [03:18<00:00,  6.34it/s]\n"
     ]
    },
    {
     "name": "stdout",
     "output_type": "stream",
     "text": [
      "Epochs: 2\n",
      "              | Train Loss:  0.283\n",
      "              | Train Accuracy:  0.807\n",
      "              | Val Loss:  0.344\n",
      "              | Val Accuracy:  0.758\n"
     ]
    },
    {
     "name": "stderr",
     "output_type": "stream",
     "text": [
      "100%|██████████████████████████████████████████████████████████████████████████████| 1257/1257 [03:20<00:00,  6.28it/s]\n"
     ]
    },
    {
     "name": "stdout",
     "output_type": "stream",
     "text": [
      "Epochs: 3\n",
      "              | Train Loss:  0.171\n",
      "              | Train Accuracy:  0.887\n",
      "              | Val Loss:  0.349\n",
      "              | Val Accuracy:  0.780\n"
     ]
    },
    {
     "name": "stderr",
     "output_type": "stream",
     "text": [
      "100%|██████████████████████████████████████████████████████████████████████████████| 1257/1257 [03:25<00:00,  6.13it/s]\n"
     ]
    },
    {
     "name": "stdout",
     "output_type": "stream",
     "text": [
      "Epochs: 4\n",
      "              | Train Loss:  0.118\n",
      "              | Train Accuracy:  0.921\n",
      "              | Val Loss:  0.343\n",
      "              | Val Accuracy:  0.793\n"
     ]
    },
    {
     "name": "stderr",
     "output_type": "stream",
     "text": [
      "100%|██████████████████████████████████████████████████████████████████████████████| 1257/1257 [03:19<00:00,  6.29it/s]\n"
     ]
    },
    {
     "name": "stdout",
     "output_type": "stream",
     "text": [
      "Epochs: 5\n",
      "              | Train Loss:  0.086\n",
      "              | Train Accuracy:  0.934\n",
      "              | Val Loss:  0.368\n",
      "              | Val Accuracy:  0.783\n"
     ]
    },
    {
     "name": "stderr",
     "output_type": "stream",
     "text": [
      "100%|██████████████████████████████████████████████████████████████████████████████| 1257/1257 [03:19<00:00,  6.29it/s]\n"
     ]
    },
    {
     "name": "stdout",
     "output_type": "stream",
     "text": [
      "Epochs: 6\n",
      "              | Train Loss:  0.070\n",
      "              | Train Accuracy:  0.940\n",
      "              | Val Loss:  0.388\n",
      "              | Val Accuracy:  0.790\n"
     ]
    },
    {
     "name": "stderr",
     "output_type": "stream",
     "text": [
      "100%|██████████████████████████████████████████████████████████████████████████████| 1257/1257 [03:19<00:00,  6.30it/s]\n"
     ]
    },
    {
     "name": "stdout",
     "output_type": "stream",
     "text": [
      "Epochs: 7\n",
      "              | Train Loss:  0.058\n",
      "              | Train Accuracy:  0.943\n",
      "              | Val Loss:  0.388\n",
      "              | Val Accuracy:  0.790\n"
     ]
    },
    {
     "name": "stderr",
     "output_type": "stream",
     "text": [
      "100%|██████████████████████████████████████████████████████████████████████████████| 1257/1257 [03:20<00:00,  6.27it/s]\n"
     ]
    },
    {
     "name": "stdout",
     "output_type": "stream",
     "text": [
      "Epochs: 8\n",
      "              | Train Loss:  0.050\n",
      "              | Train Accuracy:  0.945\n",
      "              | Val Loss:  0.411\n",
      "              | Val Accuracy:  0.783\n"
     ]
    },
    {
     "name": "stderr",
     "output_type": "stream",
     "text": [
      "100%|██████████████████████████████████████████████████████████████████████████████| 1257/1257 [03:19<00:00,  6.29it/s]\n"
     ]
    },
    {
     "name": "stdout",
     "output_type": "stream",
     "text": [
      "Epochs: 9\n",
      "              | Train Loss:  0.047\n",
      "              | Train Accuracy:  0.948\n",
      "              | Val Loss:  0.450\n",
      "              | Val Accuracy:  0.771\n"
     ]
    },
    {
     "name": "stderr",
     "output_type": "stream",
     "text": [
      "100%|██████████████████████████████████████████████████████████████████████████████| 1257/1257 [03:21<00:00,  6.23it/s]\n"
     ]
    },
    {
     "name": "stdout",
     "output_type": "stream",
     "text": [
      "Epochs: 10\n",
      "              | Train Loss:  0.042\n",
      "              | Train Accuracy:  0.947\n",
      "              | Val Loss:  0.455\n",
      "              | Val Accuracy:  0.783\n",
      "Test Accuracy:  0.765\n",
      "Recall for label 0: 66.28%\n",
      "Precision for label 0: 67.86%\n",
      "F1 for label 0: 67.06\n",
      "Recall for label 1: 77.67%\n",
      "Precision for label 1: 73.39%\n",
      "F1 for label 1: 75.47\n",
      "Recall for label 2: 47.62%\n",
      "Precision for label 2: 62.50%\n",
      "F1 for label 2: 54.05\n",
      "Recall for label 3: 84.21%\n",
      "Precision for label 3: 84.21%\n",
      "F1 for label 3: 84.21\n",
      "Recall for label 4: 100.00%\n",
      "Precision for label 4: 100.00%\n",
      "F1 for label 4: 100.00\n",
      "Recall for label 5: 92.31%\n",
      "Precision for label 5: 85.71%\n",
      "F1 for label 5: 88.89\n",
      "Recall for label 6: 100.00%\n",
      "Precision for label 6: 100.00%\n",
      "F1 for label 6: 100.00\n",
      "Recall for label 7: 73.33%\n",
      "Precision for label 7: 73.33%\n",
      "F1 for label 7: 73.33\n"
     ]
    }
   ],
   "source": [
    "from transformers import RobertaTokenizer, RobertaForSequenceClassification\n",
    "from transformers import Trainer, TrainingArguments\n",
    "import torch\n",
    "from torch.utils.data import DataLoader, Dataset\n",
    "import pandas as pd \n",
    "from transformers import AutoTokenizer, AutoModelForMaskedLM\n",
    "import numpy as np\n",
    "from torch.optim import Adam\n",
    "from torch.optim import Adam\n",
    "from tqdm import tqdm\n",
    "from torch.optim.lr_scheduler import ExponentialLR\n",
    "\n",
    "#read all data files ,load the model and tokenizer\n",
    "df = pd.read_csv('dataset/user_stories_data.csv')\n",
    "tokenizer = AutoTokenizer.from_pretrained(\"roberta-base\")\n",
    "labels = {'Usability':0,\n",
    "          'Functional':1,\n",
    "          'Maintainability':2,\n",
    "          'Security':3,\n",
    "          'Portability':4,\n",
    "          'Performance':5,\n",
    "          'Compatibility':6,\n",
    "          'Reliability':7\n",
    "          }\n",
    "\n",
    "\n",
    "#dataset \n",
    "class Dataset(Dataset):\n",
    "    def __init__(self,df):\n",
    "        self.texts = [tokenizer(text,\n",
    "                                padding='max_length',\n",
    "                                max_length = 512,\n",
    "                                truncation=True,\n",
    "                                return_tensors=\"pt\")\n",
    "                      for text in df['texts']]\n",
    "        self.labels = [labels[label] for label in df['labels']]\n",
    "\n",
    "\n",
    "    def __len__(self):\n",
    "        return len(self.labels)\n",
    "\n",
    "\n",
    "    def __getitem__(self, idx):\n",
    "        text = self.texts[idx]  \n",
    "        label = torch.tensor(self.labels[idx], dtype=torch.long)\n",
    "        return text,label\n",
    "       \n",
    "#classifier\n",
    "from transformers import RobertaModel\n",
    "import torch.nn as nn\n",
    "\n",
    "class RobertaClassifier(nn.Module):\n",
    "    def __init__(self, dropout=0.1):\n",
    "        super(RobertaClassifier, self).__init__()\n",
    "        self.roberta = RobertaModel.from_pretrained('roberta-base')\n",
    "        self.dropout = nn.Dropout(dropout)\n",
    "        #add a linear layer to do classification\n",
    "        self.linear = nn.Linear(768, 8)\n",
    "        self.relu = nn.ReLU()\n",
    "\n",
    "    def forward(self, input_id, mask):\n",
    "        outputs = self.roberta(input_ids=input_id, attention_mask=mask)\n",
    "        pooled_output = outputs.pooler_output\n",
    "        dropout_output = self.dropout(pooled_output)\n",
    "        linear_output = self.linear(dropout_output)\n",
    "        final_layer = self.relu(linear_output)\n",
    "        return final_layer\n",
    "\n",
    "# fine-tune the model\n",
    "def train(model,train_data,val_data,learning_rate,epochs):\n",
    "    \n",
    "    train,val = Dataset(train_data),Dataset(val_data)\n",
    "    train_dataloader = torch.utils.data.DataLoader(train, batch_size=2, shuffle=True)\n",
    "    val_dataloader = torch.utils.data.DataLoader(val, batch_size=2)\n",
    "    \n",
    "    use_cuda = torch.cuda.is_available()\n",
    "    device = torch.device(\"cuda\" if use_cuda else \"cpu\")\n",
    "    \n",
    "    criterion = nn.CrossEntropyLoss()\n",
    "    optimizer = Adam(model.parameters(),lr = learning_rate)\n",
    "    schedular = ExponentialLR(optimizer,gamma=0.95)\n",
    "\n",
    "    if use_cuda:\n",
    "            model = model.cuda()\n",
    "            criterion = criterion.cuda()\n",
    "    for epoch_num in range(epochs):\n",
    "        total_acc_train = 0\n",
    "        total_loss_train = 0\n",
    "\n",
    "        for train_input,train_label in tqdm(train_dataloader):\n",
    "            train_label = train_label.to(device)\n",
    "            mask = train_input['attention_mask'].to(device)\n",
    "            input_id = train_input['input_ids'].squeeze(1).to(device)\n",
    "            output = model(input_id, mask)\n",
    "            batch_loss = criterion(output, train_label)\n",
    "            total_loss_train += batch_loss.item()\n",
    "            acc = (output.argmax(dim=1) == train_label).sum().item()\n",
    "            total_acc_train += acc\n",
    "            model.zero_grad()\n",
    "            batch_loss.backward()\n",
    "            optimizer.step()\n",
    "        total_acc_val = 0\n",
    "        total_loss_val = 0\n",
    "\n",
    "        with torch.no_grad():\n",
    "            for val_input, val_label in val_dataloader:\n",
    "\n",
    "                    val_label = val_label.to(device)\n",
    "                    mask = val_input['attention_mask'].to(device)\n",
    "                    input_id = val_input['input_ids'].squeeze(1).to(device)\n",
    "\n",
    "                    output = model(input_id, mask)\n",
    "\n",
    "                    batch_loss = criterion(output, val_label)\n",
    "                    total_loss_val += batch_loss.item()\n",
    "\n",
    "                    acc = (output.argmax(dim=1) == val_label).sum().item()\n",
    "                    total_acc_val += acc\n",
    "            \n",
    "            train_acc.append(total_acc_train / len(train_data))\n",
    "            val_acc.append(total_acc_val / len(val_data))\n",
    "            train_loss.append(total_loss_train / len(train_data))\n",
    "            val_loss.append(total_loss_val / len(val_data))\n",
    "            print(\n",
    "                f'''Epochs: {epoch_num + 1}\n",
    "              | Train Loss: {total_loss_train / len(train_data): .3f}\n",
    "              | Train Accuracy: {total_acc_train / len(train_data): .3f}\n",
    "              | Val Loss: {total_loss_val / len(val_data): .3f}\n",
    "              | Val Accuracy: {total_acc_val / len(val_data): .3f}''')\n",
    "        schedular.step()\n",
    "\n",
    "np.random.seed(112)\n",
    "df_train, df_val, df_test = np.split(df.sample(frac=1, random_state=42),\n",
    "                                     [int(.8*len(df)), int(.9*len(df))])\n",
    "\n",
    "EPOCHS = 10\n",
    "model = RobertaClassifier(dropout=0.1)\n",
    "LR = 1e-5\n",
    "train_loss=[]\n",
    "val_loss=[]\n",
    "train_acc=[]\n",
    "val_acc=[]\n",
    "train(model, df_train, df_val, LR, EPOCHS)    \n",
    "\n",
    "\n",
    "\n",
    "#evaluate\n",
    "def evaluate(model, test_data):\n",
    "\n",
    "    test = Dataset(test_data)\n",
    "    test_dataloader = torch.utils.data.DataLoader(test, batch_size=2)\n",
    "    use_cuda = torch.cuda.is_available()\n",
    "    device = torch.device(\"cuda\" if use_cuda else \"cpu\")\n",
    "    if use_cuda:\n",
    "        model = model.cuda()\n",
    "        \n",
    "    model.eval()\n",
    "    correct_pred = {label:0 for label in labels.values()}\n",
    "    total_label = {label:0 for label in labels.values()}\n",
    "    total_pred = {label:0 for label in labels.values()}\n",
    "    total_acc_test = 0\n",
    "    \n",
    "    with torch.no_grad():\n",
    "        for test_input, test_label in test_dataloader:\n",
    "              test_label = test_label.to(device)\n",
    "              mask = test_input['attention_mask'].to(device)\n",
    "              input_id = test_input['input_ids'].squeeze(1).to(device)\n",
    "              output = model(input_id, mask)\n",
    "              preds = output.argmax(dim=1)\n",
    "              for label,pred in zip(test_label,preds):\n",
    "                  total_label[label.item()] += 1 # total sample of this label is counted\n",
    "                  total_pred[pred.item()] +=1 # total predcit labels \n",
    "                  if label == pred:\n",
    "                      correct_pred[label.item()] += 1 # True positive \n",
    "              acc = (output.argmax(dim=1) == test_label).sum().item()\n",
    "              total_acc_test += acc\n",
    "    \n",
    "    print(f'Test Accuracy: {total_acc_test / len(test_data): .3f}')\n",
    "\n",
    "    for label, correct_count in correct_pred.items(): \n",
    "        recall = 100 * correct_count / total_label[label] if total_label[label] > 0 else 0\n",
    "        print(f'Recall for label {label}: {recall:.2f}%')\n",
    "        precision = 100 * correct_count / total_pred[label] if total_pred[label] > 0 else 0\n",
    "        print(f'Precision for label {label}: {precision:.2f}%')\n",
    "        F1_score = 2 * (precision * recall)/(precision + recall)\n",
    "        print(f'F1 for label {label}: {F1_score:.2f}')\n",
    "evaluate(model, df_test)\n"
   ]
  },
  {
   "cell_type": "code",
   "execution_count": 2,
   "id": "581231e3-d7b8-487c-8434-46f4d8d20156",
   "metadata": {},
   "outputs": [
    {
     "data": {
      "image/png": "[encoded data removed]",
      "text/plain": [
       "<Figure size 640x480 with 1 Axes>"
      ]
     },
     "metadata": {},
     "output_type": "display_data"
    }
   ],
   "source": [
    "import matplotlib.pyplot as plt\n",
    "plt.plot(train_loss, label='train Loss')\n",
    "plt.plot(val_loss, label='Validation Loss')\n",
    "plt.xlabel('Epoch')\n",
    "plt.ylabel('Loss')\n",
    "plt.title(' Loss Over Epochs')\n",
    "plt.legend()\n",
    "plt.show()"
   ]
  },
  {
   "cell_type": "code",
   "execution_count": 3,
   "id": "ec710775-d1f1-4af8-88c6-1669236dbc38",
   "metadata": {},
   "outputs": [
    {
     "data": {
      "image/png": "[encoded data removed]",
      "text/plain": [
       "<Figure size 640x480 with 1 Axes>"
      ]
     },
     "metadata": {},
     "output_type": "display_data"
    }
   ],
   "source": [
    "import matplotlib.pyplot as plt\n",
    "plt.plot(train_acc, label='train accuracy')\n",
    "plt.plot(val_acc, label='Validation accuracy')\n",
    "plt.xlabel('Epoch')\n",
    "plt.ylabel('accuracy')\n",
    "plt.title(' accuracy Over Epochs')\n",
    "plt.legend()\n",
    "plt.show()"
   ]
  },
  {
   "cell_type": "code",
   "execution_count": null,
   "id": "da51bd1e-9c8f-45f0-b248-c215616b1196",
   "metadata": {},
   "outputs": [],
   "source": []
  }
 ],
 "metadata": {
  "kernelspec": {
   "display_name": "Python 3 (ipykernel)",
   "language": "python",
   "name": "python3"
  },
  "language_info": {
   "codemirror_mode": {
    "name": "ipython",
    "version": 3
   },
   "file_extension": ".py",
   "mimetype": "text/x-python",
   "name": "python",
   "nbconvert_exporter": "python",
   "pygments_lexer": "ipython3",
   "version": "3.8.18"
  }
 },
 "nbformat": 4,
 "nbformat_minor": 5
}
