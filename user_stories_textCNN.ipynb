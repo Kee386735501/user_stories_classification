{
 "cells": [
  {
   "cell_type": "markdown",
   "metadata": {},
   "source": [
    "User Stories Classification with textCNN"
   ]
  },
  {
   "cell_type": "code",
   "execution_count": 27,
   "metadata": {},
   "outputs": [
    {
     "name": "stderr",
     "output_type": "stream",
     "text": [
      "[nltk_data] Downloading package punkt to\n",
      "[nltk_data]     C:\\Users\\38673\\AppData\\Roaming\\nltk_data...\n",
      "[nltk_data]   Package punkt is already up-to-date!\n",
      "[nltk_data] Downloading package wordnet to\n",
      "[nltk_data]     C:\\Users\\38673\\AppData\\Roaming\\nltk_data...\n",
      "[nltk_data]   Package wordnet is already up-to-date!\n",
      "[nltk_data] Downloading package averaged_perceptron_tagger to\n",
      "[nltk_data]     C:\\Users\\38673\\AppData\\Roaming\\nltk_data...\n",
      "[nltk_data]   Package averaged_perceptron_tagger is already up-to-\n",
      "[nltk_data]       date!\n",
      "Training Epoch 1: 100%|███████████████████████████████████████████████████████████████| 59/59 [00:00<00:00, 128.70it/s]\n"
     ]
    },
    {
     "name": "stdout",
     "output_type": "stream",
     "text": [
      "Epoch 1, Training loss: 2.293365389613782\n"
     ]
    },
    {
     "name": "stderr",
     "output_type": "stream",
     "text": [
      "Validation Epoch 1: 100%|█████████████████████████████████████████████████████████████| 20/20 [00:00<00:00, 505.43it/s]\n"
     ]
    },
    {
     "name": "stdout",
     "output_type": "stream",
     "text": [
      "Epoch 1, Validation Loss: 2.0769943416118624, Accuracy: 0.10509554140127389\n"
     ]
    },
    {
     "name": "stderr",
     "output_type": "stream",
     "text": [
      "Training Epoch 2: 100%|███████████████████████████████████████████████████████████████| 59/59 [00:00<00:00, 211.28it/s]\n"
     ]
    },
    {
     "name": "stdout",
     "output_type": "stream",
     "text": [
      "Epoch 2, Training loss: 2.1426646123498174\n"
     ]
    },
    {
     "name": "stderr",
     "output_type": "stream",
     "text": [
      "Validation Epoch 2: 100%|█████████████████████████████████████████████████████████████| 20/20 [00:00<00:00, 446.61it/s]\n"
     ]
    },
    {
     "name": "stdout",
     "output_type": "stream",
     "text": [
      "Epoch 2, Validation Loss: 1.9473648369312286, Accuracy: 0.2898089171974522\n"
     ]
    },
    {
     "name": "stderr",
     "output_type": "stream",
     "text": [
      "Training Epoch 3: 100%|███████████████████████████████████████████████████████████████| 59/59 [00:00<00:00, 166.17it/s]\n"
     ]
    },
    {
     "name": "stdout",
     "output_type": "stream",
     "text": [
      "Epoch 3, Training loss: 2.0672253511719783\n"
     ]
    },
    {
     "name": "stderr",
     "output_type": "stream",
     "text": [
      "Validation Epoch 3: 100%|█████████████████████████████████████████████████████████████| 20/20 [00:00<00:00, 376.73it/s]\n"
     ]
    },
    {
     "name": "stdout",
     "output_type": "stream",
     "text": [
      "Epoch 3, Validation Loss: 1.8554403126239776, Accuracy: 0.32961783439490444\n"
     ]
    },
    {
     "name": "stderr",
     "output_type": "stream",
     "text": [
      "Training Epoch 4: 100%|███████████████████████████████████████████████████████████████| 59/59 [00:00<00:00, 168.03it/s]\n"
     ]
    },
    {
     "name": "stdout",
     "output_type": "stream",
     "text": [
      "Epoch 4, Training loss: 1.9968276589603748\n"
     ]
    },
    {
     "name": "stderr",
     "output_type": "stream",
     "text": [
      "Validation Epoch 4: 100%|█████████████████████████████████████████████████████████████| 20/20 [00:00<00:00, 381.42it/s]\n"
     ]
    },
    {
     "name": "stdout",
     "output_type": "stream",
     "text": [
      "Epoch 4, Validation Loss: 1.7982584357261657, Accuracy: 0.3343949044585987\n"
     ]
    },
    {
     "name": "stderr",
     "output_type": "stream",
     "text": [
      "Training Epoch 5: 100%|███████████████████████████████████████████████████████████████| 59/59 [00:00<00:00, 198.24it/s]\n"
     ]
    },
    {
     "name": "stdout",
     "output_type": "stream",
     "text": [
      "Epoch 5, Training loss: 1.94822549415847\n"
     ]
    },
    {
     "name": "stderr",
     "output_type": "stream",
     "text": [
      "Validation Epoch 5: 100%|█████████████████████████████████████████████████████████████| 20/20 [00:00<00:00, 546.81it/s]\n"
     ]
    },
    {
     "name": "stdout",
     "output_type": "stream",
     "text": [
      "Epoch 5, Validation Loss: 1.7606618463993073, Accuracy: 0.34235668789808915\n"
     ]
    },
    {
     "name": "stderr",
     "output_type": "stream",
     "text": [
      "Training Epoch 6: 100%|███████████████████████████████████████████████████████████████| 59/59 [00:00<00:00, 212.07it/s]\n"
     ]
    },
    {
     "name": "stdout",
     "output_type": "stream",
     "text": [
      "Epoch 6, Training loss: 1.9033130831637626\n"
     ]
    },
    {
     "name": "stderr",
     "output_type": "stream",
     "text": [
      "Validation Epoch 6: 100%|█████████████████████████████████████████████████████████████| 20/20 [00:00<00:00, 487.77it/s]\n"
     ]
    },
    {
     "name": "stdout",
     "output_type": "stream",
     "text": [
      "Epoch 6, Validation Loss: 1.7391559422016143, Accuracy: 0.34076433121019106\n"
     ]
    },
    {
     "name": "stderr",
     "output_type": "stream",
     "text": [
      "Training Epoch 7: 100%|███████████████████████████████████████████████████████████████| 59/59 [00:00<00:00, 215.98it/s]\n"
     ]
    },
    {
     "name": "stdout",
     "output_type": "stream",
     "text": [
      "Epoch 7, Training loss: 1.9095707869125624\n"
     ]
    },
    {
     "name": "stderr",
     "output_type": "stream",
     "text": [
      "Validation Epoch 7: 100%|█████████████████████████████████████████████████████████████| 20/20 [00:00<00:00, 458.48it/s]\n"
     ]
    },
    {
     "name": "stdout",
     "output_type": "stream",
     "text": [
      "Epoch 7, Validation Loss: 1.7242342352867126, Accuracy: 0.34235668789808915\n"
     ]
    },
    {
     "name": "stderr",
     "output_type": "stream",
     "text": [
      "Training Epoch 8: 100%|███████████████████████████████████████████████████████████████| 59/59 [00:00<00:00, 214.10it/s]\n"
     ]
    },
    {
     "name": "stdout",
     "output_type": "stream",
     "text": [
      "Epoch 8, Training loss: 1.8580613318136183\n"
     ]
    },
    {
     "name": "stderr",
     "output_type": "stream",
     "text": [
      "Validation Epoch 8: 100%|█████████████████████████████████████████████████████████████| 20/20 [00:00<00:00, 516.44it/s]\n"
     ]
    },
    {
     "name": "stdout",
     "output_type": "stream",
     "text": [
      "Epoch 8, Validation Loss: 1.713137012720108, Accuracy: 0.34554140127388533\n"
     ]
    },
    {
     "name": "stderr",
     "output_type": "stream",
     "text": [
      "Training Epoch 9: 100%|███████████████████████████████████████████████████████████████| 59/59 [00:00<00:00, 211.17it/s]\n"
     ]
    },
    {
     "name": "stdout",
     "output_type": "stream",
     "text": [
      "Epoch 9, Training loss: 1.8496570425518488\n"
     ]
    },
    {
     "name": "stderr",
     "output_type": "stream",
     "text": [
      "Validation Epoch 9: 100%|█████████████████████████████████████████████████████████████| 20/20 [00:00<00:00, 533.91it/s]\n"
     ]
    },
    {
     "name": "stdout",
     "output_type": "stream",
     "text": [
      "Epoch 9, Validation Loss: 1.7057951033115386, Accuracy: 0.35828025477707004\n"
     ]
    },
    {
     "name": "stderr",
     "output_type": "stream",
     "text": [
      "Training Epoch 10: 100%|██████████████████████████████████████████████████████████████| 59/59 [00:00<00:00, 210.66it/s]\n"
     ]
    },
    {
     "name": "stdout",
     "output_type": "stream",
     "text": [
      "Epoch 10, Training loss: 1.8499857651985299\n"
     ]
    },
    {
     "name": "stderr",
     "output_type": "stream",
     "text": [
      "Validation Epoch 10: 100%|████████████████████████████████████████████████████████████| 20/20 [00:00<00:00, 445.83it/s]\n"
     ]
    },
    {
     "name": "stdout",
     "output_type": "stream",
     "text": [
      "Epoch 10, Validation Loss: 1.6983582317829131, Accuracy: 0.3646496815286624\n"
     ]
    },
    {
     "name": "stderr",
     "output_type": "stream",
     "text": [
      "Training Epoch 11: 100%|██████████████████████████████████████████████████████████████| 59/59 [00:00<00:00, 205.20it/s]\n"
     ]
    },
    {
     "name": "stdout",
     "output_type": "stream",
     "text": [
      "Epoch 11, Training loss: 1.847086801367291\n"
     ]
    },
    {
     "name": "stderr",
     "output_type": "stream",
     "text": [
      "Validation Epoch 11: 100%|████████████████████████████████████████████████████████████| 20/20 [00:00<00:00, 476.64it/s]\n"
     ]
    },
    {
     "name": "stdout",
     "output_type": "stream",
     "text": [
      "Epoch 11, Validation Loss: 1.6925187826156616, Accuracy: 0.3646496815286624\n"
     ]
    },
    {
     "name": "stderr",
     "output_type": "stream",
     "text": [
      "Training Epoch 12: 100%|██████████████████████████████████████████████████████████████| 59/59 [00:00<00:00, 209.08it/s]\n"
     ]
    },
    {
     "name": "stdout",
     "output_type": "stream",
     "text": [
      "Epoch 12, Training loss: 1.8322399531380604\n"
     ]
    },
    {
     "name": "stderr",
     "output_type": "stream",
     "text": [
      "Validation Epoch 12: 100%|████████████████████████████████████████████████████████████| 20/20 [00:00<00:00, 524.94it/s]\n"
     ]
    },
    {
     "name": "stdout",
     "output_type": "stream",
     "text": [
      "Epoch 12, Validation Loss: 1.6863560736179353, Accuracy: 0.36942675159235666\n"
     ]
    },
    {
     "name": "stderr",
     "output_type": "stream",
     "text": [
      "Training Epoch 13: 100%|██████████████████████████████████████████████████████████████| 59/59 [00:00<00:00, 203.17it/s]\n"
     ]
    },
    {
     "name": "stdout",
     "output_type": "stream",
     "text": [
      "Epoch 13, Training loss: 1.8118142031006894\n"
     ]
    },
    {
     "name": "stderr",
     "output_type": "stream",
     "text": [
      "Validation Epoch 13: 100%|████████████████████████████████████████████████████████████| 20/20 [00:00<00:00, 430.37it/s]\n"
     ]
    },
    {
     "name": "stdout",
     "output_type": "stream",
     "text": [
      "Epoch 13, Validation Loss: 1.680706661939621, Accuracy: 0.37101910828025475\n"
     ]
    },
    {
     "name": "stderr",
     "output_type": "stream",
     "text": [
      "Training Epoch 14: 100%|██████████████████████████████████████████████████████████████| 59/59 [00:00<00:00, 193.98it/s]\n"
     ]
    },
    {
     "name": "stdout",
     "output_type": "stream",
     "text": [
      "Epoch 14, Training loss: 1.8077770653417555\n"
     ]
    },
    {
     "name": "stderr",
     "output_type": "stream",
     "text": [
      "Validation Epoch 14: 100%|████████████████████████████████████████████████████████████| 20/20 [00:00<00:00, 503.70it/s]\n"
     ]
    },
    {
     "name": "stdout",
     "output_type": "stream",
     "text": [
      "Epoch 14, Validation Loss: 1.6744629323482514, Accuracy: 0.36942675159235666\n"
     ]
    },
    {
     "name": "stderr",
     "output_type": "stream",
     "text": [
      "Training Epoch 15: 100%|██████████████████████████████████████████████████████████████| 59/59 [00:00<00:00, 206.25it/s]\n"
     ]
    },
    {
     "name": "stdout",
     "output_type": "stream",
     "text": [
      "Epoch 15, Training loss: 1.7996024822784682\n"
     ]
    },
    {
     "name": "stderr",
     "output_type": "stream",
     "text": [
      "Validation Epoch 15: 100%|████████████████████████████████████████████████████████████| 20/20 [00:00<00:00, 519.78it/s]\n"
     ]
    },
    {
     "name": "stdout",
     "output_type": "stream",
     "text": [
      "Epoch 15, Validation Loss: 1.6696577072143555, Accuracy: 0.37898089171974525\n"
     ]
    },
    {
     "name": "stderr",
     "output_type": "stream",
     "text": [
      "Training Epoch 16: 100%|██████████████████████████████████████████████████████████████| 59/59 [00:00<00:00, 219.69it/s]\n"
     ]
    },
    {
     "name": "stdout",
     "output_type": "stream",
     "text": [
      "Epoch 16, Training loss: 1.7836394855531597\n"
     ]
    },
    {
     "name": "stderr",
     "output_type": "stream",
     "text": [
      "Validation Epoch 16: 100%|████████████████████████████████████████████████████████████| 20/20 [00:00<00:00, 511.02it/s]\n"
     ]
    },
    {
     "name": "stdout",
     "output_type": "stream",
     "text": [
      "Epoch 16, Validation Loss: 1.6644245088100433, Accuracy: 0.37738853503184716\n"
     ]
    },
    {
     "name": "stderr",
     "output_type": "stream",
     "text": [
      "Training Epoch 17: 100%|██████████████████████████████████████████████████████████████| 59/59 [00:00<00:00, 218.05it/s]\n"
     ]
    },
    {
     "name": "stdout",
     "output_type": "stream",
     "text": [
      "Epoch 17, Training loss: 1.7752416416750116\n"
     ]
    },
    {
     "name": "stderr",
     "output_type": "stream",
     "text": [
      "Validation Epoch 17: 100%|████████████████████████████████████████████████████████████| 20/20 [00:00<00:00, 458.58it/s]\n"
     ]
    },
    {
     "name": "stdout",
     "output_type": "stream",
     "text": [
      "Epoch 17, Validation Loss: 1.6589788258075715, Accuracy: 0.37261146496815284\n"
     ]
    },
    {
     "name": "stderr",
     "output_type": "stream",
     "text": [
      "Training Epoch 18: 100%|██████████████████████████████████████████████████████████████| 59/59 [00:00<00:00, 192.09it/s]\n"
     ]
    },
    {
     "name": "stdout",
     "output_type": "stream",
     "text": [
      "Epoch 18, Training loss: 1.7839260687262326\n"
     ]
    },
    {
     "name": "stderr",
     "output_type": "stream",
     "text": [
      "Validation Epoch 18: 100%|████████████████████████████████████████████████████████████| 20/20 [00:00<00:00, 533.10it/s]\n"
     ]
    },
    {
     "name": "stdout",
     "output_type": "stream",
     "text": [
      "Epoch 18, Validation Loss: 1.6531792759895325, Accuracy: 0.37420382165605093\n"
     ]
    },
    {
     "name": "stderr",
     "output_type": "stream",
     "text": [
      "Training Epoch 19: 100%|██████████████████████████████████████████████████████████████| 59/59 [00:00<00:00, 208.23it/s]\n"
     ]
    },
    {
     "name": "stdout",
     "output_type": "stream",
     "text": [
      "Epoch 19, Training loss: 1.7506960468777155\n"
     ]
    },
    {
     "name": "stderr",
     "output_type": "stream",
     "text": [
      "Validation Epoch 19: 100%|████████████████████████████████████████████████████████████| 20/20 [00:00<00:00, 440.19it/s]\n"
     ]
    },
    {
     "name": "stdout",
     "output_type": "stream",
     "text": [
      "Epoch 19, Validation Loss: 1.6485778033733367, Accuracy: 0.38057324840764334\n"
     ]
    },
    {
     "name": "stderr",
     "output_type": "stream",
     "text": [
      "Training Epoch 20: 100%|██████████████████████████████████████████████████████████████| 59/59 [00:00<00:00, 220.32it/s]\n"
     ]
    },
    {
     "name": "stdout",
     "output_type": "stream",
     "text": [
      "Epoch 20, Training loss: 1.7291836334487138\n"
     ]
    },
    {
     "name": "stderr",
     "output_type": "stream",
     "text": [
      "Validation Epoch 20: 100%|████████████████████████████████████████████████████████████| 20/20 [00:00<00:00, 427.47it/s]\n"
     ]
    },
    {
     "name": "stdout",
     "output_type": "stream",
     "text": [
      "Epoch 20, Validation Loss: 1.643403559923172, Accuracy: 0.3837579617834395\n"
     ]
    },
    {
     "name": "stderr",
     "output_type": "stream",
     "text": [
      "Training Epoch 21: 100%|██████████████████████████████████████████████████████████████| 59/59 [00:00<00:00, 220.40it/s]\n"
     ]
    },
    {
     "name": "stdout",
     "output_type": "stream",
     "text": [
      "Epoch 21, Training loss: 1.742525648262541\n"
     ]
    },
    {
     "name": "stderr",
     "output_type": "stream",
     "text": [
      "Validation Epoch 21: 100%|████████████████████████████████████████████████████████████| 20/20 [00:00<00:00, 513.81it/s]\n"
     ]
    },
    {
     "name": "stdout",
     "output_type": "stream",
     "text": [
      "Epoch 21, Validation Loss: 1.6392143607139587, Accuracy: 0.3837579617834395\n"
     ]
    },
    {
     "name": "stderr",
     "output_type": "stream",
     "text": [
      "Training Epoch 22: 100%|██████████████████████████████████████████████████████████████| 59/59 [00:00<00:00, 206.87it/s]\n"
     ]
    },
    {
     "name": "stdout",
     "output_type": "stream",
     "text": [
      "Epoch 22, Training loss: 1.7344663648282068\n"
     ]
    },
    {
     "name": "stderr",
     "output_type": "stream",
     "text": [
      "Validation Epoch 22: 100%|████████████████████████████████████████████████████████████| 20/20 [00:00<00:00, 458.71it/s]\n"
     ]
    },
    {
     "name": "stdout",
     "output_type": "stream",
     "text": [
      "Epoch 22, Validation Loss: 1.6337339520454406, Accuracy: 0.3853503184713376\n"
     ]
    },
    {
     "name": "stderr",
     "output_type": "stream",
     "text": [
      "Training Epoch 23: 100%|██████████████████████████████████████████████████████████████| 59/59 [00:00<00:00, 207.32it/s]\n"
     ]
    },
    {
     "name": "stdout",
     "output_type": "stream",
     "text": [
      "Epoch 23, Training loss: 1.7246969352334232\n"
     ]
    },
    {
     "name": "stderr",
     "output_type": "stream",
     "text": [
      "Validation Epoch 23: 100%|████████████████████████████████████████████████████████████| 20/20 [00:00<00:00, 452.45it/s]\n"
     ]
    },
    {
     "name": "stdout",
     "output_type": "stream",
     "text": [
      "Epoch 23, Validation Loss: 1.628926944732666, Accuracy: 0.39012738853503187\n"
     ]
    },
    {
     "name": "stderr",
     "output_type": "stream",
     "text": [
      "Training Epoch 24: 100%|██████████████████████████████████████████████████████████████| 59/59 [00:00<00:00, 199.49it/s]\n"
     ]
    },
    {
     "name": "stdout",
     "output_type": "stream",
     "text": [
      "Epoch 24, Training loss: 1.6908110582222373\n"
     ]
    },
    {
     "name": "stderr",
     "output_type": "stream",
     "text": [
      "Validation Epoch 24: 100%|████████████████████████████████████████████████████████████| 20/20 [00:00<00:00, 561.77it/s]\n"
     ]
    },
    {
     "name": "stdout",
     "output_type": "stream",
     "text": [
      "Epoch 24, Validation Loss: 1.623535007238388, Accuracy: 0.39171974522292996\n"
     ]
    },
    {
     "name": "stderr",
     "output_type": "stream",
     "text": [
      "Training Epoch 25: 100%|██████████████████████████████████████████████████████████████| 59/59 [00:00<00:00, 204.03it/s]\n"
     ]
    },
    {
     "name": "stdout",
     "output_type": "stream",
     "text": [
      "Epoch 25, Training loss: 1.7029282036474196\n"
     ]
    },
    {
     "name": "stderr",
     "output_type": "stream",
     "text": [
      "Validation Epoch 25: 100%|████████████████████████████████████████████████████████████| 20/20 [00:00<00:00, 540.19it/s]\n"
     ]
    },
    {
     "name": "stdout",
     "output_type": "stream",
     "text": [
      "Epoch 25, Validation Loss: 1.618492805957794, Accuracy: 0.39490445859872614\n"
     ]
    },
    {
     "name": "stderr",
     "output_type": "stream",
     "text": [
      "Training Epoch 26: 100%|██████████████████████████████████████████████████████████████| 59/59 [00:00<00:00, 205.20it/s]\n"
     ]
    },
    {
     "name": "stdout",
     "output_type": "stream",
     "text": [
      "Epoch 26, Training loss: 1.6822593838481579\n"
     ]
    },
    {
     "name": "stderr",
     "output_type": "stream",
     "text": [
      "Validation Epoch 26: 100%|████████████████████████████████████████████████████████████| 20/20 [00:00<00:00, 537.86it/s]\n"
     ]
    },
    {
     "name": "stdout",
     "output_type": "stream",
     "text": [
      "Epoch 26, Validation Loss: 1.6134956300258636, Accuracy: 0.3964968152866242\n"
     ]
    },
    {
     "name": "stderr",
     "output_type": "stream",
     "text": [
      "Training Epoch 27: 100%|██████████████████████████████████████████████████████████████| 59/59 [00:00<00:00, 199.11it/s]\n"
     ]
    },
    {
     "name": "stdout",
     "output_type": "stream",
     "text": [
      "Epoch 27, Training loss: 1.6770678839441073\n"
     ]
    },
    {
     "name": "stderr",
     "output_type": "stream",
     "text": [
      "Validation Epoch 27: 100%|████████████████████████████████████████████████████████████| 20/20 [00:00<00:00, 531.29it/s]\n"
     ]
    },
    {
     "name": "stdout",
     "output_type": "stream",
     "text": [
      "Epoch 27, Validation Loss: 1.6091625213623046, Accuracy: 0.3996815286624204\n"
     ]
    },
    {
     "name": "stderr",
     "output_type": "stream",
     "text": [
      "Training Epoch 28: 100%|██████████████████████████████████████████████████████████████| 59/59 [00:00<00:00, 197.60it/s]\n"
     ]
    },
    {
     "name": "stdout",
     "output_type": "stream",
     "text": [
      "Epoch 28, Training loss: 1.678876519203186\n"
     ]
    },
    {
     "name": "stderr",
     "output_type": "stream",
     "text": [
      "Validation Epoch 28: 100%|████████████████████████████████████████████████████████████| 20/20 [00:00<00:00, 451.06it/s]\n"
     ]
    },
    {
     "name": "stdout",
     "output_type": "stream",
     "text": [
      "Epoch 28, Validation Loss: 1.6047656893730164, Accuracy: 0.40445859872611467\n"
     ]
    },
    {
     "name": "stderr",
     "output_type": "stream",
     "text": [
      "Training Epoch 29: 100%|██████████████████████████████████████████████████████████████| 59/59 [00:00<00:00, 200.39it/s]\n"
     ]
    },
    {
     "name": "stdout",
     "output_type": "stream",
     "text": [
      "Epoch 29, Training loss: 1.6627665576288255\n"
     ]
    },
    {
     "name": "stderr",
     "output_type": "stream",
     "text": [
      "Validation Epoch 29: 100%|████████████████████████████████████████████████████████████| 20/20 [00:00<00:00, 533.54it/s]\n"
     ]
    },
    {
     "name": "stdout",
     "output_type": "stream",
     "text": [
      "Epoch 29, Validation Loss: 1.6004395008087158, Accuracy: 0.40923566878980894\n"
     ]
    },
    {
     "name": "stderr",
     "output_type": "stream",
     "text": [
      "Training Epoch 30: 100%|██████████████████████████████████████████████████████████████| 59/59 [00:00<00:00, 213.96it/s]\n"
     ]
    },
    {
     "name": "stdout",
     "output_type": "stream",
     "text": [
      "Epoch 30, Training loss: 1.6721771733235504\n"
     ]
    },
    {
     "name": "stderr",
     "output_type": "stream",
     "text": [
      "Validation Epoch 30: 100%|████████████████████████████████████████████████████████████| 20/20 [00:00<00:00, 490.61it/s]\n"
     ]
    },
    {
     "name": "stdout",
     "output_type": "stream",
     "text": [
      "Epoch 30, Validation Loss: 1.5959968745708466, Accuracy: 0.4124203821656051\n"
     ]
    },
    {
     "name": "stderr",
     "output_type": "stream",
     "text": [
      "Training Epoch 31: 100%|██████████████████████████████████████████████████████████████| 59/59 [00:00<00:00, 214.75it/s]\n"
     ]
    },
    {
     "name": "stdout",
     "output_type": "stream",
     "text": [
      "Epoch 31, Training loss: 1.652701101060641\n"
     ]
    },
    {
     "name": "stderr",
     "output_type": "stream",
     "text": [
      "Validation Epoch 31: 100%|████████████████████████████████████████████████████████████| 20/20 [00:00<00:00, 506.23it/s]\n"
     ]
    },
    {
     "name": "stdout",
     "output_type": "stream",
     "text": [
      "Epoch 31, Validation Loss: 1.5911327660083772, Accuracy: 0.4156050955414013\n"
     ]
    },
    {
     "name": "stderr",
     "output_type": "stream",
     "text": [
      "Training Epoch 32: 100%|██████████████████████████████████████████████████████████████| 59/59 [00:00<00:00, 215.15it/s]\n"
     ]
    },
    {
     "name": "stdout",
     "output_type": "stream",
     "text": [
      "Epoch 32, Training loss: 1.6141310687792503\n"
     ]
    },
    {
     "name": "stderr",
     "output_type": "stream",
     "text": [
      "Validation Epoch 32: 100%|████████████████████████████████████████████████████████████| 20/20 [00:00<00:00, 494.24it/s]\n"
     ]
    },
    {
     "name": "stdout",
     "output_type": "stream",
     "text": [
      "Epoch 32, Validation Loss: 1.5860050201416016, Accuracy: 0.42038216560509556\n"
     ]
    },
    {
     "name": "stderr",
     "output_type": "stream",
     "text": [
      "Training Epoch 33: 100%|██████████████████████████████████████████████████████████████| 59/59 [00:00<00:00, 194.19it/s]\n"
     ]
    },
    {
     "name": "stdout",
     "output_type": "stream",
     "text": [
      "Epoch 33, Training loss: 1.6280123641935444\n"
     ]
    },
    {
     "name": "stderr",
     "output_type": "stream",
     "text": [
      "Validation Epoch 33: 100%|████████████████████████████████████████████████████████████| 20/20 [00:00<00:00, 505.81it/s]\n"
     ]
    },
    {
     "name": "stdout",
     "output_type": "stream",
     "text": [
      "Epoch 33, Validation Loss: 1.5816985428333283, Accuracy: 0.42356687898089174\n"
     ]
    },
    {
     "name": "stderr",
     "output_type": "stream",
     "text": [
      "Training Epoch 34: 100%|██████████████████████████████████████████████████████████████| 59/59 [00:00<00:00, 197.47it/s]\n"
     ]
    },
    {
     "name": "stdout",
     "output_type": "stream",
     "text": [
      "Epoch 34, Training loss: 1.6297673229443825\n"
     ]
    },
    {
     "name": "stderr",
     "output_type": "stream",
     "text": [
      "Validation Epoch 34: 100%|████████████████████████████████████████████████████████████| 20/20 [00:00<00:00, 443.47it/s]\n"
     ]
    },
    {
     "name": "stdout",
     "output_type": "stream",
     "text": [
      "Epoch 34, Validation Loss: 1.5770112216472625, Accuracy: 0.428343949044586\n"
     ]
    },
    {
     "name": "stderr",
     "output_type": "stream",
     "text": [
      "Training Epoch 35: 100%|██████████████████████████████████████████████████████████████| 59/59 [00:00<00:00, 192.75it/s]\n"
     ]
    },
    {
     "name": "stdout",
     "output_type": "stream",
     "text": [
      "Epoch 35, Training loss: 1.6128540321932001\n"
     ]
    },
    {
     "name": "stderr",
     "output_type": "stream",
     "text": [
      "Validation Epoch 35: 100%|████████████████████████████████████████████████████████████| 20/20 [00:00<00:00, 502.32it/s]\n"
     ]
    },
    {
     "name": "stdout",
     "output_type": "stream",
     "text": [
      "Epoch 35, Validation Loss: 1.5731118202209473, Accuracy: 0.428343949044586\n"
     ]
    },
    {
     "name": "stderr",
     "output_type": "stream",
     "text": [
      "Training Epoch 36: 100%|██████████████████████████████████████████████████████████████| 59/59 [00:00<00:00, 179.87it/s]\n"
     ]
    },
    {
     "name": "stdout",
     "output_type": "stream",
     "text": [
      "Epoch 36, Training loss: 1.611130168882467\n"
     ]
    },
    {
     "name": "stderr",
     "output_type": "stream",
     "text": [
      "Validation Epoch 36: 100%|████████████████████████████████████████████████████████████| 20/20 [00:00<00:00, 445.93it/s]\n"
     ]
    },
    {
     "name": "stdout",
     "output_type": "stream",
     "text": [
      "Epoch 36, Validation Loss: 1.5688253879547118, Accuracy: 0.43312101910828027\n"
     ]
    },
    {
     "name": "stderr",
     "output_type": "stream",
     "text": [
      "Training Epoch 37: 100%|██████████████████████████████████████████████████████████████| 59/59 [00:00<00:00, 207.25it/s]\n"
     ]
    },
    {
     "name": "stdout",
     "output_type": "stream",
     "text": [
      "Epoch 37, Training loss: 1.6057314165567949\n"
     ]
    },
    {
     "name": "stderr",
     "output_type": "stream",
     "text": [
      "Validation Epoch 37: 100%|████████████████████████████████████████████████████████████| 20/20 [00:00<00:00, 437.71it/s]\n"
     ]
    },
    {
     "name": "stdout",
     "output_type": "stream",
     "text": [
      "Epoch 37, Validation Loss: 1.564272689819336, Accuracy: 0.43471337579617836\n"
     ]
    },
    {
     "name": "stderr",
     "output_type": "stream",
     "text": [
      "Training Epoch 38: 100%|██████████████████████████████████████████████████████████████| 59/59 [00:00<00:00, 220.06it/s]\n"
     ]
    },
    {
     "name": "stdout",
     "output_type": "stream",
     "text": [
      "Epoch 38, Training loss: 1.5770656961505696\n"
     ]
    },
    {
     "name": "stderr",
     "output_type": "stream",
     "text": [
      "Validation Epoch 38: 100%|████████████████████████████████████████████████████████████| 20/20 [00:00<00:00, 537.32it/s]\n"
     ]
    },
    {
     "name": "stdout",
     "output_type": "stream",
     "text": [
      "Epoch 38, Validation Loss: 1.5607078492641449, Accuracy: 0.4394904458598726\n"
     ]
    },
    {
     "name": "stderr",
     "output_type": "stream",
     "text": [
      "Training Epoch 39: 100%|██████████████████████████████████████████████████████████████| 59/59 [00:00<00:00, 217.50it/s]\n"
     ]
    },
    {
     "name": "stdout",
     "output_type": "stream",
     "text": [
      "Epoch 39, Training loss: 1.600171101295342\n"
     ]
    },
    {
     "name": "stderr",
     "output_type": "stream",
     "text": [
      "Validation Epoch 39: 100%|████████████████████████████████████████████████████████████| 20/20 [00:00<00:00, 551.46it/s]\n"
     ]
    },
    {
     "name": "stdout",
     "output_type": "stream",
     "text": [
      "Epoch 39, Validation Loss: 1.5562762916088104, Accuracy: 0.4410828025477707\n"
     ]
    },
    {
     "name": "stderr",
     "output_type": "stream",
     "text": [
      "Training Epoch 40: 100%|██████████████████████████████████████████████████████████████| 59/59 [00:00<00:00, 223.83it/s]\n"
     ]
    },
    {
     "name": "stdout",
     "output_type": "stream",
     "text": [
      "Epoch 40, Training loss: 1.5827948380324801\n"
     ]
    },
    {
     "name": "stderr",
     "output_type": "stream",
     "text": [
      "Validation Epoch 40: 100%|████████████████████████████████████████████████████████████| 20/20 [00:00<00:00, 525.21it/s]\n"
     ]
    },
    {
     "name": "stdout",
     "output_type": "stream",
     "text": [
      "Epoch 40, Validation Loss: 1.551888543367386, Accuracy: 0.4410828025477707\n"
     ]
    },
    {
     "name": "stderr",
     "output_type": "stream",
     "text": [
      "Training Epoch 41: 100%|██████████████████████████████████████████████████████████████| 59/59 [00:00<00:00, 218.29it/s]\n"
     ]
    },
    {
     "name": "stdout",
     "output_type": "stream",
     "text": [
      "Epoch 41, Training loss: 1.5692754741442405\n"
     ]
    },
    {
     "name": "stderr",
     "output_type": "stream",
     "text": [
      "Validation Epoch 41: 100%|████████████████████████████████████████████████████████████| 20/20 [00:00<00:00, 517.19it/s]\n"
     ]
    },
    {
     "name": "stdout",
     "output_type": "stream",
     "text": [
      "Epoch 41, Validation Loss: 1.5471352517604828, Accuracy: 0.4442675159235669\n"
     ]
    },
    {
     "name": "stderr",
     "output_type": "stream",
     "text": [
      "Training Epoch 42: 100%|██████████████████████████████████████████████████████████████| 59/59 [00:00<00:00, 206.40it/s]\n"
     ]
    },
    {
     "name": "stdout",
     "output_type": "stream",
     "text": [
      "Epoch 42, Training loss: 1.5641408774812342\n"
     ]
    },
    {
     "name": "stderr",
     "output_type": "stream",
     "text": [
      "Validation Epoch 42: 100%|████████████████████████████████████████████████████████████| 20/20 [00:00<00:00, 486.32it/s]\n"
     ]
    },
    {
     "name": "stdout",
     "output_type": "stream",
     "text": [
      "Epoch 42, Validation Loss: 1.5429540753364563, Accuracy: 0.44745222929936307\n"
     ]
    },
    {
     "name": "stderr",
     "output_type": "stream",
     "text": [
      "Training Epoch 43: 100%|██████████████████████████████████████████████████████████████| 59/59 [00:00<00:00, 185.61it/s]\n"
     ]
    },
    {
     "name": "stdout",
     "output_type": "stream",
     "text": [
      "Epoch 43, Training loss: 1.5642930289446297\n"
     ]
    },
    {
     "name": "stderr",
     "output_type": "stream",
     "text": [
      "Validation Epoch 43: 100%|████████████████████████████████████████████████████████████| 20/20 [00:00<00:00, 437.42it/s]\n"
     ]
    },
    {
     "name": "stdout",
     "output_type": "stream",
     "text": [
      "Epoch 43, Validation Loss: 1.5388333737850188, Accuracy: 0.45222929936305734\n"
     ]
    },
    {
     "name": "stderr",
     "output_type": "stream",
     "text": [
      "Training Epoch 44: 100%|██████████████████████████████████████████████████████████████| 59/59 [00:00<00:00, 202.95it/s]\n"
     ]
    },
    {
     "name": "stdout",
     "output_type": "stream",
     "text": [
      "Epoch 44, Training loss: 1.5156257960755946\n"
     ]
    },
    {
     "name": "stderr",
     "output_type": "stream",
     "text": [
      "Validation Epoch 44: 100%|████████████████████████████████████████████████████████████| 20/20 [00:00<00:00, 387.48it/s]\n"
     ]
    },
    {
     "name": "stdout",
     "output_type": "stream",
     "text": [
      "Epoch 44, Validation Loss: 1.5349475681781768, Accuracy: 0.4538216560509554\n"
     ]
    },
    {
     "name": "stderr",
     "output_type": "stream",
     "text": [
      "Training Epoch 45: 100%|██████████████████████████████████████████████████████████████| 59/59 [00:00<00:00, 207.19it/s]\n"
     ]
    },
    {
     "name": "stdout",
     "output_type": "stream",
     "text": [
      "Epoch 45, Training loss: 1.5166777554204909\n"
     ]
    },
    {
     "name": "stderr",
     "output_type": "stream",
     "text": [
      "Validation Epoch 45: 100%|████████████████████████████████████████████████████████████| 20/20 [00:00<00:00, 531.44it/s]\n"
     ]
    },
    {
     "name": "stdout",
     "output_type": "stream",
     "text": [
      "Epoch 45, Validation Loss: 1.5312307178974152, Accuracy: 0.46178343949044587\n"
     ]
    },
    {
     "name": "stderr",
     "output_type": "stream",
     "text": [
      "Training Epoch 46: 100%|██████████████████████████████████████████████████████████████| 59/59 [00:00<00:00, 201.52it/s]\n"
     ]
    },
    {
     "name": "stdout",
     "output_type": "stream",
     "text": [
      "Epoch 46, Training loss: 1.539119187047926\n"
     ]
    },
    {
     "name": "stderr",
     "output_type": "stream",
     "text": [
      "Validation Epoch 46: 100%|████████████████████████████████████████████████████████████| 20/20 [00:00<00:00, 558.41it/s]\n"
     ]
    },
    {
     "name": "stdout",
     "output_type": "stream",
     "text": [
      "Epoch 46, Validation Loss: 1.5272151589393617, Accuracy: 0.46178343949044587\n"
     ]
    },
    {
     "name": "stderr",
     "output_type": "stream",
     "text": [
      "Training Epoch 47: 100%|██████████████████████████████████████████████████████████████| 59/59 [00:00<00:00, 216.05it/s]\n"
     ]
    },
    {
     "name": "stdout",
     "output_type": "stream",
     "text": [
      "Epoch 47, Training loss: 1.509021385241363\n"
     ]
    },
    {
     "name": "stderr",
     "output_type": "stream",
     "text": [
      "Validation Epoch 47: 100%|████████████████████████████████████████████████████████████| 20/20 [00:00<00:00, 545.20it/s]\n"
     ]
    },
    {
     "name": "stdout",
     "output_type": "stream",
     "text": [
      "Epoch 47, Validation Loss: 1.5230072796344758, Accuracy: 0.4681528662420382\n"
     ]
    },
    {
     "name": "stderr",
     "output_type": "stream",
     "text": [
      "Training Epoch 48: 100%|██████████████████████████████████████████████████████████████| 59/59 [00:00<00:00, 212.20it/s]\n"
     ]
    },
    {
     "name": "stdout",
     "output_type": "stream",
     "text": [
      "Epoch 48, Training loss: 1.501899606090481\n"
     ]
    },
    {
     "name": "stderr",
     "output_type": "stream",
     "text": [
      "Validation Epoch 48: 100%|████████████████████████████████████████████████████████████| 20/20 [00:00<00:00, 552.38it/s]\n"
     ]
    },
    {
     "name": "stdout",
     "output_type": "stream",
     "text": [
      "Epoch 48, Validation Loss: 1.5188648521900177, Accuracy: 0.4697452229299363\n"
     ]
    },
    {
     "name": "stderr",
     "output_type": "stream",
     "text": [
      "Training Epoch 49: 100%|██████████████████████████████████████████████████████████████| 59/59 [00:00<00:00, 222.81it/s]\n"
     ]
    },
    {
     "name": "stdout",
     "output_type": "stream",
     "text": [
      "Epoch 49, Training loss: 1.5037249023631467\n"
     ]
    },
    {
     "name": "stderr",
     "output_type": "stream",
     "text": [
      "Validation Epoch 49: 100%|████████████████████████████████████████████████████████████| 20/20 [00:00<00:00, 506.30it/s]\n"
     ]
    },
    {
     "name": "stdout",
     "output_type": "stream",
     "text": [
      "Epoch 49, Validation Loss: 1.513858926296234, Accuracy: 0.4745222929936306\n"
     ]
    },
    {
     "name": "stderr",
     "output_type": "stream",
     "text": [
      "Training Epoch 50: 100%|██████████████████████████████████████████████████████████████| 59/59 [00:00<00:00, 203.00it/s]\n"
     ]
    },
    {
     "name": "stdout",
     "output_type": "stream",
     "text": [
      "Epoch 50, Training loss: 1.524238986484075\n"
     ]
    },
    {
     "name": "stderr",
     "output_type": "stream",
     "text": [
      "Validation Epoch 50: 100%|████████████████████████████████████████████████████████████| 20/20 [00:00<00:00, 495.19it/s]\n"
     ]
    },
    {
     "name": "stdout",
     "output_type": "stream",
     "text": [
      "Epoch 50, Validation Loss: 1.510512113571167, Accuracy: 0.48089171974522293\n"
     ]
    },
    {
     "name": "stderr",
     "output_type": "stream",
     "text": [
      "Training Epoch 51: 100%|██████████████████████████████████████████████████████████████| 59/59 [00:00<00:00, 210.11it/s]\n"
     ]
    },
    {
     "name": "stdout",
     "output_type": "stream",
     "text": [
      "Epoch 51, Training loss: 1.4944218397140503\n"
     ]
    },
    {
     "name": "stderr",
     "output_type": "stream",
     "text": [
      "Validation Epoch 51: 100%|████████████████████████████████████████████████████████████| 20/20 [00:00<00:00, 523.89it/s]\n"
     ]
    },
    {
     "name": "stdout",
     "output_type": "stream",
     "text": [
      "Epoch 51, Validation Loss: 1.506177943944931, Accuracy: 0.47929936305732485\n"
     ]
    },
    {
     "name": "stderr",
     "output_type": "stream",
     "text": [
      "Training Epoch 52: 100%|██████████████████████████████████████████████████████████████| 59/59 [00:00<00:00, 208.67it/s]\n"
     ]
    },
    {
     "name": "stdout",
     "output_type": "stream",
     "text": [
      "Epoch 52, Training loss: 1.4740941463890722\n"
     ]
    },
    {
     "name": "stderr",
     "output_type": "stream",
     "text": [
      "Validation Epoch 52: 100%|████████████████████████████████████████████████████████████| 20/20 [00:00<00:00, 523.09it/s]\n"
     ]
    },
    {
     "name": "stdout",
     "output_type": "stream",
     "text": [
      "Epoch 52, Validation Loss: 1.5018372118473053, Accuracy: 0.482484076433121\n"
     ]
    },
    {
     "name": "stderr",
     "output_type": "stream",
     "text": [
      "Training Epoch 53: 100%|██████████████████████████████████████████████████████████████| 59/59 [00:00<00:00, 201.55it/s]\n"
     ]
    },
    {
     "name": "stdout",
     "output_type": "stream",
     "text": [
      "Epoch 53, Training loss: 1.4774554887060392\n"
     ]
    },
    {
     "name": "stderr",
     "output_type": "stream",
     "text": [
      "Validation Epoch 53: 100%|████████████████████████████████████████████████████████████| 20/20 [00:00<00:00, 439.25it/s]\n"
     ]
    },
    {
     "name": "stdout",
     "output_type": "stream",
     "text": [
      "Epoch 53, Validation Loss: 1.4981513440608978, Accuracy: 0.4888535031847134\n"
     ]
    },
    {
     "name": "stderr",
     "output_type": "stream",
     "text": [
      "Training Epoch 54: 100%|██████████████████████████████████████████████████████████████| 59/59 [00:00<00:00, 185.80it/s]\n"
     ]
    },
    {
     "name": "stdout",
     "output_type": "stream",
     "text": [
      "Epoch 54, Training loss: 1.4509025791944083\n"
     ]
    },
    {
     "name": "stderr",
     "output_type": "stream",
     "text": [
      "Validation Epoch 54: 100%|████████████████████████████████████████████████████████████| 20/20 [00:00<00:00, 449.98it/s]\n"
     ]
    },
    {
     "name": "stdout",
     "output_type": "stream",
     "text": [
      "Epoch 54, Validation Loss: 1.4944185972213746, Accuracy: 0.49044585987261147\n"
     ]
    },
    {
     "name": "stderr",
     "output_type": "stream",
     "text": [
      "Training Epoch 55: 100%|██████████████████████████████████████████████████████████████| 59/59 [00:00<00:00, 192.87it/s]\n"
     ]
    },
    {
     "name": "stdout",
     "output_type": "stream",
     "text": [
      "Epoch 55, Training loss: 1.4580854419934548\n"
     ]
    },
    {
     "name": "stderr",
     "output_type": "stream",
     "text": [
      "Validation Epoch 55: 100%|████████████████████████████████████████████████████████████| 20/20 [00:00<00:00, 421.96it/s]\n"
     ]
    },
    {
     "name": "stdout",
     "output_type": "stream",
     "text": [
      "Epoch 55, Validation Loss: 1.490514302253723, Accuracy: 0.49203821656050956\n"
     ]
    },
    {
     "name": "stderr",
     "output_type": "stream",
     "text": [
      "Training Epoch 56: 100%|██████████████████████████████████████████████████████████████| 59/59 [00:00<00:00, 203.76it/s]\n"
     ]
    },
    {
     "name": "stdout",
     "output_type": "stream",
     "text": [
      "Epoch 56, Training loss: 1.4661596488144437\n"
     ]
    },
    {
     "name": "stderr",
     "output_type": "stream",
     "text": [
      "Validation Epoch 56: 100%|████████████████████████████████████████████████████████████| 20/20 [00:00<00:00, 493.07it/s]\n"
     ]
    },
    {
     "name": "stdout",
     "output_type": "stream",
     "text": [
      "Epoch 56, Validation Loss: 1.4864099144935607, Accuracy: 0.49203821656050956\n"
     ]
    },
    {
     "name": "stderr",
     "output_type": "stream",
     "text": [
      "Training Epoch 57: 100%|██████████████████████████████████████████████████████████████| 59/59 [00:00<00:00, 226.25it/s]\n"
     ]
    },
    {
     "name": "stdout",
     "output_type": "stream",
     "text": [
      "Epoch 57, Training loss: 1.440049153263286\n"
     ]
    },
    {
     "name": "stderr",
     "output_type": "stream",
     "text": [
      "Validation Epoch 57: 100%|████████████████████████████████████████████████████████████| 20/20 [00:00<00:00, 363.37it/s]\n"
     ]
    },
    {
     "name": "stdout",
     "output_type": "stream",
     "text": [
      "Epoch 57, Validation Loss: 1.482088714838028, Accuracy: 0.4968152866242038\n"
     ]
    },
    {
     "name": "stderr",
     "output_type": "stream",
     "text": [
      "Training Epoch 58: 100%|██████████████████████████████████████████████████████████████| 59/59 [00:00<00:00, 211.54it/s]\n"
     ]
    },
    {
     "name": "stdout",
     "output_type": "stream",
     "text": [
      "Epoch 58, Training loss: 1.4349699727559493\n"
     ]
    },
    {
     "name": "stderr",
     "output_type": "stream",
     "text": [
      "Validation Epoch 58: 100%|████████████████████████████████████████████████████████████| 20/20 [00:00<00:00, 541.10it/s]\n"
     ]
    },
    {
     "name": "stdout",
     "output_type": "stream",
     "text": [
      "Epoch 58, Validation Loss: 1.4777507483959198, Accuracy: 0.4968152866242038\n"
     ]
    },
    {
     "name": "stderr",
     "output_type": "stream",
     "text": [
      "Training Epoch 59: 100%|██████████████████████████████████████████████████████████████| 59/59 [00:00<00:00, 195.03it/s]\n"
     ]
    },
    {
     "name": "stdout",
     "output_type": "stream",
     "text": [
      "Epoch 59, Training loss: 1.4327446687019478\n"
     ]
    },
    {
     "name": "stderr",
     "output_type": "stream",
     "text": [
      "Validation Epoch 59: 100%|████████████████████████████████████████████████████████████| 20/20 [00:00<00:00, 554.91it/s]\n"
     ]
    },
    {
     "name": "stdout",
     "output_type": "stream",
     "text": [
      "Epoch 59, Validation Loss: 1.4747369110584259, Accuracy: 0.5047770700636943\n"
     ]
    },
    {
     "name": "stderr",
     "output_type": "stream",
     "text": [
      "Training Epoch 60: 100%|██████████████████████████████████████████████████████████████| 59/59 [00:00<00:00, 204.80it/s]\n"
     ]
    },
    {
     "name": "stdout",
     "output_type": "stream",
     "text": [
      "Epoch 60, Training loss: 1.422535152758582\n"
     ]
    },
    {
     "name": "stderr",
     "output_type": "stream",
     "text": [
      "Validation Epoch 60: 100%|████████████████████████████████████████████████████████████| 20/20 [00:00<00:00, 515.04it/s]\n"
     ]
    },
    {
     "name": "stdout",
     "output_type": "stream",
     "text": [
      "Epoch 60, Validation Loss: 1.4707930505275726, Accuracy: 0.5047770700636943\n"
     ]
    },
    {
     "name": "stderr",
     "output_type": "stream",
     "text": [
      "Training Epoch 61: 100%|██████████████████████████████████████████████████████████████| 59/59 [00:00<00:00, 208.33it/s]\n"
     ]
    },
    {
     "name": "stdout",
     "output_type": "stream",
     "text": [
      "Epoch 61, Training loss: 1.4213785215959711\n"
     ]
    },
    {
     "name": "stderr",
     "output_type": "stream",
     "text": [
      "Validation Epoch 61: 100%|████████████████████████████████████████████████████████████| 20/20 [00:00<00:00, 443.61it/s]\n"
     ]
    },
    {
     "name": "stdout",
     "output_type": "stream",
     "text": [
      "Epoch 61, Validation Loss: 1.4667822539806366, Accuracy: 0.5063694267515924\n"
     ]
    },
    {
     "name": "stderr",
     "output_type": "stream",
     "text": [
      "Training Epoch 62: 100%|██████████████████████████████████████████████████████████████| 59/59 [00:00<00:00, 197.95it/s]\n"
     ]
    },
    {
     "name": "stdout",
     "output_type": "stream",
     "text": [
      "Epoch 62, Training loss: 1.4086115441079867\n"
     ]
    },
    {
     "name": "stderr",
     "output_type": "stream",
     "text": [
      "Validation Epoch 62: 100%|████████████████████████████████████████████████████████████| 20/20 [00:00<00:00, 536.96it/s]\n"
     ]
    },
    {
     "name": "stdout",
     "output_type": "stream",
     "text": [
      "Epoch 62, Validation Loss: 1.462723970413208, Accuracy: 0.5111464968152867\n"
     ]
    },
    {
     "name": "stderr",
     "output_type": "stream",
     "text": [
      "Training Epoch 63: 100%|██████████████████████████████████████████████████████████████| 59/59 [00:00<00:00, 196.78it/s]\n"
     ]
    },
    {
     "name": "stdout",
     "output_type": "stream",
     "text": [
      "Epoch 63, Training loss: 1.4129823769553234\n"
     ]
    },
    {
     "name": "stderr",
     "output_type": "stream",
     "text": [
      "Validation Epoch 63: 100%|████████████████████████████████████████████████████████████| 20/20 [00:00<00:00, 528.15it/s]\n"
     ]
    },
    {
     "name": "stdout",
     "output_type": "stream",
     "text": [
      "Epoch 63, Validation Loss: 1.4591921627521516, Accuracy: 0.5127388535031847\n"
     ]
    },
    {
     "name": "stderr",
     "output_type": "stream",
     "text": [
      "Training Epoch 64: 100%|██████████████████████████████████████████████████████████████| 59/59 [00:00<00:00, 205.71it/s]\n"
     ]
    },
    {
     "name": "stdout",
     "output_type": "stream",
     "text": [
      "Epoch 64, Training loss: 1.3864629248441276\n"
     ]
    },
    {
     "name": "stderr",
     "output_type": "stream",
     "text": [
      "Validation Epoch 64: 100%|████████████████████████████████████████████████████████████| 20/20 [00:00<00:00, 527.25it/s]\n"
     ]
    },
    {
     "name": "stdout",
     "output_type": "stream",
     "text": [
      "Epoch 64, Validation Loss: 1.4557273626327514, Accuracy: 0.5159235668789809\n"
     ]
    },
    {
     "name": "stderr",
     "output_type": "stream",
     "text": [
      "Training Epoch 65: 100%|██████████████████████████████████████████████████████████████| 59/59 [00:00<00:00, 204.48it/s]\n"
     ]
    },
    {
     "name": "stdout",
     "output_type": "stream",
     "text": [
      "Epoch 65, Training loss: 1.3832866559594363\n"
     ]
    },
    {
     "name": "stderr",
     "output_type": "stream",
     "text": [
      "Validation Epoch 65: 100%|████████████████████████████████████████████████████████████| 20/20 [00:00<00:00, 439.77it/s]\n"
     ]
    },
    {
     "name": "stdout",
     "output_type": "stream",
     "text": [
      "Epoch 65, Validation Loss: 1.452037274837494, Accuracy: 0.517515923566879\n"
     ]
    },
    {
     "name": "stderr",
     "output_type": "stream",
     "text": [
      "Training Epoch 66: 100%|██████████████████████████████████████████████████████████████| 59/59 [00:00<00:00, 200.90it/s]\n"
     ]
    },
    {
     "name": "stdout",
     "output_type": "stream",
     "text": [
      "Epoch 66, Training loss: 1.3926174943729983\n"
     ]
    },
    {
     "name": "stderr",
     "output_type": "stream",
     "text": [
      "Validation Epoch 66: 100%|████████████████████████████████████████████████████████████| 20/20 [00:00<00:00, 518.59it/s]\n"
     ]
    },
    {
     "name": "stdout",
     "output_type": "stream",
     "text": [
      "Epoch 66, Validation Loss: 1.448011839389801, Accuracy: 0.5143312101910829\n"
     ]
    },
    {
     "name": "stderr",
     "output_type": "stream",
     "text": [
      "Training Epoch 67: 100%|██████████████████████████████████████████████████████████████| 59/59 [00:00<00:00, 217.67it/s]\n"
     ]
    },
    {
     "name": "stdout",
     "output_type": "stream",
     "text": [
      "Epoch 67, Training loss: 1.3857608589075379\n"
     ]
    },
    {
     "name": "stderr",
     "output_type": "stream",
     "text": [
      "Validation Epoch 67: 100%|████████████████████████████████████████████████████████████| 20/20 [00:00<00:00, 425.82it/s]\n"
     ]
    },
    {
     "name": "stdout",
     "output_type": "stream",
     "text": [
      "Epoch 67, Validation Loss: 1.4437541365623474, Accuracy: 0.5159235668789809\n"
     ]
    },
    {
     "name": "stderr",
     "output_type": "stream",
     "text": [
      "Training Epoch 68: 100%|██████████████████████████████████████████████████████████████| 59/59 [00:00<00:00, 202.27it/s]\n"
     ]
    },
    {
     "name": "stdout",
     "output_type": "stream",
     "text": [
      "Epoch 68, Training loss: 1.3785244549735118\n"
     ]
    },
    {
     "name": "stderr",
     "output_type": "stream",
     "text": [
      "Validation Epoch 68: 100%|████████████████████████████████████████████████████████████| 20/20 [00:00<00:00, 509.15it/s]\n"
     ]
    },
    {
     "name": "stdout",
     "output_type": "stream",
     "text": [
      "Epoch 68, Validation Loss: 1.4401537656784058, Accuracy: 0.5111464968152867\n"
     ]
    },
    {
     "name": "stderr",
     "output_type": "stream",
     "text": [
      "Training Epoch 69: 100%|██████████████████████████████████████████████████████████████| 59/59 [00:00<00:00, 190.37it/s]\n"
     ]
    },
    {
     "name": "stdout",
     "output_type": "stream",
     "text": [
      "Epoch 69, Training loss: 1.3750360577793446\n"
     ]
    },
    {
     "name": "stderr",
     "output_type": "stream",
     "text": [
      "Validation Epoch 69: 100%|████████████████████████████████████████████████████████████| 20/20 [00:00<00:00, 336.87it/s]\n"
     ]
    },
    {
     "name": "stdout",
     "output_type": "stream",
     "text": [
      "Epoch 69, Validation Loss: 1.4365675806999207, Accuracy: 0.5143312101910829\n"
     ]
    },
    {
     "name": "stderr",
     "output_type": "stream",
     "text": [
      "Training Epoch 70: 100%|██████████████████████████████████████████████████████████████| 59/59 [00:00<00:00, 211.54it/s]\n"
     ]
    },
    {
     "name": "stdout",
     "output_type": "stream",
     "text": [
      "Epoch 70, Training loss: 1.3608288441674183\n"
     ]
    },
    {
     "name": "stderr",
     "output_type": "stream",
     "text": [
      "Validation Epoch 70: 100%|████████████████████████████████████████████████████████████| 20/20 [00:00<00:00, 498.52it/s]\n"
     ]
    },
    {
     "name": "stdout",
     "output_type": "stream",
     "text": [
      "Epoch 70, Validation Loss: 1.433127897977829, Accuracy: 0.5191082802547771\n"
     ]
    },
    {
     "name": "stderr",
     "output_type": "stream",
     "text": [
      "Training Epoch 71: 100%|██████████████████████████████████████████████████████████████| 59/59 [00:00<00:00, 197.70it/s]\n"
     ]
    },
    {
     "name": "stdout",
     "output_type": "stream",
     "text": [
      "Epoch 71, Training loss: 1.3641292584144462\n"
     ]
    },
    {
     "name": "stderr",
     "output_type": "stream",
     "text": [
      "Validation Epoch 71: 100%|████████████████████████████████████████████████████████████| 20/20 [00:00<00:00, 325.47it/s]\n"
     ]
    },
    {
     "name": "stdout",
     "output_type": "stream",
     "text": [
      "Epoch 71, Validation Loss: 1.42989462018013, Accuracy: 0.5238853503184714\n"
     ]
    },
    {
     "name": "stderr",
     "output_type": "stream",
     "text": [
      "Training Epoch 72: 100%|██████████████████████████████████████████████████████████████| 59/59 [00:00<00:00, 189.69it/s]\n"
     ]
    },
    {
     "name": "stdout",
     "output_type": "stream",
     "text": [
      "Epoch 72, Training loss: 1.3580887378272364\n"
     ]
    },
    {
     "name": "stderr",
     "output_type": "stream",
     "text": [
      "Validation Epoch 72: 100%|████████████████████████████████████████████████████████████| 20/20 [00:00<00:00, 538.80it/s]\n"
     ]
    },
    {
     "name": "stdout",
     "output_type": "stream",
     "text": [
      "Epoch 72, Validation Loss: 1.4262439608573914, Accuracy: 0.5286624203821656\n"
     ]
    },
    {
     "name": "stderr",
     "output_type": "stream",
     "text": [
      "Training Epoch 73: 100%|██████████████████████████████████████████████████████████████| 59/59 [00:00<00:00, 191.96it/s]\n"
     ]
    },
    {
     "name": "stdout",
     "output_type": "stream",
     "text": [
      "Epoch 73, Training loss: 1.3395332603131311\n"
     ]
    },
    {
     "name": "stderr",
     "output_type": "stream",
     "text": [
      "Validation Epoch 73: 100%|████████████████████████████████████████████████████████████| 20/20 [00:00<00:00, 558.93it/s]\n"
     ]
    },
    {
     "name": "stdout",
     "output_type": "stream",
     "text": [
      "Epoch 73, Validation Loss: 1.4229294180870056, Accuracy: 0.5270700636942676\n"
     ]
    },
    {
     "name": "stderr",
     "output_type": "stream",
     "text": [
      "Training Epoch 74: 100%|██████████████████████████████████████████████████████████████| 59/59 [00:00<00:00, 190.01it/s]\n"
     ]
    },
    {
     "name": "stdout",
     "output_type": "stream",
     "text": [
      "Epoch 74, Training loss: 1.3353781508187117\n"
     ]
    },
    {
     "name": "stderr",
     "output_type": "stream",
     "text": [
      "Validation Epoch 74: 100%|████████████████████████████████████████████████████████████| 20/20 [00:00<00:00, 528.08it/s]\n"
     ]
    },
    {
     "name": "stdout",
     "output_type": "stream",
     "text": [
      "Epoch 74, Validation Loss: 1.419042444229126, Accuracy: 0.5286624203821656\n"
     ]
    },
    {
     "name": "stderr",
     "output_type": "stream",
     "text": [
      "Training Epoch 75: 100%|██████████████████████████████████████████████████████████████| 59/59 [00:00<00:00, 203.24it/s]\n"
     ]
    },
    {
     "name": "stdout",
     "output_type": "stream",
     "text": [
      "Epoch 75, Training loss: 1.335999290821916\n"
     ]
    },
    {
     "name": "stderr",
     "output_type": "stream",
     "text": [
      "Validation Epoch 75: 100%|████████████████████████████████████████████████████████████| 20/20 [00:00<00:00, 529.61it/s]\n"
     ]
    },
    {
     "name": "stdout",
     "output_type": "stream",
     "text": [
      "Epoch 75, Validation Loss: 1.4155908942222595, Accuracy: 0.5286624203821656\n"
     ]
    },
    {
     "name": "stderr",
     "output_type": "stream",
     "text": [
      "Training Epoch 76: 100%|██████████████████████████████████████████████████████████████| 59/59 [00:00<00:00, 189.18it/s]\n"
     ]
    },
    {
     "name": "stdout",
     "output_type": "stream",
     "text": [
      "Epoch 76, Training loss: 1.3268768787384033\n"
     ]
    },
    {
     "name": "stderr",
     "output_type": "stream",
     "text": [
      "Validation Epoch 76: 100%|████████████████████████████████████████████████████████████| 20/20 [00:00<00:00, 456.25it/s]\n"
     ]
    },
    {
     "name": "stdout",
     "output_type": "stream",
     "text": [
      "Epoch 76, Validation Loss: 1.4121153891086577, Accuracy: 0.5302547770700637\n"
     ]
    },
    {
     "name": "stderr",
     "output_type": "stream",
     "text": [
      "Training Epoch 77: 100%|██████████████████████████████████████████████████████████████| 59/59 [00:00<00:00, 202.43it/s]\n"
     ]
    },
    {
     "name": "stdout",
     "output_type": "stream",
     "text": [
      "Epoch 77, Training loss: 1.3222748889761455\n"
     ]
    },
    {
     "name": "stderr",
     "output_type": "stream",
     "text": [
      "Validation Epoch 77: 100%|████████████████████████████████████████████████████████████| 20/20 [00:00<00:00, 540.91it/s]\n"
     ]
    },
    {
     "name": "stdout",
     "output_type": "stream",
     "text": [
      "Epoch 77, Validation Loss: 1.4088740944862366, Accuracy: 0.5318471337579618\n"
     ]
    },
    {
     "name": "stderr",
     "output_type": "stream",
     "text": [
      "Training Epoch 78: 100%|██████████████████████████████████████████████████████████████| 59/59 [00:00<00:00, 211.18it/s]\n"
     ]
    },
    {
     "name": "stdout",
     "output_type": "stream",
     "text": [
      "Epoch 78, Training loss: 1.332368622391911\n"
     ]
    },
    {
     "name": "stderr",
     "output_type": "stream",
     "text": [
      "Validation Epoch 78: 100%|████████████████████████████████████████████████████████████| 20/20 [00:00<00:00, 512.69it/s]\n"
     ]
    },
    {
     "name": "stdout",
     "output_type": "stream",
     "text": [
      "Epoch 78, Validation Loss: 1.4050939559936524, Accuracy: 0.5318471337579618\n"
     ]
    },
    {
     "name": "stderr",
     "output_type": "stream",
     "text": [
      "Training Epoch 79: 100%|██████████████████████████████████████████████████████████████| 59/59 [00:00<00:00, 206.84it/s]\n"
     ]
    },
    {
     "name": "stdout",
     "output_type": "stream",
     "text": [
      "Epoch 79, Training loss: 1.3102212113849188\n"
     ]
    },
    {
     "name": "stderr",
     "output_type": "stream",
     "text": [
      "Validation Epoch 79: 100%|████████████████████████████████████████████████████████████| 20/20 [00:00<00:00, 449.03it/s]\n"
     ]
    },
    {
     "name": "stdout",
     "output_type": "stream",
     "text": [
      "Epoch 79, Validation Loss: 1.4014823019504548, Accuracy: 0.5334394904458599\n"
     ]
    },
    {
     "name": "stderr",
     "output_type": "stream",
     "text": [
      "Training Epoch 80: 100%|██████████████████████████████████████████████████████████████| 59/59 [00:00<00:00, 201.67it/s]\n"
     ]
    },
    {
     "name": "stdout",
     "output_type": "stream",
     "text": [
      "Epoch 80, Training loss: 1.310831605377844\n"
     ]
    },
    {
     "name": "stderr",
     "output_type": "stream",
     "text": [
      "Validation Epoch 80: 100%|████████████████████████████████████████████████████████████| 20/20 [00:00<00:00, 551.99it/s]\n"
     ]
    },
    {
     "name": "stdout",
     "output_type": "stream",
     "text": [
      "Epoch 80, Validation Loss: 1.3986551403999328, Accuracy: 0.5382165605095541\n"
     ]
    },
    {
     "name": "stderr",
     "output_type": "stream",
     "text": [
      "Training Epoch 81: 100%|██████████████████████████████████████████████████████████████| 59/59 [00:00<00:00, 212.60it/s]\n"
     ]
    },
    {
     "name": "stdout",
     "output_type": "stream",
     "text": [
      "Epoch 81, Training loss: 1.2757337780322058\n"
     ]
    },
    {
     "name": "stderr",
     "output_type": "stream",
     "text": [
      "Validation Epoch 81: 100%|████████████████████████████████████████████████████████████| 20/20 [00:00<00:00, 369.52it/s]\n"
     ]
    },
    {
     "name": "stdout",
     "output_type": "stream",
     "text": [
      "Epoch 81, Validation Loss: 1.3956953942775727, Accuracy: 0.5398089171974523\n"
     ]
    },
    {
     "name": "stderr",
     "output_type": "stream",
     "text": [
      "Training Epoch 82: 100%|██████████████████████████████████████████████████████████████| 59/59 [00:00<00:00, 217.07it/s]\n"
     ]
    },
    {
     "name": "stdout",
     "output_type": "stream",
     "text": [
      "Epoch 82, Training loss: 1.276854082689447\n"
     ]
    },
    {
     "name": "stderr",
     "output_type": "stream",
     "text": [
      "Validation Epoch 82: 100%|████████████████████████████████████████████████████████████| 20/20 [00:00<00:00, 487.51it/s]\n"
     ]
    },
    {
     "name": "stdout",
     "output_type": "stream",
     "text": [
      "Epoch 82, Validation Loss: 1.3918421030044557, Accuracy: 0.5414012738853503\n"
     ]
    },
    {
     "name": "stderr",
     "output_type": "stream",
     "text": [
      "Training Epoch 83: 100%|██████████████████████████████████████████████████████████████| 59/59 [00:00<00:00, 185.13it/s]\n"
     ]
    },
    {
     "name": "stdout",
     "output_type": "stream",
     "text": [
      "Epoch 83, Training loss: 1.2955550056392864\n"
     ]
    },
    {
     "name": "stderr",
     "output_type": "stream",
     "text": [
      "Validation Epoch 83: 100%|████████████████████████████████████████████████████████████| 20/20 [00:00<00:00, 481.00it/s]\n"
     ]
    },
    {
     "name": "stdout",
     "output_type": "stream",
     "text": [
      "Epoch 83, Validation Loss: 1.3883245587348938, Accuracy: 0.5398089171974523\n"
     ]
    },
    {
     "name": "stderr",
     "output_type": "stream",
     "text": [
      "Training Epoch 84: 100%|██████████████████████████████████████████████████████████████| 59/59 [00:00<00:00, 196.63it/s]\n"
     ]
    },
    {
     "name": "stdout",
     "output_type": "stream",
     "text": [
      "Epoch 84, Training loss: 1.2779801669767348\n"
     ]
    },
    {
     "name": "stderr",
     "output_type": "stream",
     "text": [
      "Validation Epoch 84: 100%|████████████████████████████████████████████████████████████| 20/20 [00:00<00:00, 339.03it/s]\n"
     ]
    },
    {
     "name": "stdout",
     "output_type": "stream",
     "text": [
      "Epoch 84, Validation Loss: 1.3853811621665955, Accuracy: 0.5429936305732485\n"
     ]
    },
    {
     "name": "stderr",
     "output_type": "stream",
     "text": [
      "Training Epoch 85: 100%|██████████████████████████████████████████████████████████████| 59/59 [00:00<00:00, 184.42it/s]\n"
     ]
    },
    {
     "name": "stdout",
     "output_type": "stream",
     "text": [
      "Epoch 85, Training loss: 1.2742727984816342\n"
     ]
    },
    {
     "name": "stderr",
     "output_type": "stream",
     "text": [
      "Validation Epoch 85: 100%|████████████████████████████████████████████████████████████| 20/20 [00:00<00:00, 498.83it/s]\n"
     ]
    },
    {
     "name": "stdout",
     "output_type": "stream",
     "text": [
      "Epoch 85, Validation Loss: 1.38196057677269, Accuracy: 0.5429936305732485\n"
     ]
    },
    {
     "name": "stderr",
     "output_type": "stream",
     "text": [
      "Training Epoch 86: 100%|██████████████████████████████████████████████████████████████| 59/59 [00:00<00:00, 209.04it/s]\n"
     ]
    },
    {
     "name": "stdout",
     "output_type": "stream",
     "text": [
      "Epoch 86, Training loss: 1.2624539682420635\n"
     ]
    },
    {
     "name": "stderr",
     "output_type": "stream",
     "text": [
      "Validation Epoch 86: 100%|████████████████████████████████████████████████████████████| 20/20 [00:00<00:00, 531.83it/s]\n"
     ]
    },
    {
     "name": "stdout",
     "output_type": "stream",
     "text": [
      "Epoch 86, Validation Loss: 1.3785375118255616, Accuracy: 0.5461783439490446\n"
     ]
    },
    {
     "name": "stderr",
     "output_type": "stream",
     "text": [
      "Training Epoch 87: 100%|██████████████████████████████████████████████████████████████| 59/59 [00:00<00:00, 191.87it/s]\n"
     ]
    },
    {
     "name": "stdout",
     "output_type": "stream",
     "text": [
      "Epoch 87, Training loss: 1.2531289044073073\n"
     ]
    },
    {
     "name": "stderr",
     "output_type": "stream",
     "text": [
      "Validation Epoch 87: 100%|████████████████████████████████████████████████████████████| 20/20 [00:00<00:00, 496.76it/s]\n"
     ]
    },
    {
     "name": "stdout",
     "output_type": "stream",
     "text": [
      "Epoch 87, Validation Loss: 1.3755937397480011, Accuracy: 0.5461783439490446\n"
     ]
    },
    {
     "name": "stderr",
     "output_type": "stream",
     "text": [
      "Training Epoch 88: 100%|██████████████████████████████████████████████████████████████| 59/59 [00:00<00:00, 213.19it/s]\n"
     ]
    },
    {
     "name": "stdout",
     "output_type": "stream",
     "text": [
      "Epoch 88, Training loss: 1.255349758317915\n"
     ]
    },
    {
     "name": "stderr",
     "output_type": "stream",
     "text": [
      "Validation Epoch 88: 100%|████████████████████████████████████████████████████████████| 20/20 [00:00<00:00, 513.82it/s]\n"
     ]
    },
    {
     "name": "stdout",
     "output_type": "stream",
     "text": [
      "Epoch 88, Validation Loss: 1.3721004903316498, Accuracy: 0.5493630573248408\n"
     ]
    },
    {
     "name": "stderr",
     "output_type": "stream",
     "text": [
      "Training Epoch 89: 100%|██████████████████████████████████████████████████████████████| 59/59 [00:00<00:00, 208.63it/s]\n"
     ]
    },
    {
     "name": "stdout",
     "output_type": "stream",
     "text": [
      "Epoch 89, Training loss: 1.265175466820345\n"
     ]
    },
    {
     "name": "stderr",
     "output_type": "stream",
     "text": [
      "Validation Epoch 89: 100%|████████████████████████████████████████████████████████████| 20/20 [00:00<00:00, 489.94it/s]\n"
     ]
    },
    {
     "name": "stdout",
     "output_type": "stream",
     "text": [
      "Epoch 89, Validation Loss: 1.3686694920063018, Accuracy: 0.5509554140127388\n"
     ]
    },
    {
     "name": "stderr",
     "output_type": "stream",
     "text": [
      "Training Epoch 90: 100%|██████████████████████████████████████████████████████████████| 59/59 [00:00<00:00, 199.05it/s]\n"
     ]
    },
    {
     "name": "stdout",
     "output_type": "stream",
     "text": [
      "Epoch 90, Training loss: 1.2555855189339589\n"
     ]
    },
    {
     "name": "stderr",
     "output_type": "stream",
     "text": [
      "Validation Epoch 90: 100%|████████████████████████████████████████████████████████████| 20/20 [00:00<00:00, 499.43it/s]\n"
     ]
    },
    {
     "name": "stdout",
     "output_type": "stream",
     "text": [
      "Epoch 90, Validation Loss: 1.3659168422222137, Accuracy: 0.5493630573248408\n"
     ]
    },
    {
     "name": "stderr",
     "output_type": "stream",
     "text": [
      "Training Epoch 91: 100%|██████████████████████████████████████████████████████████████| 59/59 [00:00<00:00, 197.51it/s]\n"
     ]
    },
    {
     "name": "stdout",
     "output_type": "stream",
     "text": [
      "Epoch 91, Training loss: 1.2347084950592557\n"
     ]
    },
    {
     "name": "stderr",
     "output_type": "stream",
     "text": [
      "Validation Epoch 91: 100%|████████████████████████████████████████████████████████████| 20/20 [00:00<00:00, 513.42it/s]\n"
     ]
    },
    {
     "name": "stdout",
     "output_type": "stream",
     "text": [
      "Epoch 91, Validation Loss: 1.3624696612358094, Accuracy: 0.5509554140127388\n"
     ]
    },
    {
     "name": "stderr",
     "output_type": "stream",
     "text": [
      "Training Epoch 92: 100%|██████████████████████████████████████████████████████████████| 59/59 [00:00<00:00, 197.00it/s]\n"
     ]
    },
    {
     "name": "stdout",
     "output_type": "stream",
     "text": [
      "Epoch 92, Training loss: 1.2400753003055767\n"
     ]
    },
    {
     "name": "stderr",
     "output_type": "stream",
     "text": [
      "Validation Epoch 92: 100%|████████████████████████████████████████████████████████████| 20/20 [00:00<00:00, 517.39it/s]\n"
     ]
    },
    {
     "name": "stdout",
     "output_type": "stream",
     "text": [
      "Epoch 92, Validation Loss: 1.3599008679389955, Accuracy: 0.5509554140127388\n"
     ]
    },
    {
     "name": "stderr",
     "output_type": "stream",
     "text": [
      "Training Epoch 93: 100%|██████████████████████████████████████████████████████████████| 59/59 [00:00<00:00, 201.49it/s]\n"
     ]
    },
    {
     "name": "stdout",
     "output_type": "stream",
     "text": [
      "Epoch 93, Training loss: 1.2305798894267972\n"
     ]
    },
    {
     "name": "stderr",
     "output_type": "stream",
     "text": [
      "Validation Epoch 93: 100%|████████████████████████████████████████████████████████████| 20/20 [00:00<00:00, 494.11it/s]\n"
     ]
    },
    {
     "name": "stdout",
     "output_type": "stream",
     "text": [
      "Epoch 93, Validation Loss: 1.3571961998939515, Accuracy: 0.554140127388535\n"
     ]
    },
    {
     "name": "stderr",
     "output_type": "stream",
     "text": [
      "Training Epoch 94: 100%|██████████████████████████████████████████████████████████████| 59/59 [00:00<00:00, 205.65it/s]\n"
     ]
    },
    {
     "name": "stdout",
     "output_type": "stream",
     "text": [
      "Epoch 94, Training loss: 1.2208735791303345\n"
     ]
    },
    {
     "name": "stderr",
     "output_type": "stream",
     "text": [
      "Validation Epoch 94: 100%|████████████████████████████████████████████████████████████| 20/20 [00:00<00:00, 486.34it/s]\n"
     ]
    },
    {
     "name": "stdout",
     "output_type": "stream",
     "text": [
      "Epoch 94, Validation Loss: 1.354044461250305, Accuracy: 0.5509554140127388\n"
     ]
    },
    {
     "name": "stderr",
     "output_type": "stream",
     "text": [
      "Training Epoch 95: 100%|██████████████████████████████████████████████████████████████| 59/59 [00:00<00:00, 203.84it/s]\n"
     ]
    },
    {
     "name": "stdout",
     "output_type": "stream",
     "text": [
      "Epoch 95, Training loss: 1.2041068178112224\n"
     ]
    },
    {
     "name": "stderr",
     "output_type": "stream",
     "text": [
      "Validation Epoch 95: 100%|████████████████████████████████████████████████████████████| 20/20 [00:00<00:00, 528.06it/s]\n"
     ]
    },
    {
     "name": "stdout",
     "output_type": "stream",
     "text": [
      "Epoch 95, Validation Loss: 1.3506675839424134, Accuracy: 0.5477707006369427\n"
     ]
    },
    {
     "name": "stderr",
     "output_type": "stream",
     "text": [
      "Training Epoch 96: 100%|██████████████████████████████████████████████████████████████| 59/59 [00:00<00:00, 203.22it/s]\n"
     ]
    },
    {
     "name": "stdout",
     "output_type": "stream",
     "text": [
      "Epoch 96, Training loss: 1.222070891978377\n"
     ]
    },
    {
     "name": "stderr",
     "output_type": "stream",
     "text": [
      "Validation Epoch 96: 100%|████████████████████████████████████████████████████████████| 20/20 [00:00<00:00, 534.87it/s]\n"
     ]
    },
    {
     "name": "stdout",
     "output_type": "stream",
     "text": [
      "Epoch 96, Validation Loss: 1.3476698756217957, Accuracy: 0.5493630573248408\n"
     ]
    },
    {
     "name": "stderr",
     "output_type": "stream",
     "text": [
      "Training Epoch 97: 100%|██████████████████████████████████████████████████████████████| 59/59 [00:00<00:00, 204.78it/s]\n"
     ]
    },
    {
     "name": "stdout",
     "output_type": "stream",
     "text": [
      "Epoch 97, Training loss: 1.2176576388084281\n"
     ]
    },
    {
     "name": "stderr",
     "output_type": "stream",
     "text": [
      "Validation Epoch 97: 100%|████████████████████████████████████████████████████████████| 20/20 [00:00<00:00, 538.96it/s]\n"
     ]
    },
    {
     "name": "stdout",
     "output_type": "stream",
     "text": [
      "Epoch 97, Validation Loss: 1.344693261384964, Accuracy: 0.5509554140127388\n"
     ]
    },
    {
     "name": "stderr",
     "output_type": "stream",
     "text": [
      "Training Epoch 98: 100%|██████████████████████████████████████████████████████████████| 59/59 [00:00<00:00, 205.28it/s]\n"
     ]
    },
    {
     "name": "stdout",
     "output_type": "stream",
     "text": [
      "Epoch 98, Training loss: 1.1816676824779835\n"
     ]
    },
    {
     "name": "stderr",
     "output_type": "stream",
     "text": [
      "Validation Epoch 98: 100%|████████████████████████████████████████████████████████████| 20/20 [00:00<00:00, 535.20it/s]\n"
     ]
    },
    {
     "name": "stdout",
     "output_type": "stream",
     "text": [
      "Epoch 98, Validation Loss: 1.3416473746299744, Accuracy: 0.552547770700637\n"
     ]
    },
    {
     "name": "stderr",
     "output_type": "stream",
     "text": [
      "Training Epoch 99: 100%|██████████████████████████████████████████████████████████████| 59/59 [00:00<00:00, 199.81it/s]\n"
     ]
    },
    {
     "name": "stdout",
     "output_type": "stream",
     "text": [
      "Epoch 99, Training loss: 1.2129117614131864\n"
     ]
    },
    {
     "name": "stderr",
     "output_type": "stream",
     "text": [
      "Validation Epoch 99: 100%|████████████████████████████████████████████████████████████| 20/20 [00:00<00:00, 458.81it/s]\n"
     ]
    },
    {
     "name": "stdout",
     "output_type": "stream",
     "text": [
      "Epoch 99, Validation Loss: 1.339026427268982, Accuracy: 0.554140127388535\n"
     ]
    },
    {
     "name": "stderr",
     "output_type": "stream",
     "text": [
      "Training Epoch 100: 100%|█████████████████████████████████████████████████████████████| 59/59 [00:00<00:00, 201.45it/s]\n"
     ]
    },
    {
     "name": "stdout",
     "output_type": "stream",
     "text": [
      "Epoch 100, Training loss: 1.1899413102764194\n"
     ]
    },
    {
     "name": "stderr",
     "output_type": "stream",
     "text": [
      "Validation Epoch 100: 100%|███████████████████████████████████████████████████████████| 20/20 [00:00<00:00, 475.28it/s]\n"
     ]
    },
    {
     "name": "stdout",
     "output_type": "stream",
     "text": [
      "Epoch 100, Validation Loss: 1.3358667492866516, Accuracy: 0.554140127388535\n"
     ]
    },
    {
     "name": "stderr",
     "output_type": "stream",
     "text": [
      "Training Epoch 101: 100%|█████████████████████████████████████████████████████████████| 59/59 [00:00<00:00, 201.94it/s]\n"
     ]
    },
    {
     "name": "stdout",
     "output_type": "stream",
     "text": [
      "Epoch 101, Training loss: 1.1881475650658042\n"
     ]
    },
    {
     "name": "stderr",
     "output_type": "stream",
     "text": [
      "Validation Epoch 101: 100%|███████████████████████████████████████████████████████████| 20/20 [00:00<00:00, 484.71it/s]\n"
     ]
    },
    {
     "name": "stdout",
     "output_type": "stream",
     "text": [
      "Epoch 101, Validation Loss: 1.3327092051506042, Accuracy: 0.554140127388535\n"
     ]
    },
    {
     "name": "stderr",
     "output_type": "stream",
     "text": [
      "Training Epoch 102: 100%|█████████████████████████████████████████████████████████████| 59/59 [00:00<00:00, 190.86it/s]\n"
     ]
    },
    {
     "name": "stdout",
     "output_type": "stream",
     "text": [
      "Epoch 102, Training loss: 1.1724162293692766\n"
     ]
    },
    {
     "name": "stderr",
     "output_type": "stream",
     "text": [
      "Validation Epoch 102: 100%|███████████████████████████████████████████████████████████| 20/20 [00:00<00:00, 480.26it/s]\n"
     ]
    },
    {
     "name": "stdout",
     "output_type": "stream",
     "text": [
      "Epoch 102, Validation Loss: 1.3297968566417695, Accuracy: 0.554140127388535\n"
     ]
    },
    {
     "name": "stderr",
     "output_type": "stream",
     "text": [
      "Training Epoch 103: 100%|█████████████████████████████████████████████████████████████| 59/59 [00:00<00:00, 174.21it/s]\n"
     ]
    },
    {
     "name": "stdout",
     "output_type": "stream",
     "text": [
      "Epoch 103, Training loss: 1.1874141198093608\n"
     ]
    },
    {
     "name": "stderr",
     "output_type": "stream",
     "text": [
      "Validation Epoch 103: 100%|███████████████████████████████████████████████████████████| 20/20 [00:00<00:00, 412.71it/s]\n"
     ]
    },
    {
     "name": "stdout",
     "output_type": "stream",
     "text": [
      "Epoch 103, Validation Loss: 1.327196431159973, Accuracy: 0.5557324840764332\n"
     ]
    },
    {
     "name": "stderr",
     "output_type": "stream",
     "text": [
      "Training Epoch 104: 100%|█████████████████████████████████████████████████████████████| 59/59 [00:00<00:00, 200.53it/s]\n"
     ]
    },
    {
     "name": "stdout",
     "output_type": "stream",
     "text": [
      "Epoch 104, Training loss: 1.1458590172104917\n"
     ]
    },
    {
     "name": "stderr",
     "output_type": "stream",
     "text": [
      "Validation Epoch 104: 100%|███████████████████████████████████████████████████████████| 20/20 [00:00<00:00, 482.00it/s]\n"
     ]
    },
    {
     "name": "stdout",
     "output_type": "stream",
     "text": [
      "Epoch 104, Validation Loss: 1.32428777217865, Accuracy: 0.554140127388535\n"
     ]
    },
    {
     "name": "stderr",
     "output_type": "stream",
     "text": [
      "Training Epoch 105: 100%|█████████████████████████████████████████████████████████████| 59/59 [00:00<00:00, 200.90it/s]\n"
     ]
    },
    {
     "name": "stdout",
     "output_type": "stream",
     "text": [
      "Epoch 105, Training loss: 1.1733010855771728\n"
     ]
    },
    {
     "name": "stderr",
     "output_type": "stream",
     "text": [
      "Validation Epoch 105: 100%|███████████████████████████████████████████████████████████| 20/20 [00:00<00:00, 492.50it/s]\n"
     ]
    },
    {
     "name": "stdout",
     "output_type": "stream",
     "text": [
      "Epoch 105, Validation Loss: 1.3218149185180663, Accuracy: 0.5589171974522293\n"
     ]
    },
    {
     "name": "stderr",
     "output_type": "stream",
     "text": [
      "Training Epoch 106: 100%|█████████████████████████████████████████████████████████████| 59/59 [00:00<00:00, 191.87it/s]\n"
     ]
    },
    {
     "name": "stdout",
     "output_type": "stream",
     "text": [
      "Epoch 106, Training loss: 1.160885578494961\n"
     ]
    },
    {
     "name": "stderr",
     "output_type": "stream",
     "text": [
      "Validation Epoch 106: 100%|███████████████████████████████████████████████████████████| 20/20 [00:00<00:00, 498.77it/s]\n"
     ]
    },
    {
     "name": "stdout",
     "output_type": "stream",
     "text": [
      "Epoch 106, Validation Loss: 1.3188528537750244, Accuracy: 0.5557324840764332\n"
     ]
    },
    {
     "name": "stderr",
     "output_type": "stream",
     "text": [
      "Training Epoch 107: 100%|█████████████████████████████████████████████████████████████| 59/59 [00:00<00:00, 220.59it/s]\n"
     ]
    },
    {
     "name": "stdout",
     "output_type": "stream",
     "text": [
      "Epoch 107, Training loss: 1.162190080699274\n"
     ]
    },
    {
     "name": "stderr",
     "output_type": "stream",
     "text": [
      "Validation Epoch 107: 100%|███████████████████████████████████████████████████████████| 20/20 [00:00<00:00, 562.68it/s]\n"
     ]
    },
    {
     "name": "stdout",
     "output_type": "stream",
     "text": [
      "Epoch 107, Validation Loss: 1.3155886650085449, Accuracy: 0.5557324840764332\n"
     ]
    },
    {
     "name": "stderr",
     "output_type": "stream",
     "text": [
      "Training Epoch 108: 100%|█████████████████████████████████████████████████████████████| 59/59 [00:00<00:00, 226.17it/s]\n"
     ]
    },
    {
     "name": "stdout",
     "output_type": "stream",
     "text": [
      "Epoch 108, Training loss: 1.1463406762834323\n"
     ]
    },
    {
     "name": "stderr",
     "output_type": "stream",
     "text": [
      "Validation Epoch 108: 100%|███████████████████████████████████████████████████████████| 20/20 [00:00<00:00, 480.07it/s]\n"
     ]
    },
    {
     "name": "stdout",
     "output_type": "stream",
     "text": [
      "Epoch 108, Validation Loss: 1.3128813207149506, Accuracy: 0.554140127388535\n"
     ]
    },
    {
     "name": "stderr",
     "output_type": "stream",
     "text": [
      "Training Epoch 109: 100%|█████████████████████████████████████████████████████████████| 59/59 [00:00<00:00, 192.74it/s]\n"
     ]
    },
    {
     "name": "stdout",
     "output_type": "stream",
     "text": [
      "Epoch 109, Training loss: 1.1473354737637407\n"
     ]
    },
    {
     "name": "stderr",
     "output_type": "stream",
     "text": [
      "Validation Epoch 109: 100%|███████████████████████████████████████████████████████████| 20/20 [00:00<00:00, 473.32it/s]\n"
     ]
    },
    {
     "name": "stdout",
     "output_type": "stream",
     "text": [
      "Epoch 109, Validation Loss: 1.3107029914855957, Accuracy: 0.5605095541401274\n"
     ]
    },
    {
     "name": "stderr",
     "output_type": "stream",
     "text": [
      "Training Epoch 110: 100%|█████████████████████████████████████████████████████████████| 59/59 [00:00<00:00, 193.21it/s]\n"
     ]
    },
    {
     "name": "stdout",
     "output_type": "stream",
     "text": [
      "Epoch 110, Training loss: 1.1461385316767936\n"
     ]
    },
    {
     "name": "stderr",
     "output_type": "stream",
     "text": [
      "Validation Epoch 110: 100%|███████████████████████████████████████████████████████████| 20/20 [00:00<00:00, 315.04it/s]\n"
     ]
    },
    {
     "name": "stdout",
     "output_type": "stream",
     "text": [
      "Epoch 110, Validation Loss: 1.307867705821991, Accuracy: 0.5605095541401274\n"
     ]
    },
    {
     "name": "stderr",
     "output_type": "stream",
     "text": [
      "Training Epoch 111: 100%|█████████████████████████████████████████████████████████████| 59/59 [00:00<00:00, 199.57it/s]\n"
     ]
    },
    {
     "name": "stdout",
     "output_type": "stream",
     "text": [
      "Epoch 111, Training loss: 1.1346510820469613\n"
     ]
    },
    {
     "name": "stderr",
     "output_type": "stream",
     "text": [
      "Validation Epoch 111: 100%|███████████████████████████████████████████████████████████| 20/20 [00:00<00:00, 498.17it/s]\n"
     ]
    },
    {
     "name": "stdout",
     "output_type": "stream",
     "text": [
      "Epoch 111, Validation Loss: 1.3046992480754853, Accuracy: 0.5621019108280255\n"
     ]
    },
    {
     "name": "stderr",
     "output_type": "stream",
     "text": [
      "Training Epoch 112: 100%|█████████████████████████████████████████████████████████████| 59/59 [00:00<00:00, 198.27it/s]\n"
     ]
    },
    {
     "name": "stdout",
     "output_type": "stream",
     "text": [
      "Epoch 112, Training loss: 1.1197365987098824\n"
     ]
    },
    {
     "name": "stderr",
     "output_type": "stream",
     "text": [
      "Validation Epoch 112: 100%|███████████████████████████████████████████████████████████| 20/20 [00:00<00:00, 318.90it/s]\n"
     ]
    },
    {
     "name": "stdout",
     "output_type": "stream",
     "text": [
      "Epoch 112, Validation Loss: 1.3024715304374694, Accuracy: 0.5668789808917197\n"
     ]
    },
    {
     "name": "stderr",
     "output_type": "stream",
     "text": [
      "Training Epoch 113: 100%|█████████████████████████████████████████████████████████████| 59/59 [00:00<00:00, 209.58it/s]\n"
     ]
    },
    {
     "name": "stdout",
     "output_type": "stream",
     "text": [
      "Epoch 113, Training loss: 1.123078153295032\n"
     ]
    },
    {
     "name": "stderr",
     "output_type": "stream",
     "text": [
      "Validation Epoch 113: 100%|███████████████████████████████████████████████████████████| 20/20 [00:00<00:00, 376.72it/s]\n"
     ]
    },
    {
     "name": "stdout",
     "output_type": "stream",
     "text": [
      "Epoch 113, Validation Loss: 1.3000949382781983, Accuracy: 0.5636942675159236\n"
     ]
    },
    {
     "name": "stderr",
     "output_type": "stream",
     "text": [
      "Training Epoch 114: 100%|█████████████████████████████████████████████████████████████| 59/59 [00:00<00:00, 172.25it/s]\n"
     ]
    },
    {
     "name": "stdout",
     "output_type": "stream",
     "text": [
      "Epoch 114, Training loss: 1.127027671215898\n"
     ]
    },
    {
     "name": "stderr",
     "output_type": "stream",
     "text": [
      "Validation Epoch 114: 100%|███████████████████████████████████████████████████████████| 20/20 [00:00<00:00, 458.25it/s]\n"
     ]
    },
    {
     "name": "stdout",
     "output_type": "stream",
     "text": [
      "Epoch 114, Validation Loss: 1.2973740100860596, Accuracy: 0.5684713375796179\n"
     ]
    },
    {
     "name": "stderr",
     "output_type": "stream",
     "text": [
      "Training Epoch 115: 100%|█████████████████████████████████████████████████████████████| 59/59 [00:00<00:00, 200.88it/s]\n"
     ]
    },
    {
     "name": "stdout",
     "output_type": "stream",
     "text": [
      "Epoch 115, Training loss: 1.130271870200917\n"
     ]
    },
    {
     "name": "stderr",
     "output_type": "stream",
     "text": [
      "Validation Epoch 115: 100%|███████████████████████████████████████████████████████████| 20/20 [00:00<00:00, 553.64it/s]\n"
     ]
    },
    {
     "name": "stdout",
     "output_type": "stream",
     "text": [
      "Epoch 115, Validation Loss: 1.2952325463294982, Accuracy: 0.5684713375796179\n"
     ]
    },
    {
     "name": "stderr",
     "output_type": "stream",
     "text": [
      "Training Epoch 116: 100%|█████████████████████████████████████████████████████████████| 59/59 [00:00<00:00, 208.81it/s]\n"
     ]
    },
    {
     "name": "stdout",
     "output_type": "stream",
     "text": [
      "Epoch 116, Training loss: 1.1072402849035747\n"
     ]
    },
    {
     "name": "stderr",
     "output_type": "stream",
     "text": [
      "Validation Epoch 116: 100%|███████████████████████████████████████████████████████████| 20/20 [00:00<00:00, 532.33it/s]\n"
     ]
    },
    {
     "name": "stdout",
     "output_type": "stream",
     "text": [
      "Epoch 116, Validation Loss: 1.2926538109779357, Accuracy: 0.5700636942675159\n"
     ]
    },
    {
     "name": "stderr",
     "output_type": "stream",
     "text": [
      "Training Epoch 117: 100%|█████████████████████████████████████████████████████████████| 59/59 [00:00<00:00, 200.29it/s]\n"
     ]
    },
    {
     "name": "stdout",
     "output_type": "stream",
     "text": [
      "Epoch 117, Training loss: 1.1033887933876554\n"
     ]
    },
    {
     "name": "stderr",
     "output_type": "stream",
     "text": [
      "Validation Epoch 117: 100%|███████████████████████████████████████████████████████████| 20/20 [00:00<00:00, 522.27it/s]\n"
     ]
    },
    {
     "name": "stdout",
     "output_type": "stream",
     "text": [
      "Epoch 117, Validation Loss: 1.2906466543674469, Accuracy: 0.5780254777070064\n"
     ]
    },
    {
     "name": "stderr",
     "output_type": "stream",
     "text": [
      "Training Epoch 118: 100%|█████████████████████████████████████████████████████████████| 59/59 [00:00<00:00, 199.85it/s]\n"
     ]
    },
    {
     "name": "stdout",
     "output_type": "stream",
     "text": [
      "Epoch 118, Training loss: 1.1182846851268058\n"
     ]
    },
    {
     "name": "stderr",
     "output_type": "stream",
     "text": [
      "Validation Epoch 118: 100%|███████████████████████████████████████████████████████████| 20/20 [00:00<00:00, 539.44it/s]\n"
     ]
    },
    {
     "name": "stdout",
     "output_type": "stream",
     "text": [
      "Epoch 118, Validation Loss: 1.287660336494446, Accuracy: 0.5780254777070064\n"
     ]
    },
    {
     "name": "stderr",
     "output_type": "stream",
     "text": [
      "Training Epoch 119: 100%|█████████████████████████████████████████████████████████████| 59/59 [00:00<00:00, 210.56it/s]\n"
     ]
    },
    {
     "name": "stdout",
     "output_type": "stream",
     "text": [
      "Epoch 119, Training loss: 1.099495222002773\n"
     ]
    },
    {
     "name": "stderr",
     "output_type": "stream",
     "text": [
      "Validation Epoch 119: 100%|███████████████████████████████████████████████████████████| 20/20 [00:00<00:00, 506.24it/s]\n"
     ]
    },
    {
     "name": "stdout",
     "output_type": "stream",
     "text": [
      "Epoch 119, Validation Loss: 1.2851724207401276, Accuracy: 0.5780254777070064\n"
     ]
    },
    {
     "name": "stderr",
     "output_type": "stream",
     "text": [
      "Training Epoch 120: 100%|█████████████████████████████████████████████████████████████| 59/59 [00:00<00:00, 199.11it/s]\n"
     ]
    },
    {
     "name": "stdout",
     "output_type": "stream",
     "text": [
      "Epoch 120, Training loss: 1.097029718302064\n"
     ]
    },
    {
     "name": "stderr",
     "output_type": "stream",
     "text": [
      "Validation Epoch 120: 100%|███████████████████████████████████████████████████████████| 20/20 [00:00<00:00, 463.89it/s]\n"
     ]
    },
    {
     "name": "stdout",
     "output_type": "stream",
     "text": [
      "Epoch 120, Validation Loss: 1.2829584538936616, Accuracy: 0.5780254777070064\n"
     ]
    },
    {
     "name": "stderr",
     "output_type": "stream",
     "text": [
      "Training Epoch 121: 100%|█████████████████████████████████████████████████████████████| 59/59 [00:00<00:00, 200.52it/s]\n"
     ]
    },
    {
     "name": "stdout",
     "output_type": "stream",
     "text": [
      "Epoch 121, Training loss: 1.0900225144321636\n"
     ]
    },
    {
     "name": "stderr",
     "output_type": "stream",
     "text": [
      "Validation Epoch 121: 100%|███████████████████████████████████████████████████████████| 20/20 [00:00<00:00, 471.96it/s]\n"
     ]
    },
    {
     "name": "stdout",
     "output_type": "stream",
     "text": [
      "Epoch 121, Validation Loss: 1.2800054132938385, Accuracy: 0.5812101910828026\n"
     ]
    },
    {
     "name": "stderr",
     "output_type": "stream",
     "text": [
      "Training Epoch 122: 100%|█████████████████████████████████████████████████████████████| 59/59 [00:00<00:00, 210.52it/s]\n"
     ]
    },
    {
     "name": "stdout",
     "output_type": "stream",
     "text": [
      "Epoch 122, Training loss: 1.0687955486572396\n"
     ]
    },
    {
     "name": "stderr",
     "output_type": "stream",
     "text": [
      "Validation Epoch 122: 100%|███████████████████████████████████████████████████████████| 20/20 [00:00<00:00, 438.70it/s]\n"
     ]
    },
    {
     "name": "stdout",
     "output_type": "stream",
     "text": [
      "Epoch 122, Validation Loss: 1.2771905183792114, Accuracy: 0.5828025477707006\n"
     ]
    },
    {
     "name": "stderr",
     "output_type": "stream",
     "text": [
      "Training Epoch 123: 100%|█████████████████████████████████████████████████████████████| 59/59 [00:00<00:00, 196.38it/s]\n"
     ]
    },
    {
     "name": "stdout",
     "output_type": "stream",
     "text": [
      "Epoch 123, Training loss: 1.0716079251240875\n"
     ]
    },
    {
     "name": "stderr",
     "output_type": "stream",
     "text": [
      "Validation Epoch 123: 100%|███████████████████████████████████████████████████████████| 20/20 [00:00<00:00, 516.56it/s]\n"
     ]
    },
    {
     "name": "stdout",
     "output_type": "stream",
     "text": [
      "Epoch 123, Validation Loss: 1.2745717346668244, Accuracy: 0.5828025477707006\n"
     ]
    },
    {
     "name": "stderr",
     "output_type": "stream",
     "text": [
      "Training Epoch 124: 100%|█████████████████████████████████████████████████████████████| 59/59 [00:00<00:00, 210.78it/s]\n"
     ]
    },
    {
     "name": "stdout",
     "output_type": "stream",
     "text": [
      "Epoch 124, Training loss: 1.073985582691128\n"
     ]
    },
    {
     "name": "stderr",
     "output_type": "stream",
     "text": [
      "Validation Epoch 124: 100%|███████████████████████████████████████████████████████████| 20/20 [00:00<00:00, 501.08it/s]\n"
     ]
    },
    {
     "name": "stdout",
     "output_type": "stream",
     "text": [
      "Epoch 124, Validation Loss: 1.2725686371326446, Accuracy: 0.5843949044585988\n"
     ]
    },
    {
     "name": "stderr",
     "output_type": "stream",
     "text": [
      "Training Epoch 125: 100%|█████████████████████████████████████████████████████████████| 59/59 [00:00<00:00, 195.64it/s]\n"
     ]
    },
    {
     "name": "stdout",
     "output_type": "stream",
     "text": [
      "Epoch 125, Training loss: 1.067422904200473\n"
     ]
    },
    {
     "name": "stderr",
     "output_type": "stream",
     "text": [
      "Validation Epoch 125: 100%|███████████████████████████████████████████████████████████| 20/20 [00:00<00:00, 508.22it/s]\n"
     ]
    },
    {
     "name": "stdout",
     "output_type": "stream",
     "text": [
      "Epoch 125, Validation Loss: 1.2703732609748841, Accuracy: 0.5875796178343949\n"
     ]
    },
    {
     "name": "stderr",
     "output_type": "stream",
     "text": [
      "Training Epoch 126: 100%|█████████████████████████████████████████████████████████████| 59/59 [00:00<00:00, 202.90it/s]\n"
     ]
    },
    {
     "name": "stdout",
     "output_type": "stream",
     "text": [
      "Epoch 126, Training loss: 1.0661298016370353\n"
     ]
    },
    {
     "name": "stderr",
     "output_type": "stream",
     "text": [
      "Validation Epoch 126: 100%|███████████████████████████████████████████████████████████| 20/20 [00:00<00:00, 419.38it/s]\n"
     ]
    },
    {
     "name": "stdout",
     "output_type": "stream",
     "text": [
      "Epoch 126, Validation Loss: 1.268080997467041, Accuracy: 0.589171974522293\n"
     ]
    },
    {
     "name": "stderr",
     "output_type": "stream",
     "text": [
      "Training Epoch 127: 100%|█████████████████████████████████████████████████████████████| 59/59 [00:00<00:00, 185.35it/s]\n"
     ]
    },
    {
     "name": "stdout",
     "output_type": "stream",
     "text": [
      "Epoch 127, Training loss: 1.0578958493168071\n"
     ]
    },
    {
     "name": "stderr",
     "output_type": "stream",
     "text": [
      "Validation Epoch 127: 100%|███████████████████████████████████████████████████████████| 20/20 [00:00<00:00, 467.99it/s]\n"
     ]
    },
    {
     "name": "stdout",
     "output_type": "stream",
     "text": [
      "Epoch 127, Validation Loss: 1.2655758082866668, Accuracy: 0.589171974522293\n"
     ]
    },
    {
     "name": "stderr",
     "output_type": "stream",
     "text": [
      "Training Epoch 128: 100%|█████████████████████████████████████████████████████████████| 59/59 [00:00<00:00, 204.44it/s]\n"
     ]
    },
    {
     "name": "stdout",
     "output_type": "stream",
     "text": [
      "Epoch 128, Training loss: 1.0443255497237383\n"
     ]
    },
    {
     "name": "stderr",
     "output_type": "stream",
     "text": [
      "Validation Epoch 128: 100%|███████████████████████████████████████████████████████████| 20/20 [00:00<00:00, 505.28it/s]\n"
     ]
    },
    {
     "name": "stdout",
     "output_type": "stream",
     "text": [
      "Epoch 128, Validation Loss: 1.2629958748817445, Accuracy: 0.589171974522293\n"
     ]
    },
    {
     "name": "stderr",
     "output_type": "stream",
     "text": [
      "Training Epoch 129: 100%|█████████████████████████████████████████████████████████████| 59/59 [00:00<00:00, 206.05it/s]\n"
     ]
    },
    {
     "name": "stdout",
     "output_type": "stream",
     "text": [
      "Epoch 129, Training loss: 1.034227066120859\n"
     ]
    },
    {
     "name": "stderr",
     "output_type": "stream",
     "text": [
      "Validation Epoch 129: 100%|███████████████████████████████████████████████████████████| 20/20 [00:00<00:00, 511.75it/s]\n"
     ]
    },
    {
     "name": "stdout",
     "output_type": "stream",
     "text": [
      "Epoch 129, Validation Loss: 1.260637140274048, Accuracy: 0.589171974522293\n"
     ]
    },
    {
     "name": "stderr",
     "output_type": "stream",
     "text": [
      "Training Epoch 130: 100%|█████████████████████████████████████████████████████████████| 59/59 [00:00<00:00, 179.88it/s]\n"
     ]
    },
    {
     "name": "stdout",
     "output_type": "stream",
     "text": [
      "Epoch 130, Training loss: 1.0410306878009086\n"
     ]
    },
    {
     "name": "stderr",
     "output_type": "stream",
     "text": [
      "Validation Epoch 130: 100%|███████████████████████████████████████████████████████████| 20/20 [00:00<00:00, 318.24it/s]\n"
     ]
    },
    {
     "name": "stdout",
     "output_type": "stream",
     "text": [
      "Epoch 130, Validation Loss: 1.2585774421691895, Accuracy: 0.5907643312101911\n"
     ]
    },
    {
     "name": "stderr",
     "output_type": "stream",
     "text": [
      "Training Epoch 131: 100%|█████████████████████████████████████████████████████████████| 59/59 [00:00<00:00, 200.36it/s]\n"
     ]
    },
    {
     "name": "stdout",
     "output_type": "stream",
     "text": [
      "Epoch 131, Training loss: 1.0328139016183757\n"
     ]
    },
    {
     "name": "stderr",
     "output_type": "stream",
     "text": [
      "Validation Epoch 131: 100%|███████████████████████████████████████████████████████████| 20/20 [00:00<00:00, 505.01it/s]\n"
     ]
    },
    {
     "name": "stdout",
     "output_type": "stream",
     "text": [
      "Epoch 131, Validation Loss: 1.2564437210559845, Accuracy: 0.5923566878980892\n"
     ]
    },
    {
     "name": "stderr",
     "output_type": "stream",
     "text": [
      "Training Epoch 132: 100%|█████████████████████████████████████████████████████████████| 59/59 [00:00<00:00, 191.96it/s]\n"
     ]
    },
    {
     "name": "stdout",
     "output_type": "stream",
     "text": [
      "Epoch 132, Training loss: 1.0579809011039087\n"
     ]
    },
    {
     "name": "stderr",
     "output_type": "stream",
     "text": [
      "Validation Epoch 132: 100%|███████████████████████████████████████████████████████████| 20/20 [00:00<00:00, 539.30it/s]\n"
     ]
    },
    {
     "name": "stdout",
     "output_type": "stream",
     "text": [
      "Epoch 132, Validation Loss: 1.254687285423279, Accuracy: 0.5955414012738853\n"
     ]
    },
    {
     "name": "stderr",
     "output_type": "stream",
     "text": [
      "Training Epoch 133: 100%|█████████████████████████████████████████████████████████████| 59/59 [00:00<00:00, 193.87it/s]\n"
     ]
    },
    {
     "name": "stdout",
     "output_type": "stream",
     "text": [
      "Epoch 133, Training loss: 1.0255263488171464\n"
     ]
    },
    {
     "name": "stderr",
     "output_type": "stream",
     "text": [
      "Validation Epoch 133: 100%|███████████████████████████████████████████████████████████| 20/20 [00:00<00:00, 539.68it/s]\n"
     ]
    },
    {
     "name": "stdout",
     "output_type": "stream",
     "text": [
      "Epoch 133, Validation Loss: 1.2527832448482514, Accuracy: 0.5987261146496815\n"
     ]
    },
    {
     "name": "stderr",
     "output_type": "stream",
     "text": [
      "Training Epoch 134: 100%|█████████████████████████████████████████████████████████████| 59/59 [00:00<00:00, 190.90it/s]\n"
     ]
    },
    {
     "name": "stdout",
     "output_type": "stream",
     "text": [
      "Epoch 134, Training loss: 1.0254734986919467\n"
     ]
    },
    {
     "name": "stderr",
     "output_type": "stream",
     "text": [
      "Validation Epoch 134: 100%|███████████████████████████████████████████████████████████| 20/20 [00:00<00:00, 388.75it/s]\n"
     ]
    },
    {
     "name": "stdout",
     "output_type": "stream",
     "text": [
      "Epoch 134, Validation Loss: 1.2501696169376373, Accuracy: 0.5987261146496815\n"
     ]
    },
    {
     "name": "stderr",
     "output_type": "stream",
     "text": [
      "Training Epoch 135: 100%|█████████████████████████████████████████████████████████████| 59/59 [00:00<00:00, 199.17it/s]\n"
     ]
    },
    {
     "name": "stdout",
     "output_type": "stream",
     "text": [
      "Epoch 135, Training loss: 1.0139009629265736\n"
     ]
    },
    {
     "name": "stderr",
     "output_type": "stream",
     "text": [
      "Validation Epoch 135: 100%|███████████████████████████████████████████████████████████| 20/20 [00:00<00:00, 512.19it/s]\n"
     ]
    },
    {
     "name": "stdout",
     "output_type": "stream",
     "text": [
      "Epoch 135, Validation Loss: 1.2477700233459472, Accuracy: 0.5987261146496815\n"
     ]
    },
    {
     "name": "stderr",
     "output_type": "stream",
     "text": [
      "Training Epoch 136: 100%|█████████████████████████████████████████████████████████████| 59/59 [00:00<00:00, 208.64it/s]\n"
     ]
    },
    {
     "name": "stdout",
     "output_type": "stream",
     "text": [
      "Epoch 136, Training loss: 1.0012979396318986\n"
     ]
    },
    {
     "name": "stderr",
     "output_type": "stream",
     "text": [
      "Validation Epoch 136: 100%|███████████████████████████████████████████████████████████| 20/20 [00:00<00:00, 387.26it/s]\n"
     ]
    },
    {
     "name": "stdout",
     "output_type": "stream",
     "text": [
      "Epoch 136, Validation Loss: 1.2457633048295975, Accuracy: 0.6019108280254777\n"
     ]
    },
    {
     "name": "stderr",
     "output_type": "stream",
     "text": [
      "Training Epoch 137: 100%|█████████████████████████████████████████████████████████████| 59/59 [00:00<00:00, 205.15it/s]\n"
     ]
    },
    {
     "name": "stdout",
     "output_type": "stream",
     "text": [
      "Epoch 137, Training loss: 1.0234411419448206\n"
     ]
    },
    {
     "name": "stderr",
     "output_type": "stream",
     "text": [
      "Validation Epoch 137: 100%|███████████████████████████████████████████████████████████| 20/20 [00:00<00:00, 464.63it/s]\n"
     ]
    },
    {
     "name": "stdout",
     "output_type": "stream",
     "text": [
      "Epoch 137, Validation Loss: 1.24341821372509, Accuracy: 0.6050955414012739\n"
     ]
    },
    {
     "name": "stderr",
     "output_type": "stream",
     "text": [
      "Training Epoch 138: 100%|█████████████████████████████████████████████████████████████| 59/59 [00:00<00:00, 190.31it/s]\n"
     ]
    },
    {
     "name": "stdout",
     "output_type": "stream",
     "text": [
      "Epoch 138, Training loss: 1.0101757726426852\n"
     ]
    },
    {
     "name": "stderr",
     "output_type": "stream",
     "text": [
      "Validation Epoch 138: 100%|███████████████████████████████████████████████████████████| 20/20 [00:00<00:00, 517.26it/s]\n"
     ]
    },
    {
     "name": "stdout",
     "output_type": "stream",
     "text": [
      "Epoch 138, Validation Loss: 1.2413386464118958, Accuracy: 0.606687898089172\n"
     ]
    },
    {
     "name": "stderr",
     "output_type": "stream",
     "text": [
      "Training Epoch 139: 100%|█████████████████████████████████████████████████████████████| 59/59 [00:00<00:00, 196.04it/s]\n"
     ]
    },
    {
     "name": "stdout",
     "output_type": "stream",
     "text": [
      "Epoch 139, Training loss: 0.994960199978392\n"
     ]
    },
    {
     "name": "stderr",
     "output_type": "stream",
     "text": [
      "Validation Epoch 139: 100%|███████████████████████████████████████████████████████████| 20/20 [00:00<00:00, 365.76it/s]\n"
     ]
    },
    {
     "name": "stdout",
     "output_type": "stream",
     "text": [
      "Epoch 139, Validation Loss: 1.2387550175189972, Accuracy: 0.6050955414012739\n"
     ]
    },
    {
     "name": "stderr",
     "output_type": "stream",
     "text": [
      "Training Epoch 140: 100%|█████████████████████████████████████████████████████████████| 59/59 [00:00<00:00, 188.20it/s]\n"
     ]
    },
    {
     "name": "stdout",
     "output_type": "stream",
     "text": [
      "Epoch 140, Training loss: 0.9861122753660557\n"
     ]
    },
    {
     "name": "stderr",
     "output_type": "stream",
     "text": [
      "Validation Epoch 140: 100%|███████████████████████████████████████████████████████████| 20/20 [00:00<00:00, 517.24it/s]\n"
     ]
    },
    {
     "name": "stdout",
     "output_type": "stream",
     "text": [
      "Epoch 140, Validation Loss: 1.2367348700761795, Accuracy: 0.606687898089172\n"
     ]
    },
    {
     "name": "stderr",
     "output_type": "stream",
     "text": [
      "Training Epoch 141: 100%|█████████████████████████████████████████████████████████████| 59/59 [00:00<00:00, 190.73it/s]\n"
     ]
    },
    {
     "name": "stdout",
     "output_type": "stream",
     "text": [
      "Epoch 141, Training loss: 0.9917340652417328\n"
     ]
    },
    {
     "name": "stderr",
     "output_type": "stream",
     "text": [
      "Validation Epoch 141: 100%|███████████████████████████████████████████████████████████| 20/20 [00:00<00:00, 536.85it/s]\n"
     ]
    },
    {
     "name": "stdout",
     "output_type": "stream",
     "text": [
      "Epoch 141, Validation Loss: 1.2345885694026948, Accuracy: 0.6035031847133758\n"
     ]
    },
    {
     "name": "stderr",
     "output_type": "stream",
     "text": [
      "Training Epoch 142: 100%|█████████████████████████████████████████████████████████████| 59/59 [00:00<00:00, 202.15it/s]\n"
     ]
    },
    {
     "name": "stdout",
     "output_type": "stream",
     "text": [
      "Epoch 142, Training loss: 1.0001154158074976\n"
     ]
    },
    {
     "name": "stderr",
     "output_type": "stream",
     "text": [
      "Validation Epoch 142: 100%|███████████████████████████████████████████████████████████| 20/20 [00:00<00:00, 531.27it/s]\n"
     ]
    },
    {
     "name": "stdout",
     "output_type": "stream",
     "text": [
      "Epoch 142, Validation Loss: 1.2327654153108596, Accuracy: 0.60828025477707\n"
     ]
    },
    {
     "name": "stderr",
     "output_type": "stream",
     "text": [
      "Training Epoch 143: 100%|█████████████████████████████████████████████████████████████| 59/59 [00:00<00:00, 185.61it/s]\n"
     ]
    },
    {
     "name": "stdout",
     "output_type": "stream",
     "text": [
      "Epoch 143, Training loss: 0.9900285823870514\n"
     ]
    },
    {
     "name": "stderr",
     "output_type": "stream",
     "text": [
      "Validation Epoch 143: 100%|███████████████████████████████████████████████████████████| 20/20 [00:00<00:00, 424.74it/s]\n"
     ]
    },
    {
     "name": "stdout",
     "output_type": "stream",
     "text": [
      "Epoch 143, Validation Loss: 1.2305669099092484, Accuracy: 0.6050955414012739\n"
     ]
    },
    {
     "name": "stderr",
     "output_type": "stream",
     "text": [
      "Training Epoch 144: 100%|█████████████████████████████████████████████████████████████| 59/59 [00:00<00:00, 180.31it/s]\n"
     ]
    },
    {
     "name": "stdout",
     "output_type": "stream",
     "text": [
      "Epoch 144, Training loss: 0.9868999679209822\n"
     ]
    },
    {
     "name": "stderr",
     "output_type": "stream",
     "text": [
      "Validation Epoch 144: 100%|███████████████████████████████████████████████████████████| 20/20 [00:00<00:00, 447.18it/s]\n"
     ]
    },
    {
     "name": "stdout",
     "output_type": "stream",
     "text": [
      "Epoch 144, Validation Loss: 1.2281123876571656, Accuracy: 0.6098726114649682\n"
     ]
    },
    {
     "name": "stderr",
     "output_type": "stream",
     "text": [
      "Training Epoch 145: 100%|█████████████████████████████████████████████████████████████| 59/59 [00:00<00:00, 198.32it/s]\n"
     ]
    },
    {
     "name": "stdout",
     "output_type": "stream",
     "text": [
      "Epoch 145, Training loss: 0.9650780588893567\n"
     ]
    },
    {
     "name": "stderr",
     "output_type": "stream",
     "text": [
      "Validation Epoch 145: 100%|███████████████████████████████████████████████████████████| 20/20 [00:00<00:00, 502.31it/s]\n"
     ]
    },
    {
     "name": "stdout",
     "output_type": "stream",
     "text": [
      "Epoch 145, Validation Loss: 1.2262786954641343, Accuracy: 0.60828025477707\n"
     ]
    },
    {
     "name": "stderr",
     "output_type": "stream",
     "text": [
      "Training Epoch 146: 100%|█████████████████████████████████████████████████████████████| 59/59 [00:00<00:00, 206.34it/s]\n"
     ]
    },
    {
     "name": "stdout",
     "output_type": "stream",
     "text": [
      "Epoch 146, Training loss: 0.9782284073910471\n"
     ]
    },
    {
     "name": "stderr",
     "output_type": "stream",
     "text": [
      "Validation Epoch 146: 100%|███████████████████████████████████████████████████████████| 20/20 [00:00<00:00, 498.79it/s]\n"
     ]
    },
    {
     "name": "stdout",
     "output_type": "stream",
     "text": [
      "Epoch 146, Validation Loss: 1.2243612557649612, Accuracy: 0.6130573248407644\n"
     ]
    },
    {
     "name": "stderr",
     "output_type": "stream",
     "text": [
      "Training Epoch 147: 100%|█████████████████████████████████████████████████████████████| 59/59 [00:00<00:00, 206.27it/s]\n"
     ]
    },
    {
     "name": "stdout",
     "output_type": "stream",
     "text": [
      "Epoch 147, Training loss: 0.9523129624835516\n"
     ]
    },
    {
     "name": "stderr",
     "output_type": "stream",
     "text": [
      "Validation Epoch 147: 100%|███████████████████████████████████████████████████████████| 20/20 [00:00<00:00, 557.71it/s]\n"
     ]
    },
    {
     "name": "stdout",
     "output_type": "stream",
     "text": [
      "Epoch 147, Validation Loss: 1.2217938691377639, Accuracy: 0.6146496815286624\n"
     ]
    },
    {
     "name": "stderr",
     "output_type": "stream",
     "text": [
      "Training Epoch 148: 100%|█████████████████████████████████████████████████████████████| 59/59 [00:00<00:00, 215.52it/s]\n"
     ]
    },
    {
     "name": "stdout",
     "output_type": "stream",
     "text": [
      "Epoch 148, Training loss: 0.9711053836143623\n"
     ]
    },
    {
     "name": "stderr",
     "output_type": "stream",
     "text": [
      "Validation Epoch 148: 100%|███████████████████████████████████████████████████████████| 20/20 [00:00<00:00, 490.15it/s]\n"
     ]
    },
    {
     "name": "stdout",
     "output_type": "stream",
     "text": [
      "Epoch 148, Validation Loss: 1.2201183646917344, Accuracy: 0.6098726114649682\n"
     ]
    },
    {
     "name": "stderr",
     "output_type": "stream",
     "text": [
      "Training Epoch 149: 100%|█████████████████████████████████████████████████████████████| 59/59 [00:00<00:00, 196.86it/s]\n"
     ]
    },
    {
     "name": "stdout",
     "output_type": "stream",
     "text": [
      "Epoch 149, Training loss: 0.9503534082639016\n"
     ]
    },
    {
     "name": "stderr",
     "output_type": "stream",
     "text": [
      "Validation Epoch 149: 100%|███████████████████████████████████████████████████████████| 20/20 [00:00<00:00, 481.64it/s]\n"
     ]
    },
    {
     "name": "stdout",
     "output_type": "stream",
     "text": [
      "Epoch 149, Validation Loss: 1.2180965006351472, Accuracy: 0.6130573248407644\n"
     ]
    },
    {
     "name": "stderr",
     "output_type": "stream",
     "text": [
      "Training Epoch 150: 100%|█████████████████████████████████████████████████████████████| 59/59 [00:00<00:00, 187.56it/s]\n"
     ]
    },
    {
     "name": "stdout",
     "output_type": "stream",
     "text": [
      "Epoch 150, Training loss: 0.968270494776257\n"
     ]
    },
    {
     "name": "stderr",
     "output_type": "stream",
     "text": [
      "Validation Epoch 150: 100%|███████████████████████████████████████████████████████████| 20/20 [00:00<00:00, 466.75it/s]\n"
     ]
    },
    {
     "name": "stdout",
     "output_type": "stream",
     "text": [
      "Epoch 150, Validation Loss: 1.2163312673568725, Accuracy: 0.6130573248407644\n"
     ]
    },
    {
     "name": "stderr",
     "output_type": "stream",
     "text": [
      "Training Epoch 151: 100%|█████████████████████████████████████████████████████████████| 59/59 [00:00<00:00, 179.00it/s]\n"
     ]
    },
    {
     "name": "stdout",
     "output_type": "stream",
     "text": [
      "Epoch 151, Training loss: 0.9536044223833893\n"
     ]
    },
    {
     "name": "stderr",
     "output_type": "stream",
     "text": [
      "Validation Epoch 151: 100%|███████████████████████████████████████████████████████████| 20/20 [00:00<00:00, 548.74it/s]\n"
     ]
    },
    {
     "name": "stdout",
     "output_type": "stream",
     "text": [
      "Epoch 151, Validation Loss: 1.2142701596021652, Accuracy: 0.6162420382165605\n"
     ]
    },
    {
     "name": "stderr",
     "output_type": "stream",
     "text": [
      "Training Epoch 152: 100%|█████████████████████████████████████████████████████████████| 59/59 [00:00<00:00, 222.66it/s]\n"
     ]
    },
    {
     "name": "stdout",
     "output_type": "stream",
     "text": [
      "Epoch 152, Training loss: 0.9467698568004673\n"
     ]
    },
    {
     "name": "stderr",
     "output_type": "stream",
     "text": [
      "Validation Epoch 152: 100%|███████████████████████████████████████████████████████████| 20/20 [00:00<00:00, 547.49it/s]\n"
     ]
    },
    {
     "name": "stdout",
     "output_type": "stream",
     "text": [
      "Epoch 152, Validation Loss: 1.211829525232315, Accuracy: 0.6162420382165605\n"
     ]
    },
    {
     "name": "stderr",
     "output_type": "stream",
     "text": [
      "Training Epoch 153: 100%|█████████████████████████████████████████████████████████████| 59/59 [00:00<00:00, 221.95it/s]\n"
     ]
    },
    {
     "name": "stdout",
     "output_type": "stream",
     "text": [
      "Epoch 153, Training loss: 0.9530316348803245\n"
     ]
    },
    {
     "name": "stderr",
     "output_type": "stream",
     "text": [
      "Validation Epoch 153: 100%|███████████████████████████████████████████████████████████| 20/20 [00:00<00:00, 515.87it/s]\n"
     ]
    },
    {
     "name": "stdout",
     "output_type": "stream",
     "text": [
      "Epoch 153, Validation Loss: 1.2099187582731248, Accuracy: 0.6146496815286624\n"
     ]
    },
    {
     "name": "stderr",
     "output_type": "stream",
     "text": [
      "Training Epoch 154: 100%|█████████████████████████████████████████████████████████████| 59/59 [00:00<00:00, 192.76it/s]\n"
     ]
    },
    {
     "name": "stdout",
     "output_type": "stream",
     "text": [
      "Epoch 154, Training loss: 0.9397325465234659\n"
     ]
    },
    {
     "name": "stderr",
     "output_type": "stream",
     "text": [
      "Validation Epoch 154: 100%|███████████████████████████████████████████████████████████| 20/20 [00:00<00:00, 460.97it/s]\n"
     ]
    },
    {
     "name": "stdout",
     "output_type": "stream",
     "text": [
      "Epoch 154, Validation Loss: 1.207713896036148, Accuracy: 0.6210191082802548\n"
     ]
    },
    {
     "name": "stderr",
     "output_type": "stream",
     "text": [
      "Training Epoch 155: 100%|█████████████████████████████████████████████████████████████| 59/59 [00:00<00:00, 186.68it/s]\n"
     ]
    },
    {
     "name": "stdout",
     "output_type": "stream",
     "text": [
      "Epoch 155, Training loss: 0.9497825281094696\n"
     ]
    },
    {
     "name": "stderr",
     "output_type": "stream",
     "text": [
      "Validation Epoch 155: 100%|███████████████████████████████████████████████████████████| 20/20 [00:00<00:00, 500.12it/s]\n"
     ]
    },
    {
     "name": "stdout",
     "output_type": "stream",
     "text": [
      "Epoch 155, Validation Loss: 1.206032431125641, Accuracy: 0.6210191082802548\n"
     ]
    },
    {
     "name": "stderr",
     "output_type": "stream",
     "text": [
      "Training Epoch 156: 100%|█████████████████████████████████████████████████████████████| 59/59 [00:00<00:00, 188.80it/s]\n"
     ]
    },
    {
     "name": "stdout",
     "output_type": "stream",
     "text": [
      "Epoch 156, Training loss: 0.9358841332338624\n"
     ]
    },
    {
     "name": "stderr",
     "output_type": "stream",
     "text": [
      "Validation Epoch 156: 100%|███████████████████████████████████████████████████████████| 20/20 [00:00<00:00, 516.17it/s]\n"
     ]
    },
    {
     "name": "stdout",
     "output_type": "stream",
     "text": [
      "Epoch 156, Validation Loss: 1.204182168841362, Accuracy: 0.6194267515923567\n"
     ]
    },
    {
     "name": "stderr",
     "output_type": "stream",
     "text": [
      "Training Epoch 157: 100%|█████████████████████████████████████████████████████████████| 59/59 [00:00<00:00, 200.80it/s]\n"
     ]
    },
    {
     "name": "stdout",
     "output_type": "stream",
     "text": [
      "Epoch 157, Training loss: 0.9243966603683214\n"
     ]
    },
    {
     "name": "stderr",
     "output_type": "stream",
     "text": [
      "Validation Epoch 157: 100%|███████████████████████████████████████████████████████████| 20/20 [00:00<00:00, 510.56it/s]\n"
     ]
    },
    {
     "name": "stdout",
     "output_type": "stream",
     "text": [
      "Epoch 157, Validation Loss: 1.2022993922233582, Accuracy: 0.6210191082802548\n"
     ]
    },
    {
     "name": "stderr",
     "output_type": "stream",
     "text": [
      "Training Epoch 158: 100%|█████████████████████████████████████████████████████████████| 59/59 [00:00<00:00, 200.94it/s]\n"
     ]
    },
    {
     "name": "stdout",
     "output_type": "stream",
     "text": [
      "Epoch 158, Training loss: 0.9312089984699831\n"
     ]
    },
    {
     "name": "stderr",
     "output_type": "stream",
     "text": [
      "Validation Epoch 158: 100%|███████████████████████████████████████████████████████████| 20/20 [00:00<00:00, 525.89it/s]\n"
     ]
    },
    {
     "name": "stdout",
     "output_type": "stream",
     "text": [
      "Epoch 158, Validation Loss: 1.2008499801158905, Accuracy: 0.6226114649681529\n"
     ]
    },
    {
     "name": "stderr",
     "output_type": "stream",
     "text": [
      "Training Epoch 159: 100%|█████████████████████████████████████████████████████████████| 59/59 [00:00<00:00, 197.53it/s]\n"
     ]
    },
    {
     "name": "stdout",
     "output_type": "stream",
     "text": [
      "Epoch 159, Training loss: 0.9468502281075817\n"
     ]
    },
    {
     "name": "stderr",
     "output_type": "stream",
     "text": [
      "Validation Epoch 159: 100%|███████████████████████████████████████████████████████████| 20/20 [00:00<00:00, 489.90it/s]\n"
     ]
    },
    {
     "name": "stdout",
     "output_type": "stream",
     "text": [
      "Epoch 159, Validation Loss: 1.1987513780593873, Accuracy: 0.6210191082802548\n"
     ]
    },
    {
     "name": "stderr",
     "output_type": "stream",
     "text": [
      "Training Epoch 160: 100%|█████████████████████████████████████████████████████████████| 59/59 [00:00<00:00, 205.23it/s]\n"
     ]
    },
    {
     "name": "stdout",
     "output_type": "stream",
     "text": [
      "Epoch 160, Training loss: 0.916218885930918\n"
     ]
    },
    {
     "name": "stderr",
     "output_type": "stream",
     "text": [
      "Validation Epoch 160: 100%|███████████████████████████████████████████████████████████| 20/20 [00:00<00:00, 479.61it/s]\n"
     ]
    },
    {
     "name": "stdout",
     "output_type": "stream",
     "text": [
      "Epoch 160, Validation Loss: 1.1965452283620834, Accuracy: 0.6242038216560509\n"
     ]
    },
    {
     "name": "stderr",
     "output_type": "stream",
     "text": [
      "Training Epoch 161: 100%|█████████████████████████████████████████████████████████████| 59/59 [00:00<00:00, 200.98it/s]\n"
     ]
    },
    {
     "name": "stdout",
     "output_type": "stream",
     "text": [
      "Epoch 161, Training loss: 0.9168915920338389\n"
     ]
    },
    {
     "name": "stderr",
     "output_type": "stream",
     "text": [
      "Validation Epoch 161: 100%|███████████████████████████████████████████████████████████| 20/20 [00:00<00:00, 481.50it/s]\n"
     ]
    },
    {
     "name": "stdout",
     "output_type": "stream",
     "text": [
      "Epoch 161, Validation Loss: 1.195097389817238, Accuracy: 0.6210191082802548\n"
     ]
    },
    {
     "name": "stderr",
     "output_type": "stream",
     "text": [
      "Training Epoch 162: 100%|█████████████████████████████████████████████████████████████| 59/59 [00:00<00:00, 207.38it/s]\n"
     ]
    },
    {
     "name": "stdout",
     "output_type": "stream",
     "text": [
      "Epoch 162, Training loss: 0.9189211281679445\n"
     ]
    },
    {
     "name": "stderr",
     "output_type": "stream",
     "text": [
      "Validation Epoch 162: 100%|███████████████████████████████████████████████████████████| 20/20 [00:00<00:00, 518.73it/s]\n"
     ]
    },
    {
     "name": "stdout",
     "output_type": "stream",
     "text": [
      "Epoch 162, Validation Loss: 1.1931040167808533, Accuracy: 0.6273885350318471\n"
     ]
    },
    {
     "name": "stderr",
     "output_type": "stream",
     "text": [
      "Training Epoch 163: 100%|█████████████████████████████████████████████████████████████| 59/59 [00:00<00:00, 196.73it/s]\n"
     ]
    },
    {
     "name": "stdout",
     "output_type": "stream",
     "text": [
      "Epoch 163, Training loss: 0.9156399490469593\n"
     ]
    },
    {
     "name": "stderr",
     "output_type": "stream",
     "text": [
      "Validation Epoch 163: 100%|███████████████████████████████████████████████████████████| 20/20 [00:00<00:00, 514.21it/s]\n"
     ]
    },
    {
     "name": "stdout",
     "output_type": "stream",
     "text": [
      "Epoch 163, Validation Loss: 1.1911787211894989, Accuracy: 0.6273885350318471\n"
     ]
    },
    {
     "name": "stderr",
     "output_type": "stream",
     "text": [
      "Training Epoch 164: 100%|█████████████████████████████████████████████████████████████| 59/59 [00:00<00:00, 205.20it/s]\n"
     ]
    },
    {
     "name": "stdout",
     "output_type": "stream",
     "text": [
      "Epoch 164, Training loss: 0.9070086489289494\n"
     ]
    },
    {
     "name": "stderr",
     "output_type": "stream",
     "text": [
      "Validation Epoch 164: 100%|███████████████████████████████████████████████████████████| 20/20 [00:00<00:00, 522.11it/s]\n"
     ]
    },
    {
     "name": "stdout",
     "output_type": "stream",
     "text": [
      "Epoch 164, Validation Loss: 1.1892940133810044, Accuracy: 0.6289808917197452\n"
     ]
    },
    {
     "name": "stderr",
     "output_type": "stream",
     "text": [
      "Training Epoch 165: 100%|█████████████████████████████████████████████████████████████| 59/59 [00:00<00:00, 204.76it/s]\n"
     ]
    },
    {
     "name": "stdout",
     "output_type": "stream",
     "text": [
      "Epoch 165, Training loss: 0.9054456090523024\n"
     ]
    },
    {
     "name": "stderr",
     "output_type": "stream",
     "text": [
      "Validation Epoch 165: 100%|███████████████████████████████████████████████████████████| 20/20 [00:00<00:00, 531.90it/s]\n"
     ]
    },
    {
     "name": "stdout",
     "output_type": "stream",
     "text": [
      "Epoch 165, Validation Loss: 1.1874213427305222, Accuracy: 0.6305732484076433\n"
     ]
    },
    {
     "name": "stderr",
     "output_type": "stream",
     "text": [
      "Training Epoch 166: 100%|█████████████████████████████████████████████████████████████| 59/59 [00:00<00:00, 180.33it/s]\n"
     ]
    },
    {
     "name": "stdout",
     "output_type": "stream",
     "text": [
      "Epoch 166, Training loss: 0.8959061109413535\n"
     ]
    },
    {
     "name": "stderr",
     "output_type": "stream",
     "text": [
      "Validation Epoch 166: 100%|███████████████████████████████████████████████████████████| 20/20 [00:00<00:00, 385.55it/s]\n"
     ]
    },
    {
     "name": "stdout",
     "output_type": "stream",
     "text": [
      "Epoch 166, Validation Loss: 1.1859064787626266, Accuracy: 0.6273885350318471\n"
     ]
    },
    {
     "name": "stderr",
     "output_type": "stream",
     "text": [
      "Training Epoch 167: 100%|█████████████████████████████████████████████████████████████| 59/59 [00:00<00:00, 175.71it/s]\n"
     ]
    },
    {
     "name": "stdout",
     "output_type": "stream",
     "text": [
      "Epoch 167, Training loss: 0.8885202700808897\n"
     ]
    },
    {
     "name": "stderr",
     "output_type": "stream",
     "text": [
      "Validation Epoch 167: 100%|███████████████████████████████████████████████████████████| 20/20 [00:00<00:00, 444.04it/s]\n"
     ]
    },
    {
     "name": "stdout",
     "output_type": "stream",
     "text": [
      "Epoch 167, Validation Loss: 1.1838225603103638, Accuracy: 0.6273885350318471\n"
     ]
    },
    {
     "name": "stderr",
     "output_type": "stream",
     "text": [
      "Training Epoch 168: 100%|█████████████████████████████████████████████████████████████| 59/59 [00:00<00:00, 173.80it/s]\n"
     ]
    },
    {
     "name": "stdout",
     "output_type": "stream",
     "text": [
      "Epoch 168, Training loss: 0.8933180267527953\n"
     ]
    },
    {
     "name": "stderr",
     "output_type": "stream",
     "text": [
      "Validation Epoch 168: 100%|███████████████████████████████████████████████████████████| 20/20 [00:00<00:00, 498.35it/s]\n"
     ]
    },
    {
     "name": "stdout",
     "output_type": "stream",
     "text": [
      "Epoch 168, Validation Loss: 1.182212343811989, Accuracy: 0.6305732484076433\n"
     ]
    },
    {
     "name": "stderr",
     "output_type": "stream",
     "text": [
      "Training Epoch 169: 100%|█████████████████████████████████████████████████████████████| 59/59 [00:00<00:00, 186.76it/s]\n"
     ]
    },
    {
     "name": "stdout",
     "output_type": "stream",
     "text": [
      "Epoch 169, Training loss: 0.880129337310791\n"
     ]
    },
    {
     "name": "stderr",
     "output_type": "stream",
     "text": [
      "Validation Epoch 169: 100%|███████████████████████████████████████████████████████████| 20/20 [00:00<00:00, 442.72it/s]\n"
     ]
    },
    {
     "name": "stdout",
     "output_type": "stream",
     "text": [
      "Epoch 169, Validation Loss: 1.180517390370369, Accuracy: 0.6321656050955414\n"
     ]
    },
    {
     "name": "stderr",
     "output_type": "stream",
     "text": [
      "Training Epoch 170: 100%|█████████████████████████████████████████████████████████████| 59/59 [00:00<00:00, 185.21it/s]\n"
     ]
    },
    {
     "name": "stdout",
     "output_type": "stream",
     "text": [
      "Epoch 170, Training loss: 0.8719571374230466\n"
     ]
    },
    {
     "name": "stderr",
     "output_type": "stream",
     "text": [
      "Validation Epoch 170: 100%|███████████████████████████████████████████████████████████| 20/20 [00:00<00:00, 504.74it/s]\n"
     ]
    },
    {
     "name": "stdout",
     "output_type": "stream",
     "text": [
      "Epoch 170, Validation Loss: 1.1786670595407487, Accuracy: 0.6305732484076433\n"
     ]
    },
    {
     "name": "stderr",
     "output_type": "stream",
     "text": [
      "Training Epoch 171: 100%|█████████████████████████████████████████████████████████████| 59/59 [00:00<00:00, 195.77it/s]\n"
     ]
    },
    {
     "name": "stdout",
     "output_type": "stream",
     "text": [
      "Epoch 171, Training loss: 0.8859493823374732\n"
     ]
    },
    {
     "name": "stderr",
     "output_type": "stream",
     "text": [
      "Validation Epoch 171: 100%|███████████████████████████████████████████████████████████| 20/20 [00:00<00:00, 452.35it/s]\n"
     ]
    },
    {
     "name": "stdout",
     "output_type": "stream",
     "text": [
      "Epoch 171, Validation Loss: 1.1768660485744475, Accuracy: 0.6321656050955414\n"
     ]
    },
    {
     "name": "stderr",
     "output_type": "stream",
     "text": [
      "Training Epoch 172: 100%|█████████████████████████████████████████████████████████████| 59/59 [00:00<00:00, 171.93it/s]\n"
     ]
    },
    {
     "name": "stdout",
     "output_type": "stream",
     "text": [
      "Epoch 172, Training loss: 0.8529142414109182\n"
     ]
    },
    {
     "name": "stderr",
     "output_type": "stream",
     "text": [
      "Validation Epoch 172: 100%|███████████████████████████████████████████████████████████| 20/20 [00:00<00:00, 482.95it/s]\n"
     ]
    },
    {
     "name": "stdout",
     "output_type": "stream",
     "text": [
      "Epoch 172, Validation Loss: 1.1749153465032578, Accuracy: 0.6321656050955414\n"
     ]
    },
    {
     "name": "stderr",
     "output_type": "stream",
     "text": [
      "Training Epoch 173: 100%|█████████████████████████████████████████████████████████████| 59/59 [00:00<00:00, 185.56it/s]\n"
     ]
    },
    {
     "name": "stdout",
     "output_type": "stream",
     "text": [
      "Epoch 173, Training loss: 0.8755286265227754\n"
     ]
    },
    {
     "name": "stderr",
     "output_type": "stream",
     "text": [
      "Validation Epoch 173: 100%|███████████████████████████████████████████████████████████| 20/20 [00:00<00:00, 449.33it/s]\n"
     ]
    },
    {
     "name": "stdout",
     "output_type": "stream",
     "text": [
      "Epoch 173, Validation Loss: 1.1737017452716827, Accuracy: 0.6305732484076433\n"
     ]
    },
    {
     "name": "stderr",
     "output_type": "stream",
     "text": [
      "Training Epoch 174: 100%|█████████████████████████████████████████████████████████████| 59/59 [00:00<00:00, 180.85it/s]\n"
     ]
    },
    {
     "name": "stdout",
     "output_type": "stream",
     "text": [
      "Epoch 174, Training loss: 0.8940425868761741\n"
     ]
    },
    {
     "name": "stderr",
     "output_type": "stream",
     "text": [
      "Validation Epoch 174: 100%|███████████████████████████████████████████████████████████| 20/20 [00:00<00:00, 503.47it/s]\n"
     ]
    },
    {
     "name": "stdout",
     "output_type": "stream",
     "text": [
      "Epoch 174, Validation Loss: 1.1719975024461746, Accuracy: 0.6337579617834395\n"
     ]
    },
    {
     "name": "stderr",
     "output_type": "stream",
     "text": [
      "Training Epoch 175: 100%|█████████████████████████████████████████████████████████████| 59/59 [00:00<00:00, 201.72it/s]\n"
     ]
    },
    {
     "name": "stdout",
     "output_type": "stream",
     "text": [
      "Epoch 175, Training loss: 0.8703155426655785\n"
     ]
    },
    {
     "name": "stderr",
     "output_type": "stream",
     "text": [
      "Validation Epoch 175: 100%|███████████████████████████████████████████████████████████| 20/20 [00:00<00:00, 475.39it/s]\n"
     ]
    },
    {
     "name": "stdout",
     "output_type": "stream",
     "text": [
      "Epoch 175, Validation Loss: 1.170609951019287, Accuracy: 0.6321656050955414\n"
     ]
    },
    {
     "name": "stderr",
     "output_type": "stream",
     "text": [
      "Training Epoch 176: 100%|█████████████████████████████████████████████████████████████| 59/59 [00:00<00:00, 210.78it/s]\n"
     ]
    },
    {
     "name": "stdout",
     "output_type": "stream",
     "text": [
      "Epoch 176, Training loss: 0.8500789555452638\n"
     ]
    },
    {
     "name": "stderr",
     "output_type": "stream",
     "text": [
      "Validation Epoch 176: 100%|███████████████████████████████████████████████████████████| 20/20 [00:00<00:00, 524.99it/s]\n"
     ]
    },
    {
     "name": "stdout",
     "output_type": "stream",
     "text": [
      "Epoch 176, Validation Loss: 1.1689841747283936, Accuracy: 0.6321656050955414\n"
     ]
    },
    {
     "name": "stderr",
     "output_type": "stream",
     "text": [
      "Training Epoch 177: 100%|█████████████████████████████████████████████████████████████| 59/59 [00:00<00:00, 183.64it/s]\n"
     ]
    },
    {
     "name": "stdout",
     "output_type": "stream",
     "text": [
      "Epoch 177, Training loss: 0.8539806867049913\n"
     ]
    },
    {
     "name": "stderr",
     "output_type": "stream",
     "text": [
      "Validation Epoch 177: 100%|███████████████████████████████████████████████████████████| 20/20 [00:00<00:00, 499.16it/s]\n"
     ]
    },
    {
     "name": "stdout",
     "output_type": "stream",
     "text": [
      "Epoch 177, Validation Loss: 1.1667817562818528, Accuracy: 0.6337579617834395\n"
     ]
    },
    {
     "name": "stderr",
     "output_type": "stream",
     "text": [
      "Training Epoch 178: 100%|█████████████████████████████████████████████████████████████| 59/59 [00:00<00:00, 203.45it/s]\n"
     ]
    },
    {
     "name": "stdout",
     "output_type": "stream",
     "text": [
      "Epoch 178, Training loss: 0.8603807263455149\n"
     ]
    },
    {
     "name": "stderr",
     "output_type": "stream",
     "text": [
      "Validation Epoch 178: 100%|███████████████████████████████████████████████████████████| 20/20 [00:00<00:00, 449.55it/s]\n"
     ]
    },
    {
     "name": "stdout",
     "output_type": "stream",
     "text": [
      "Epoch 178, Validation Loss: 1.1653383731842042, Accuracy: 0.6305732484076433\n"
     ]
    },
    {
     "name": "stderr",
     "output_type": "stream",
     "text": [
      "Training Epoch 179: 100%|█████████████████████████████████████████████████████████████| 59/59 [00:00<00:00, 205.05it/s]\n"
     ]
    },
    {
     "name": "stdout",
     "output_type": "stream",
     "text": [
      "Epoch 179, Training loss: 0.8532125717502529\n"
     ]
    },
    {
     "name": "stderr",
     "output_type": "stream",
     "text": [
      "Validation Epoch 179: 100%|███████████████████████████████████████████████████████████| 20/20 [00:00<00:00, 512.75it/s]\n"
     ]
    },
    {
     "name": "stdout",
     "output_type": "stream",
     "text": [
      "Epoch 179, Validation Loss: 1.1638021916151047, Accuracy: 0.6321656050955414\n"
     ]
    },
    {
     "name": "stderr",
     "output_type": "stream",
     "text": [
      "Training Epoch 180: 100%|█████████████████████████████████████████████████████████████| 59/59 [00:00<00:00, 190.64it/s]\n"
     ]
    },
    {
     "name": "stdout",
     "output_type": "stream",
     "text": [
      "Epoch 180, Training loss: 0.8555009839898449\n"
     ]
    },
    {
     "name": "stderr",
     "output_type": "stream",
     "text": [
      "Validation Epoch 180: 100%|███████████████████████████████████████████████████████████| 20/20 [00:00<00:00, 540.37it/s]\n"
     ]
    },
    {
     "name": "stdout",
     "output_type": "stream",
     "text": [
      "Epoch 180, Validation Loss: 1.1621118247509004, Accuracy: 0.6321656050955414\n"
     ]
    },
    {
     "name": "stderr",
     "output_type": "stream",
     "text": [
      "Training Epoch 181: 100%|█████████████████████████████████████████████████████████████| 59/59 [00:00<00:00, 196.40it/s]\n"
     ]
    },
    {
     "name": "stdout",
     "output_type": "stream",
     "text": [
      "Epoch 181, Training loss: 0.8576228416572182\n"
     ]
    },
    {
     "name": "stderr",
     "output_type": "stream",
     "text": [
      "Validation Epoch 181: 100%|███████████████████████████████████████████████████████████| 20/20 [00:00<00:00, 323.68it/s]\n"
     ]
    },
    {
     "name": "stdout",
     "output_type": "stream",
     "text": [
      "Epoch 181, Validation Loss: 1.1599785387516022, Accuracy: 0.6385350318471338\n"
     ]
    },
    {
     "name": "stderr",
     "output_type": "stream",
     "text": [
      "Training Epoch 182: 100%|█████████████████████████████████████████████████████████████| 59/59 [00:00<00:00, 195.77it/s]\n"
     ]
    },
    {
     "name": "stdout",
     "output_type": "stream",
     "text": [
      "Epoch 182, Training loss: 0.8210033779427156\n"
     ]
    },
    {
     "name": "stderr",
     "output_type": "stream",
     "text": [
      "Validation Epoch 182: 100%|███████████████████████████████████████████████████████████| 20/20 [00:00<00:00, 515.70it/s]\n"
     ]
    },
    {
     "name": "stdout",
     "output_type": "stream",
     "text": [
      "Epoch 182, Validation Loss: 1.1590575993061065, Accuracy: 0.6337579617834395\n"
     ]
    },
    {
     "name": "stderr",
     "output_type": "stream",
     "text": [
      "Training Epoch 183: 100%|█████████████████████████████████████████████████████████████| 59/59 [00:00<00:00, 195.70it/s]\n"
     ]
    },
    {
     "name": "stdout",
     "output_type": "stream",
     "text": [
      "Epoch 183, Training loss: 0.8606334298343982\n"
     ]
    },
    {
     "name": "stderr",
     "output_type": "stream",
     "text": [
      "Validation Epoch 183: 100%|███████████████████████████████████████████████████████████| 20/20 [00:00<00:00, 512.17it/s]\n"
     ]
    },
    {
     "name": "stdout",
     "output_type": "stream",
     "text": [
      "Epoch 183, Validation Loss: 1.1574298173189164, Accuracy: 0.6337579617834395\n"
     ]
    },
    {
     "name": "stderr",
     "output_type": "stream",
     "text": [
      "Training Epoch 184: 100%|█████████████████████████████████████████████████████████████| 59/59 [00:00<00:00, 180.83it/s]\n"
     ]
    },
    {
     "name": "stdout",
     "output_type": "stream",
     "text": [
      "Epoch 184, Training loss: 0.8355784143431711\n"
     ]
    },
    {
     "name": "stderr",
     "output_type": "stream",
     "text": [
      "Validation Epoch 184: 100%|███████████████████████████████████████████████████████████| 20/20 [00:00<00:00, 509.51it/s]\n"
     ]
    },
    {
     "name": "stdout",
     "output_type": "stream",
     "text": [
      "Epoch 184, Validation Loss: 1.1558522403240203, Accuracy: 0.6353503184713376\n"
     ]
    },
    {
     "name": "stderr",
     "output_type": "stream",
     "text": [
      "Training Epoch 185: 100%|█████████████████████████████████████████████████████████████| 59/59 [00:00<00:00, 204.04it/s]\n"
     ]
    },
    {
     "name": "stdout",
     "output_type": "stream",
     "text": [
      "Epoch 185, Training loss: 0.82515949010849\n"
     ]
    },
    {
     "name": "stderr",
     "output_type": "stream",
     "text": [
      "Validation Epoch 185: 100%|███████████████████████████████████████████████████████████| 20/20 [00:00<00:00, 505.32it/s]\n"
     ]
    },
    {
     "name": "stdout",
     "output_type": "stream",
     "text": [
      "Epoch 185, Validation Loss: 1.1546700775623322, Accuracy: 0.6337579617834395\n"
     ]
    },
    {
     "name": "stderr",
     "output_type": "stream",
     "text": [
      "Training Epoch 186: 100%|█████████████████████████████████████████████████████████████| 59/59 [00:00<00:00, 207.82it/s]\n"
     ]
    },
    {
     "name": "stdout",
     "output_type": "stream",
     "text": [
      "Epoch 186, Training loss: 0.8457609809051125\n"
     ]
    },
    {
     "name": "stderr",
     "output_type": "stream",
     "text": [
      "Validation Epoch 186: 100%|███████████████████████████████████████████████████████████| 20/20 [00:00<00:00, 423.06it/s]\n"
     ]
    },
    {
     "name": "stdout",
     "output_type": "stream",
     "text": [
      "Epoch 186, Validation Loss: 1.1533785313367844, Accuracy: 0.6353503184713376\n"
     ]
    },
    {
     "name": "stderr",
     "output_type": "stream",
     "text": [
      "Training Epoch 187: 100%|█████████████████████████████████████████████████████████████| 59/59 [00:00<00:00, 196.95it/s]\n"
     ]
    },
    {
     "name": "stdout",
     "output_type": "stream",
     "text": [
      "Epoch 187, Training loss: 0.8267396243952089\n"
     ]
    },
    {
     "name": "stderr",
     "output_type": "stream",
     "text": [
      "Validation Epoch 187: 100%|███████████████████████████████████████████████████████████| 20/20 [00:00<00:00, 522.80it/s]\n"
     ]
    },
    {
     "name": "stdout",
     "output_type": "stream",
     "text": [
      "Epoch 187, Validation Loss: 1.151380369067192, Accuracy: 0.6305732484076433\n"
     ]
    },
    {
     "name": "stderr",
     "output_type": "stream",
     "text": [
      "Training Epoch 188: 100%|█████████████████████████████████████████████████████████████| 59/59 [00:00<00:00, 204.98it/s]\n"
     ]
    },
    {
     "name": "stdout",
     "output_type": "stream",
     "text": [
      "Epoch 188, Training loss: 0.8266941601947203\n"
     ]
    },
    {
     "name": "stderr",
     "output_type": "stream",
     "text": [
      "Validation Epoch 188: 100%|███████████████████████████████████████████████████████████| 20/20 [00:00<00:00, 520.92it/s]\n"
     ]
    },
    {
     "name": "stdout",
     "output_type": "stream",
     "text": [
      "Epoch 188, Validation Loss: 1.150024202466011, Accuracy: 0.6353503184713376\n"
     ]
    },
    {
     "name": "stderr",
     "output_type": "stream",
     "text": [
      "Training Epoch 189: 100%|█████████████████████████████████████████████████████████████| 59/59 [00:00<00:00, 201.97it/s]\n"
     ]
    },
    {
     "name": "stdout",
     "output_type": "stream",
     "text": [
      "Epoch 189, Training loss: 0.8276457402665737\n"
     ]
    },
    {
     "name": "stderr",
     "output_type": "stream",
     "text": [
      "Validation Epoch 189: 100%|███████████████████████████████████████████████████████████| 20/20 [00:00<00:00, 453.29it/s]\n"
     ]
    },
    {
     "name": "stdout",
     "output_type": "stream",
     "text": [
      "Epoch 189, Validation Loss: 1.1490776181221007, Accuracy: 0.6321656050955414\n"
     ]
    },
    {
     "name": "stderr",
     "output_type": "stream",
     "text": [
      "Training Epoch 190: 100%|█████████████████████████████████████████████████████████████| 59/59 [00:00<00:00, 205.40it/s]\n"
     ]
    },
    {
     "name": "stdout",
     "output_type": "stream",
     "text": [
      "Epoch 190, Training loss: 0.8161594746476513\n"
     ]
    },
    {
     "name": "stderr",
     "output_type": "stream",
     "text": [
      "Validation Epoch 190: 100%|███████████████████████████████████████████████████████████| 20/20 [00:00<00:00, 517.00it/s]\n"
     ]
    },
    {
     "name": "stdout",
     "output_type": "stream",
     "text": [
      "Epoch 190, Validation Loss: 1.14780992269516, Accuracy: 0.6337579617834395\n"
     ]
    },
    {
     "name": "stderr",
     "output_type": "stream",
     "text": [
      "Training Epoch 191: 100%|█████████████████████████████████████████████████████████████| 59/59 [00:00<00:00, 209.58it/s]\n"
     ]
    },
    {
     "name": "stdout",
     "output_type": "stream",
     "text": [
      "Epoch 191, Training loss: 0.8070252951929124\n"
     ]
    },
    {
     "name": "stderr",
     "output_type": "stream",
     "text": [
      "Validation Epoch 191: 100%|███████████████████████████████████████████████████████████| 20/20 [00:00<00:00, 488.64it/s]\n"
     ]
    },
    {
     "name": "stdout",
     "output_type": "stream",
     "text": [
      "Epoch 191, Validation Loss: 1.1461661964654923, Accuracy: 0.6337579617834395\n"
     ]
    },
    {
     "name": "stderr",
     "output_type": "stream",
     "text": [
      "Training Epoch 192: 100%|█████████████████████████████████████████████████████████████| 59/59 [00:00<00:00, 186.30it/s]\n"
     ]
    },
    {
     "name": "stdout",
     "output_type": "stream",
     "text": [
      "Epoch 192, Training loss: 0.8138575230614614\n"
     ]
    },
    {
     "name": "stderr",
     "output_type": "stream",
     "text": [
      "Validation Epoch 192: 100%|███████████████████████████████████████████████████████████| 20/20 [00:00<00:00, 476.69it/s]\n"
     ]
    },
    {
     "name": "stdout",
     "output_type": "stream",
     "text": [
      "Epoch 192, Validation Loss: 1.144274079799652, Accuracy: 0.6385350318471338\n"
     ]
    },
    {
     "name": "stderr",
     "output_type": "stream",
     "text": [
      "Training Epoch 193: 100%|█████████████████████████████████████████████████████████████| 59/59 [00:00<00:00, 202.86it/s]\n"
     ]
    },
    {
     "name": "stdout",
     "output_type": "stream",
     "text": [
      "Epoch 193, Training loss: 0.8127275644722631\n"
     ]
    },
    {
     "name": "stderr",
     "output_type": "stream",
     "text": [
      "Validation Epoch 193: 100%|███████████████████████████████████████████████████████████| 20/20 [00:00<00:00, 500.99it/s]\n"
     ]
    },
    {
     "name": "stdout",
     "output_type": "stream",
     "text": [
      "Epoch 193, Validation Loss: 1.1432903021574021, Accuracy: 0.6337579617834395\n"
     ]
    },
    {
     "name": "stderr",
     "output_type": "stream",
     "text": [
      "Training Epoch 194: 100%|█████████████████████████████████████████████████████████████| 59/59 [00:00<00:00, 206.40it/s]\n"
     ]
    },
    {
     "name": "stdout",
     "output_type": "stream",
     "text": [
      "Epoch 194, Training loss: 0.8012945076166573\n"
     ]
    },
    {
     "name": "stderr",
     "output_type": "stream",
     "text": [
      "Validation Epoch 194: 100%|███████████████████████████████████████████████████████████| 20/20 [00:00<00:00, 470.40it/s]\n"
     ]
    },
    {
     "name": "stdout",
     "output_type": "stream",
     "text": [
      "Epoch 194, Validation Loss: 1.1412810266017914, Accuracy: 0.6369426751592356\n"
     ]
    },
    {
     "name": "stderr",
     "output_type": "stream",
     "text": [
      "Training Epoch 195: 100%|█████████████████████████████████████████████████████████████| 59/59 [00:00<00:00, 198.49it/s]\n"
     ]
    },
    {
     "name": "stdout",
     "output_type": "stream",
     "text": [
      "Epoch 195, Training loss: 0.8097257457547269\n"
     ]
    },
    {
     "name": "stderr",
     "output_type": "stream",
     "text": [
      "Validation Epoch 195: 100%|███████████████████████████████████████████████████████████| 20/20 [00:00<00:00, 391.01it/s]\n"
     ]
    },
    {
     "name": "stdout",
     "output_type": "stream",
     "text": [
      "Epoch 195, Validation Loss: 1.1400521010160447, Accuracy: 0.6369426751592356\n"
     ]
    },
    {
     "name": "stderr",
     "output_type": "stream",
     "text": [
      "Training Epoch 196: 100%|█████████████████████████████████████████████████████████████| 59/59 [00:00<00:00, 196.94it/s]\n"
     ]
    },
    {
     "name": "stdout",
     "output_type": "stream",
     "text": [
      "Epoch 196, Training loss: 0.7989899202928705\n"
     ]
    },
    {
     "name": "stderr",
     "output_type": "stream",
     "text": [
      "Validation Epoch 196: 100%|███████████████████████████████████████████████████████████| 20/20 [00:00<00:00, 504.93it/s]\n"
     ]
    },
    {
     "name": "stdout",
     "output_type": "stream",
     "text": [
      "Epoch 196, Validation Loss: 1.1381915181875228, Accuracy: 0.6385350318471338\n"
     ]
    },
    {
     "name": "stderr",
     "output_type": "stream",
     "text": [
      "Training Epoch 197: 100%|█████████████████████████████████████████████████████████████| 59/59 [00:00<00:00, 204.51it/s]\n"
     ]
    },
    {
     "name": "stdout",
     "output_type": "stream",
     "text": [
      "Epoch 197, Training loss: 0.7787539706391803\n"
     ]
    },
    {
     "name": "stderr",
     "output_type": "stream",
     "text": [
      "Validation Epoch 197: 100%|███████████████████████████████████████████████████████████| 20/20 [00:00<00:00, 502.91it/s]\n"
     ]
    },
    {
     "name": "stdout",
     "output_type": "stream",
     "text": [
      "Epoch 197, Validation Loss: 1.1372077614068985, Accuracy: 0.6369426751592356\n"
     ]
    },
    {
     "name": "stderr",
     "output_type": "stream",
     "text": [
      "Training Epoch 198: 100%|█████████████████████████████████████████████████████████████| 59/59 [00:00<00:00, 191.63it/s]\n"
     ]
    },
    {
     "name": "stdout",
     "output_type": "stream",
     "text": [
      "Epoch 198, Training loss: 0.7698619759688943\n"
     ]
    },
    {
     "name": "stderr",
     "output_type": "stream",
     "text": [
      "Validation Epoch 198: 100%|███████████████████████████████████████████████████████████| 20/20 [00:00<00:00, 401.42it/s]\n"
     ]
    },
    {
     "name": "stdout",
     "output_type": "stream",
     "text": [
      "Epoch 198, Validation Loss: 1.1352536380290985, Accuracy: 0.6385350318471338\n"
     ]
    },
    {
     "name": "stderr",
     "output_type": "stream",
     "text": [
      "Training Epoch 199: 100%|█████████████████████████████████████████████████████████████| 59/59 [00:00<00:00, 215.36it/s]\n"
     ]
    },
    {
     "name": "stdout",
     "output_type": "stream",
     "text": [
      "Epoch 199, Training loss: 0.7892713991262145\n"
     ]
    },
    {
     "name": "stderr",
     "output_type": "stream",
     "text": [
      "Validation Epoch 199: 100%|███████████████████████████████████████████████████████████| 20/20 [00:00<00:00, 517.04it/s]\n"
     ]
    },
    {
     "name": "stdout",
     "output_type": "stream",
     "text": [
      "Epoch 199, Validation Loss: 1.1335900396108627, Accuracy: 0.6401273885350318\n"
     ]
    },
    {
     "name": "stderr",
     "output_type": "stream",
     "text": [
      "Training Epoch 200: 100%|█████████████████████████████████████████████████████████████| 59/59 [00:00<00:00, 196.10it/s]\n"
     ]
    },
    {
     "name": "stdout",
     "output_type": "stream",
     "text": [
      "Epoch 200, Training loss: 0.7949403170811928\n"
     ]
    },
    {
     "name": "stderr",
     "output_type": "stream",
     "text": [
      "Validation Epoch 200: 100%|███████████████████████████████████████████████████████████| 20/20 [00:00<00:00, 549.33it/s]\n"
     ]
    },
    {
     "name": "stdout",
     "output_type": "stream",
     "text": [
      "Epoch 200, Validation Loss: 1.1325655460357666, Accuracy: 0.6385350318471338\n"
     ]
    },
    {
     "name": "stderr",
     "output_type": "stream",
     "text": [
      "Training Epoch 201: 100%|█████████████████████████████████████████████████████████████| 59/59 [00:00<00:00, 187.99it/s]\n"
     ]
    },
    {
     "name": "stdout",
     "output_type": "stream",
     "text": [
      "Epoch 201, Training loss: 0.769504203634747\n"
     ]
    },
    {
     "name": "stderr",
     "output_type": "stream",
     "text": [
      "Validation Epoch 201: 100%|███████████████████████████████████████████████████████████| 20/20 [00:00<00:00, 405.13it/s]\n"
     ]
    },
    {
     "name": "stdout",
     "output_type": "stream",
     "text": [
      "Epoch 201, Validation Loss: 1.131468164920807, Accuracy: 0.6369426751592356\n"
     ]
    },
    {
     "name": "stderr",
     "output_type": "stream",
     "text": [
      "Training Epoch 202: 100%|█████████████████████████████████████████████████████████████| 59/59 [00:00<00:00, 199.53it/s]\n"
     ]
    },
    {
     "name": "stdout",
     "output_type": "stream",
     "text": [
      "Epoch 202, Training loss: 0.7601570476919918\n"
     ]
    },
    {
     "name": "stderr",
     "output_type": "stream",
     "text": [
      "Validation Epoch 202: 100%|███████████████████████████████████████████████████████████| 20/20 [00:00<00:00, 535.59it/s]\n"
     ]
    },
    {
     "name": "stdout",
     "output_type": "stream",
     "text": [
      "Epoch 202, Validation Loss: 1.1301305800676347, Accuracy: 0.6369426751592356\n"
     ]
    },
    {
     "name": "stderr",
     "output_type": "stream",
     "text": [
      "Training Epoch 203: 100%|█████████████████████████████████████████████████████████████| 59/59 [00:00<00:00, 183.09it/s]\n"
     ]
    },
    {
     "name": "stdout",
     "output_type": "stream",
     "text": [
      "Epoch 203, Training loss: 0.7917892084283343\n"
     ]
    },
    {
     "name": "stderr",
     "output_type": "stream",
     "text": [
      "Validation Epoch 203: 100%|███████████████████████████████████████████████████████████| 20/20 [00:00<00:00, 448.37it/s]\n"
     ]
    },
    {
     "name": "stdout",
     "output_type": "stream",
     "text": [
      "Epoch 203, Validation Loss: 1.1287235260009765, Accuracy: 0.6385350318471338\n"
     ]
    },
    {
     "name": "stderr",
     "output_type": "stream",
     "text": [
      "Training Epoch 204: 100%|█████████████████████████████████████████████████████████████| 59/59 [00:00<00:00, 206.12it/s]\n"
     ]
    },
    {
     "name": "stdout",
     "output_type": "stream",
     "text": [
      "Epoch 204, Training loss: 0.7679636877472118\n"
     ]
    },
    {
     "name": "stderr",
     "output_type": "stream",
     "text": [
      "Validation Epoch 204: 100%|███████████████████████████████████████████████████████████| 20/20 [00:00<00:00, 502.62it/s]\n"
     ]
    },
    {
     "name": "stdout",
     "output_type": "stream",
     "text": [
      "Epoch 204, Validation Loss: 1.1271947413682937, Accuracy: 0.64171974522293\n"
     ]
    },
    {
     "name": "stderr",
     "output_type": "stream",
     "text": [
      "Training Epoch 205: 100%|█████████████████████████████████████████████████████████████| 59/59 [00:00<00:00, 205.21it/s]\n"
     ]
    },
    {
     "name": "stdout",
     "output_type": "stream",
     "text": [
      "Epoch 205, Training loss: 0.773119078854383\n"
     ]
    },
    {
     "name": "stderr",
     "output_type": "stream",
     "text": [
      "Validation Epoch 205: 100%|███████████████████████████████████████████████████████████| 20/20 [00:00<00:00, 497.79it/s]\n"
     ]
    },
    {
     "name": "stdout",
     "output_type": "stream",
     "text": [
      "Epoch 205, Validation Loss: 1.1263239592313767, Accuracy: 0.6369426751592356\n"
     ]
    },
    {
     "name": "stderr",
     "output_type": "stream",
     "text": [
      "Training Epoch 206: 100%|█████████████████████████████████████████████████████████████| 59/59 [00:00<00:00, 201.82it/s]\n"
     ]
    },
    {
     "name": "stdout",
     "output_type": "stream",
     "text": [
      "Epoch 206, Training loss: 0.7704603272979542\n"
     ]
    },
    {
     "name": "stderr",
     "output_type": "stream",
     "text": [
      "Validation Epoch 206: 100%|███████████████████████████████████████████████████████████| 20/20 [00:00<00:00, 472.00it/s]\n"
     ]
    },
    {
     "name": "stdout",
     "output_type": "stream",
     "text": [
      "Epoch 206, Validation Loss: 1.1245397239923478, Accuracy: 0.6401273885350318\n"
     ]
    },
    {
     "name": "stderr",
     "output_type": "stream",
     "text": [
      "Training Epoch 207: 100%|█████████████████████████████████████████████████████████████| 59/59 [00:00<00:00, 184.64it/s]\n"
     ]
    },
    {
     "name": "stdout",
     "output_type": "stream",
     "text": [
      "Epoch 207, Training loss: 0.7593150391417035\n"
     ]
    },
    {
     "name": "stderr",
     "output_type": "stream",
     "text": [
      "Validation Epoch 207: 100%|███████████████████████████████████████████████████████████| 20/20 [00:00<00:00, 474.87it/s]\n"
     ]
    },
    {
     "name": "stdout",
     "output_type": "stream",
     "text": [
      "Epoch 207, Validation Loss: 1.1231818288564681, Accuracy: 0.6385350318471338\n"
     ]
    },
    {
     "name": "stderr",
     "output_type": "stream",
     "text": [
      "Training Epoch 208: 100%|█████████████████████████████████████████████████████████████| 59/59 [00:00<00:00, 205.92it/s]\n"
     ]
    },
    {
     "name": "stdout",
     "output_type": "stream",
     "text": [
      "Epoch 208, Training loss: 0.757935890706919\n"
     ]
    },
    {
     "name": "stderr",
     "output_type": "stream",
     "text": [
      "Validation Epoch 208: 100%|███████████████████████████████████████████████████████████| 20/20 [00:00<00:00, 465.59it/s]\n"
     ]
    },
    {
     "name": "stdout",
     "output_type": "stream",
     "text": [
      "Epoch 208, Validation Loss: 1.1222704887390136, Accuracy: 0.6385350318471338\n"
     ]
    },
    {
     "name": "stderr",
     "output_type": "stream",
     "text": [
      "Training Epoch 209: 100%|█████████████████████████████████████████████████████████████| 59/59 [00:00<00:00, 186.14it/s]\n"
     ]
    },
    {
     "name": "stdout",
     "output_type": "stream",
     "text": [
      "Epoch 209, Training loss: 0.7447259380655774\n"
     ]
    },
    {
     "name": "stderr",
     "output_type": "stream",
     "text": [
      "Validation Epoch 209: 100%|███████████████████████████████████████████████████████████| 20/20 [00:00<00:00, 475.87it/s]\n"
     ]
    },
    {
     "name": "stdout",
     "output_type": "stream",
     "text": [
      "Epoch 209, Validation Loss: 1.1208944767713547, Accuracy: 0.643312101910828\n"
     ]
    },
    {
     "name": "stderr",
     "output_type": "stream",
     "text": [
      "Training Epoch 210: 100%|█████████████████████████████████████████████████████████████| 59/59 [00:00<00:00, 193.04it/s]\n"
     ]
    },
    {
     "name": "stdout",
     "output_type": "stream",
     "text": [
      "Epoch 210, Training loss: 0.7585205011448618\n"
     ]
    },
    {
     "name": "stderr",
     "output_type": "stream",
     "text": [
      "Validation Epoch 210: 100%|███████████████████████████████████████████████████████████| 20/20 [00:00<00:00, 405.87it/s]\n"
     ]
    },
    {
     "name": "stdout",
     "output_type": "stream",
     "text": [
      "Epoch 210, Validation Loss: 1.1197863727808, Accuracy: 0.64171974522293\n"
     ]
    },
    {
     "name": "stderr",
     "output_type": "stream",
     "text": [
      "Training Epoch 211: 100%|█████████████████████████████████████████████████████████████| 59/59 [00:00<00:00, 203.18it/s]\n"
     ]
    },
    {
     "name": "stdout",
     "output_type": "stream",
     "text": [
      "Epoch 211, Training loss: 0.7358793515270039\n"
     ]
    },
    {
     "name": "stderr",
     "output_type": "stream",
     "text": [
      "Validation Epoch 211: 100%|███████████████████████████████████████████████████████████| 20/20 [00:00<00:00, 480.81it/s]\n"
     ]
    },
    {
     "name": "stdout",
     "output_type": "stream",
     "text": [
      "Epoch 211, Validation Loss: 1.1187703371047975, Accuracy: 0.6385350318471338\n"
     ]
    },
    {
     "name": "stderr",
     "output_type": "stream",
     "text": [
      "Training Epoch 212: 100%|█████████████████████████████████████████████████████████████| 59/59 [00:00<00:00, 173.41it/s]\n"
     ]
    },
    {
     "name": "stdout",
     "output_type": "stream",
     "text": [
      "Epoch 212, Training loss: 0.7275926884958299\n"
     ]
    },
    {
     "name": "stderr",
     "output_type": "stream",
     "text": [
      "Validation Epoch 212: 100%|███████████████████████████████████████████████████████████| 20/20 [00:00<00:00, 450.21it/s]\n"
     ]
    },
    {
     "name": "stdout",
     "output_type": "stream",
     "text": [
      "Epoch 212, Validation Loss: 1.117372888326645, Accuracy: 0.6401273885350318\n"
     ]
    },
    {
     "name": "stderr",
     "output_type": "stream",
     "text": [
      "Training Epoch 213: 100%|█████████████████████████████████████████████████████████████| 59/59 [00:00<00:00, 207.85it/s]\n"
     ]
    },
    {
     "name": "stdout",
     "output_type": "stream",
     "text": [
      "Epoch 213, Training loss: 0.7618668089478703\n"
     ]
    },
    {
     "name": "stderr",
     "output_type": "stream",
     "text": [
      "Validation Epoch 213: 100%|███████████████████████████████████████████████████████████| 20/20 [00:00<00:00, 328.81it/s]\n"
     ]
    },
    {
     "name": "stdout",
     "output_type": "stream",
     "text": [
      "Epoch 213, Validation Loss: 1.1159655064344407, Accuracy: 0.64171974522293\n"
     ]
    },
    {
     "name": "stderr",
     "output_type": "stream",
     "text": [
      "Training Epoch 214: 100%|█████████████████████████████████████████████████████████████| 59/59 [00:00<00:00, 201.69it/s]\n"
     ]
    },
    {
     "name": "stdout",
     "output_type": "stream",
     "text": [
      "Epoch 214, Training loss: 0.7387031054092665\n"
     ]
    },
    {
     "name": "stderr",
     "output_type": "stream",
     "text": [
      "Validation Epoch 214: 100%|███████████████████████████████████████████████████████████| 20/20 [00:00<00:00, 399.65it/s]\n"
     ]
    },
    {
     "name": "stdout",
     "output_type": "stream",
     "text": [
      "Epoch 214, Validation Loss: 1.1143390119075776, Accuracy: 0.6480891719745223\n"
     ]
    },
    {
     "name": "stderr",
     "output_type": "stream",
     "text": [
      "Training Epoch 215: 100%|█████████████████████████████████████████████████████████████| 59/59 [00:00<00:00, 201.54it/s]\n"
     ]
    },
    {
     "name": "stdout",
     "output_type": "stream",
     "text": [
      "Epoch 215, Training loss: 0.7243506458856291\n"
     ]
    },
    {
     "name": "stderr",
     "output_type": "stream",
     "text": [
      "Validation Epoch 215: 100%|███████████████████████████████████████████████████████████| 20/20 [00:00<00:00, 337.83it/s]\n"
     ]
    },
    {
     "name": "stdout",
     "output_type": "stream",
     "text": [
      "Epoch 215, Validation Loss: 1.1132268071174622, Accuracy: 0.6480891719745223\n"
     ]
    },
    {
     "name": "stderr",
     "output_type": "stream",
     "text": [
      "Training Epoch 216: 100%|█████████████████████████████████████████████████████████████| 59/59 [00:00<00:00, 203.02it/s]\n"
     ]
    },
    {
     "name": "stdout",
     "output_type": "stream",
     "text": [
      "Epoch 216, Training loss: 0.7202101460957931\n"
     ]
    },
    {
     "name": "stderr",
     "output_type": "stream",
     "text": [
      "Validation Epoch 216: 100%|███████████████████████████████████████████████████████████| 20/20 [00:00<00:00, 519.02it/s]\n"
     ]
    },
    {
     "name": "stdout",
     "output_type": "stream",
     "text": [
      "Epoch 216, Validation Loss: 1.1118965774774552, Accuracy: 0.6480891719745223\n"
     ]
    },
    {
     "name": "stderr",
     "output_type": "stream",
     "text": [
      "Training Epoch 217: 100%|█████████████████████████████████████████████████████████████| 59/59 [00:00<00:00, 193.57it/s]\n"
     ]
    },
    {
     "name": "stdout",
     "output_type": "stream",
     "text": [
      "Epoch 217, Training loss: 0.7365265407804715\n"
     ]
    },
    {
     "name": "stderr",
     "output_type": "stream",
     "text": [
      "Validation Epoch 217: 100%|███████████████████████████████████████████████████████████| 20/20 [00:00<00:00, 485.58it/s]\n"
     ]
    },
    {
     "name": "stdout",
     "output_type": "stream",
     "text": [
      "Epoch 217, Validation Loss: 1.1105170249938965, Accuracy: 0.6496815286624203\n"
     ]
    },
    {
     "name": "stderr",
     "output_type": "stream",
     "text": [
      "Training Epoch 218: 100%|█████████████████████████████████████████████████████████████| 59/59 [00:00<00:00, 198.47it/s]\n"
     ]
    },
    {
     "name": "stdout",
     "output_type": "stream",
     "text": [
      "Epoch 218, Training loss: 0.7478482874773317\n"
     ]
    },
    {
     "name": "stderr",
     "output_type": "stream",
     "text": [
      "Validation Epoch 218: 100%|███████████████████████████████████████████████████████████| 20/20 [00:00<00:00, 496.55it/s]\n"
     ]
    },
    {
     "name": "stdout",
     "output_type": "stream",
     "text": [
      "Epoch 218, Validation Loss: 1.1090492099523543, Accuracy: 0.6464968152866242\n"
     ]
    },
    {
     "name": "stderr",
     "output_type": "stream",
     "text": [
      "Training Epoch 219: 100%|█████████████████████████████████████████████████████████████| 59/59 [00:00<00:00, 204.98it/s]\n"
     ]
    },
    {
     "name": "stdout",
     "output_type": "stream",
     "text": [
      "Epoch 219, Training loss: 0.7273618695089372\n"
     ]
    },
    {
     "name": "stderr",
     "output_type": "stream",
     "text": [
      "Validation Epoch 219: 100%|███████████████████████████████████████████████████████████| 20/20 [00:00<00:00, 332.49it/s]\n"
     ]
    },
    {
     "name": "stdout",
     "output_type": "stream",
     "text": [
      "Epoch 219, Validation Loss: 1.1080728143453598, Accuracy: 0.6496815286624203\n"
     ]
    },
    {
     "name": "stderr",
     "output_type": "stream",
     "text": [
      "Training Epoch 220: 100%|█████████████████████████████████████████████████████████████| 59/59 [00:00<00:00, 170.49it/s]\n"
     ]
    },
    {
     "name": "stdout",
     "output_type": "stream",
     "text": [
      "Epoch 220, Training loss: 0.7282047554598017\n"
     ]
    },
    {
     "name": "stderr",
     "output_type": "stream",
     "text": [
      "Validation Epoch 220: 100%|███████████████████████████████████████████████████████████| 20/20 [00:00<00:00, 464.06it/s]\n"
     ]
    },
    {
     "name": "stdout",
     "output_type": "stream",
     "text": [
      "Epoch 220, Validation Loss: 1.1066842705011368, Accuracy: 0.6496815286624203\n"
     ]
    },
    {
     "name": "stderr",
     "output_type": "stream",
     "text": [
      "Training Epoch 221: 100%|█████████████████████████████████████████████████████████████| 59/59 [00:00<00:00, 197.80it/s]\n"
     ]
    },
    {
     "name": "stdout",
     "output_type": "stream",
     "text": [
      "Epoch 221, Training loss: 0.7177260780738572\n"
     ]
    },
    {
     "name": "stderr",
     "output_type": "stream",
     "text": [
      "Validation Epoch 221: 100%|███████████████████████████████████████████████████████████| 20/20 [00:00<00:00, 517.73it/s]\n"
     ]
    },
    {
     "name": "stdout",
     "output_type": "stream",
     "text": [
      "Epoch 221, Validation Loss: 1.1058108001947402, Accuracy: 0.6496815286624203\n"
     ]
    },
    {
     "name": "stderr",
     "output_type": "stream",
     "text": [
      "Training Epoch 222: 100%|█████████████████████████████████████████████████████████████| 59/59 [00:00<00:00, 210.78it/s]\n"
     ]
    },
    {
     "name": "stdout",
     "output_type": "stream",
     "text": [
      "Epoch 222, Training loss: 0.715568869800891\n"
     ]
    },
    {
     "name": "stderr",
     "output_type": "stream",
     "text": [
      "Validation Epoch 222: 100%|███████████████████████████████████████████████████████████| 20/20 [00:00<00:00, 508.71it/s]\n"
     ]
    },
    {
     "name": "stdout",
     "output_type": "stream",
     "text": [
      "Epoch 222, Validation Loss: 1.1051731556653976, Accuracy: 0.6480891719745223\n"
     ]
    },
    {
     "name": "stderr",
     "output_type": "stream",
     "text": [
      "Training Epoch 223: 100%|█████████████████████████████████████████████████████████████| 59/59 [00:00<00:00, 198.44it/s]\n"
     ]
    },
    {
     "name": "stdout",
     "output_type": "stream",
     "text": [
      "Epoch 223, Training loss: 0.71716438309621\n"
     ]
    },
    {
     "name": "stderr",
     "output_type": "stream",
     "text": [
      "Validation Epoch 223: 100%|███████████████████████████████████████████████████████████| 20/20 [00:00<00:00, 520.07it/s]\n"
     ]
    },
    {
     "name": "stdout",
     "output_type": "stream",
     "text": [
      "Epoch 223, Validation Loss: 1.103651887178421, Accuracy: 0.6480891719745223\n"
     ]
    },
    {
     "name": "stderr",
     "output_type": "stream",
     "text": [
      "Training Epoch 224: 100%|█████████████████████████████████████████████████████████████| 59/59 [00:00<00:00, 203.72it/s]\n"
     ]
    },
    {
     "name": "stdout",
     "output_type": "stream",
     "text": [
      "Epoch 224, Training loss: 0.7121194621263924\n"
     ]
    },
    {
     "name": "stderr",
     "output_type": "stream",
     "text": [
      "Validation Epoch 224: 100%|███████████████████████████████████████████████████████████| 20/20 [00:00<00:00, 515.28it/s]\n"
     ]
    },
    {
     "name": "stdout",
     "output_type": "stream",
     "text": [
      "Epoch 224, Validation Loss: 1.1019290536642075, Accuracy: 0.6512738853503185\n"
     ]
    },
    {
     "name": "stderr",
     "output_type": "stream",
     "text": [
      "Training Epoch 225: 100%|█████████████████████████████████████████████████████████████| 59/59 [00:00<00:00, 202.63it/s]\n"
     ]
    },
    {
     "name": "stdout",
     "output_type": "stream",
     "text": [
      "Epoch 225, Training loss: 0.6897188541242631\n"
     ]
    },
    {
     "name": "stderr",
     "output_type": "stream",
     "text": [
      "Validation Epoch 225: 100%|███████████████████████████████████████████████████████████| 20/20 [00:00<00:00, 539.29it/s]\n"
     ]
    },
    {
     "name": "stdout",
     "output_type": "stream",
     "text": [
      "Epoch 225, Validation Loss: 1.1008577406406403, Accuracy: 0.6512738853503185\n"
     ]
    },
    {
     "name": "stderr",
     "output_type": "stream",
     "text": [
      "Training Epoch 226: 100%|█████████████████████████████████████████████████████████████| 59/59 [00:00<00:00, 203.15it/s]\n"
     ]
    },
    {
     "name": "stdout",
     "output_type": "stream",
     "text": [
      "Epoch 226, Training loss: 0.6993586754394789\n"
     ]
    },
    {
     "name": "stderr",
     "output_type": "stream",
     "text": [
      "Validation Epoch 226: 100%|███████████████████████████████████████████████████████████| 20/20 [00:00<00:00, 536.92it/s]\n"
     ]
    },
    {
     "name": "stdout",
     "output_type": "stream",
     "text": [
      "Epoch 226, Validation Loss: 1.0998837441205978, Accuracy: 0.6480891719745223\n"
     ]
    },
    {
     "name": "stderr",
     "output_type": "stream",
     "text": [
      "Training Epoch 227: 100%|█████████████████████████████████████████████████████████████| 59/59 [00:00<00:00, 213.50it/s]\n"
     ]
    },
    {
     "name": "stdout",
     "output_type": "stream",
     "text": [
      "Epoch 227, Training loss: 0.6996086815656242\n"
     ]
    },
    {
     "name": "stderr",
     "output_type": "stream",
     "text": [
      "Validation Epoch 227: 100%|███████████████████████████████████████████████████████████| 20/20 [00:00<00:00, 496.08it/s]\n"
     ]
    },
    {
     "name": "stdout",
     "output_type": "stream",
     "text": [
      "Epoch 227, Validation Loss: 1.098789346218109, Accuracy: 0.6480891719745223\n"
     ]
    },
    {
     "name": "stderr",
     "output_type": "stream",
     "text": [
      "Training Epoch 228: 100%|█████████████████████████████████████████████████████████████| 59/59 [00:00<00:00, 202.11it/s]\n"
     ]
    },
    {
     "name": "stdout",
     "output_type": "stream",
     "text": [
      "Epoch 228, Training loss: 0.6946146872084019\n"
     ]
    },
    {
     "name": "stderr",
     "output_type": "stream",
     "text": [
      "Validation Epoch 228: 100%|███████████████████████████████████████████████████████████| 20/20 [00:00<00:00, 558.05it/s]\n"
     ]
    },
    {
     "name": "stdout",
     "output_type": "stream",
     "text": [
      "Epoch 228, Validation Loss: 1.097937634587288, Accuracy: 0.6480891719745223\n"
     ]
    },
    {
     "name": "stderr",
     "output_type": "stream",
     "text": [
      "Training Epoch 229: 100%|█████████████████████████████████████████████████████████████| 59/59 [00:00<00:00, 178.31it/s]\n"
     ]
    },
    {
     "name": "stdout",
     "output_type": "stream",
     "text": [
      "Epoch 229, Training loss: 0.6923578927072428\n"
     ]
    },
    {
     "name": "stderr",
     "output_type": "stream",
     "text": [
      "Validation Epoch 229: 100%|███████████████████████████████████████████████████████████| 20/20 [00:00<00:00, 415.74it/s]\n"
     ]
    },
    {
     "name": "stdout",
     "output_type": "stream",
     "text": [
      "Epoch 229, Validation Loss: 1.0969837844371795, Accuracy: 0.6464968152866242\n"
     ]
    },
    {
     "name": "stderr",
     "output_type": "stream",
     "text": [
      "Training Epoch 230: 100%|█████████████████████████████████████████████████████████████| 59/59 [00:00<00:00, 197.74it/s]\n"
     ]
    },
    {
     "name": "stdout",
     "output_type": "stream",
     "text": [
      "Epoch 230, Training loss: 0.699164661815611\n"
     ]
    },
    {
     "name": "stderr",
     "output_type": "stream",
     "text": [
      "Validation Epoch 230: 100%|███████████████████████████████████████████████████████████| 20/20 [00:00<00:00, 512.09it/s]\n"
     ]
    },
    {
     "name": "stdout",
     "output_type": "stream",
     "text": [
      "Epoch 230, Validation Loss: 1.0956412613391877, Accuracy: 0.6449044585987261\n"
     ]
    },
    {
     "name": "stderr",
     "output_type": "stream",
     "text": [
      "Training Epoch 231: 100%|█████████████████████████████████████████████████████████████| 59/59 [00:00<00:00, 203.69it/s]\n"
     ]
    },
    {
     "name": "stdout",
     "output_type": "stream",
     "text": [
      "Epoch 231, Training loss: 0.705677433034121\n"
     ]
    },
    {
     "name": "stderr",
     "output_type": "stream",
     "text": [
      "Validation Epoch 231: 100%|███████████████████████████████████████████████████████████| 20/20 [00:00<00:00, 529.27it/s]\n"
     ]
    },
    {
     "name": "stdout",
     "output_type": "stream",
     "text": [
      "Epoch 231, Validation Loss: 1.0941560864448547, Accuracy: 0.6512738853503185\n"
     ]
    },
    {
     "name": "stderr",
     "output_type": "stream",
     "text": [
      "Training Epoch 232: 100%|█████████████████████████████████████████████████████████████| 59/59 [00:00<00:00, 191.26it/s]\n"
     ]
    },
    {
     "name": "stdout",
     "output_type": "stream",
     "text": [
      "Epoch 232, Training loss: 0.6716718102915812\n"
     ]
    },
    {
     "name": "stderr",
     "output_type": "stream",
     "text": [
      "Validation Epoch 232: 100%|███████████████████████████████████████████████████████████| 20/20 [00:00<00:00, 375.51it/s]\n"
     ]
    },
    {
     "name": "stdout",
     "output_type": "stream",
     "text": [
      "Epoch 232, Validation Loss: 1.0934924453496933, Accuracy: 0.6496815286624203\n"
     ]
    },
    {
     "name": "stderr",
     "output_type": "stream",
     "text": [
      "Training Epoch 233: 100%|█████████████████████████████████████████████████████████████| 59/59 [00:00<00:00, 186.70it/s]\n"
     ]
    },
    {
     "name": "stdout",
     "output_type": "stream",
     "text": [
      "Epoch 233, Training loss: 0.676618824570866\n"
     ]
    },
    {
     "name": "stderr",
     "output_type": "stream",
     "text": [
      "Validation Epoch 233: 100%|███████████████████████████████████████████████████████████| 20/20 [00:00<00:00, 489.45it/s]\n"
     ]
    },
    {
     "name": "stdout",
     "output_type": "stream",
     "text": [
      "Epoch 233, Validation Loss: 1.0920578718185425, Accuracy: 0.6480891719745223\n"
     ]
    },
    {
     "name": "stderr",
     "output_type": "stream",
     "text": [
      "Training Epoch 234: 100%|█████████████████████████████████████████████████████████████| 59/59 [00:00<00:00, 187.65it/s]\n"
     ]
    },
    {
     "name": "stdout",
     "output_type": "stream",
     "text": [
      "Epoch 234, Training loss: 0.6905298515901728\n"
     ]
    },
    {
     "name": "stderr",
     "output_type": "stream",
     "text": [
      "Validation Epoch 234: 100%|███████████████████████████████████████████████████████████| 20/20 [00:00<00:00, 518.36it/s]\n"
     ]
    },
    {
     "name": "stdout",
     "output_type": "stream",
     "text": [
      "Epoch 234, Validation Loss: 1.09054374396801, Accuracy: 0.6528662420382165\n"
     ]
    },
    {
     "name": "stderr",
     "output_type": "stream",
     "text": [
      "Training Epoch 235: 100%|█████████████████████████████████████████████████████████████| 59/59 [00:00<00:00, 191.38it/s]\n"
     ]
    },
    {
     "name": "stdout",
     "output_type": "stream",
     "text": [
      "Epoch 235, Training loss: 0.6879618056749893\n"
     ]
    },
    {
     "name": "stderr",
     "output_type": "stream",
     "text": [
      "Validation Epoch 235: 100%|███████████████████████████████████████████████████████████| 20/20 [00:00<00:00, 441.23it/s]\n"
     ]
    },
    {
     "name": "stdout",
     "output_type": "stream",
     "text": [
      "Epoch 235, Validation Loss: 1.0896818101406098, Accuracy: 0.6512738853503185\n"
     ]
    },
    {
     "name": "stderr",
     "output_type": "stream",
     "text": [
      "Training Epoch 236: 100%|█████████████████████████████████████████████████████████████| 59/59 [00:00<00:00, 209.11it/s]\n"
     ]
    },
    {
     "name": "stdout",
     "output_type": "stream",
     "text": [
      "Epoch 236, Training loss: 0.6739905542236263\n"
     ]
    },
    {
     "name": "stderr",
     "output_type": "stream",
     "text": [
      "Validation Epoch 236: 100%|███████████████████████████████████████████████████████████| 20/20 [00:00<00:00, 508.62it/s]\n"
     ]
    },
    {
     "name": "stdout",
     "output_type": "stream",
     "text": [
      "Epoch 236, Validation Loss: 1.088408637046814, Accuracy: 0.6528662420382165\n"
     ]
    },
    {
     "name": "stderr",
     "output_type": "stream",
     "text": [
      "Training Epoch 237: 100%|█████████████████████████████████████████████████████████████| 59/59 [00:00<00:00, 204.33it/s]\n"
     ]
    },
    {
     "name": "stdout",
     "output_type": "stream",
     "text": [
      "Epoch 237, Training loss: 0.6746186876701097\n"
     ]
    },
    {
     "name": "stderr",
     "output_type": "stream",
     "text": [
      "Validation Epoch 237: 100%|███████████████████████████████████████████████████████████| 20/20 [00:00<00:00, 411.81it/s]\n"
     ]
    },
    {
     "name": "stdout",
     "output_type": "stream",
     "text": [
      "Epoch 237, Validation Loss: 1.086973923444748, Accuracy: 0.6512738853503185\n"
     ]
    },
    {
     "name": "stderr",
     "output_type": "stream",
     "text": [
      "Training Epoch 238: 100%|█████████████████████████████████████████████████████████████| 59/59 [00:00<00:00, 200.08it/s]\n"
     ]
    },
    {
     "name": "stdout",
     "output_type": "stream",
     "text": [
      "Epoch 238, Training loss: 0.6809398456145141\n"
     ]
    },
    {
     "name": "stderr",
     "output_type": "stream",
     "text": [
      "Validation Epoch 238: 100%|███████████████████████████████████████████████████████████| 20/20 [00:00<00:00, 529.66it/s]\n"
     ]
    },
    {
     "name": "stdout",
     "output_type": "stream",
     "text": [
      "Epoch 238, Validation Loss: 1.0855253487825394, Accuracy: 0.6528662420382165\n"
     ]
    },
    {
     "name": "stderr",
     "output_type": "stream",
     "text": [
      "Training Epoch 239: 100%|█████████████████████████████████████████████████████████████| 59/59 [00:00<00:00, 194.25it/s]\n"
     ]
    },
    {
     "name": "stdout",
     "output_type": "stream",
     "text": [
      "Epoch 239, Training loss: 0.6781493986057023\n"
     ]
    },
    {
     "name": "stderr",
     "output_type": "stream",
     "text": [
      "Validation Epoch 239: 100%|███████████████████████████████████████████████████████████| 20/20 [00:00<00:00, 464.95it/s]\n"
     ]
    },
    {
     "name": "stdout",
     "output_type": "stream",
     "text": [
      "Epoch 239, Validation Loss: 1.0844628095626831, Accuracy: 0.6528662420382165\n"
     ]
    },
    {
     "name": "stderr",
     "output_type": "stream",
     "text": [
      "Training Epoch 240: 100%|█████████████████████████████████████████████████████████████| 59/59 [00:00<00:00, 202.45it/s]\n"
     ]
    },
    {
     "name": "stdout",
     "output_type": "stream",
     "text": [
      "Epoch 240, Training loss: 0.6654150970911575\n"
     ]
    },
    {
     "name": "stderr",
     "output_type": "stream",
     "text": [
      "Validation Epoch 240: 100%|███████████████████████████████████████████████████████████| 20/20 [00:00<00:00, 507.53it/s]\n"
     ]
    },
    {
     "name": "stdout",
     "output_type": "stream",
     "text": [
      "Epoch 240, Validation Loss: 1.083168986439705, Accuracy: 0.6528662420382165\n"
     ]
    },
    {
     "name": "stderr",
     "output_type": "stream",
     "text": [
      "Training Epoch 241: 100%|█████████████████████████████████████████████████████████████| 59/59 [00:00<00:00, 190.01it/s]\n"
     ]
    },
    {
     "name": "stdout",
     "output_type": "stream",
     "text": [
      "Epoch 241, Training loss: 0.673832113965083\n"
     ]
    },
    {
     "name": "stderr",
     "output_type": "stream",
     "text": [
      "Validation Epoch 241: 100%|███████████████████████████████████████████████████████████| 20/20 [00:00<00:00, 459.74it/s]\n"
     ]
    },
    {
     "name": "stdout",
     "output_type": "stream",
     "text": [
      "Epoch 241, Validation Loss: 1.0824989706277848, Accuracy: 0.6480891719745223\n"
     ]
    },
    {
     "name": "stderr",
     "output_type": "stream",
     "text": [
      "Training Epoch 242: 100%|█████████████████████████████████████████████████████████████| 59/59 [00:00<00:00, 191.94it/s]\n"
     ]
    },
    {
     "name": "stdout",
     "output_type": "stream",
     "text": [
      "Epoch 242, Training loss: 0.6635815097113787\n"
     ]
    },
    {
     "name": "stderr",
     "output_type": "stream",
     "text": [
      "Validation Epoch 242: 100%|███████████████████████████████████████████████████████████| 20/20 [00:00<00:00, 465.38it/s]\n"
     ]
    },
    {
     "name": "stdout",
     "output_type": "stream",
     "text": [
      "Epoch 242, Validation Loss: 1.0818367421627044, Accuracy: 0.6480891719745223\n"
     ]
    },
    {
     "name": "stderr",
     "output_type": "stream",
     "text": [
      "Training Epoch 243: 100%|█████████████████████████████████████████████████████████████| 59/59 [00:00<00:00, 202.60it/s]\n"
     ]
    },
    {
     "name": "stdout",
     "output_type": "stream",
     "text": [
      "Epoch 243, Training loss: 0.6419384893724474\n"
     ]
    },
    {
     "name": "stderr",
     "output_type": "stream",
     "text": [
      "Validation Epoch 243: 100%|███████████████████████████████████████████████████████████| 20/20 [00:00<00:00, 535.37it/s]\n"
     ]
    },
    {
     "name": "stdout",
     "output_type": "stream",
     "text": [
      "Epoch 243, Validation Loss: 1.0805387139320373, Accuracy: 0.6480891719745223\n"
     ]
    },
    {
     "name": "stderr",
     "output_type": "stream",
     "text": [
      "Training Epoch 244: 100%|█████████████████████████████████████████████████████████████| 59/59 [00:00<00:00, 207.67it/s]\n"
     ]
    },
    {
     "name": "stdout",
     "output_type": "stream",
     "text": [
      "Epoch 244, Training loss: 0.6627572461710138\n"
     ]
    },
    {
     "name": "stderr",
     "output_type": "stream",
     "text": [
      "Validation Epoch 244: 100%|███████████████████████████████████████████████████████████| 20/20 [00:00<00:00, 538.62it/s]\n"
     ]
    },
    {
     "name": "stdout",
     "output_type": "stream",
     "text": [
      "Epoch 244, Validation Loss: 1.0802127242088317, Accuracy: 0.6512738853503185\n"
     ]
    },
    {
     "name": "stderr",
     "output_type": "stream",
     "text": [
      "Training Epoch 245: 100%|█████████████████████████████████████████████████████████████| 59/59 [00:00<00:00, 194.59it/s]\n"
     ]
    },
    {
     "name": "stdout",
     "output_type": "stream",
     "text": [
      "Epoch 245, Training loss: 0.6591834537053513\n"
     ]
    },
    {
     "name": "stderr",
     "output_type": "stream",
     "text": [
      "Validation Epoch 245: 100%|███████████████████████████████████████████████████████████| 20/20 [00:00<00:00, 496.72it/s]\n"
     ]
    },
    {
     "name": "stdout",
     "output_type": "stream",
     "text": [
      "Epoch 245, Validation Loss: 1.0792465537786484, Accuracy: 0.6512738853503185\n"
     ]
    },
    {
     "name": "stderr",
     "output_type": "stream",
     "text": [
      "Training Epoch 246: 100%|█████████████████████████████████████████████████████████████| 59/59 [00:00<00:00, 187.30it/s]\n"
     ]
    },
    {
     "name": "stdout",
     "output_type": "stream",
     "text": [
      "Epoch 246, Training loss: 0.64344933881598\n"
     ]
    },
    {
     "name": "stderr",
     "output_type": "stream",
     "text": [
      "Validation Epoch 246: 100%|███████████████████████████████████████████████████████████| 20/20 [00:00<00:00, 408.76it/s]\n"
     ]
    },
    {
     "name": "stdout",
     "output_type": "stream",
     "text": [
      "Epoch 246, Validation Loss: 1.077632838487625, Accuracy: 0.6480891719745223\n"
     ]
    },
    {
     "name": "stderr",
     "output_type": "stream",
     "text": [
      "Training Epoch 247: 100%|█████████████████████████████████████████████████████████████| 59/59 [00:00<00:00, 187.03it/s]\n"
     ]
    },
    {
     "name": "stdout",
     "output_type": "stream",
     "text": [
      "Epoch 247, Training loss: 0.65951393923517\n"
     ]
    },
    {
     "name": "stderr",
     "output_type": "stream",
     "text": [
      "Validation Epoch 247: 100%|███████████████████████████████████████████████████████████| 20/20 [00:00<00:00, 522.04it/s]\n"
     ]
    },
    {
     "name": "stdout",
     "output_type": "stream",
     "text": [
      "Epoch 247, Validation Loss: 1.0765982538461685, Accuracy: 0.6464968152866242\n"
     ]
    },
    {
     "name": "stderr",
     "output_type": "stream",
     "text": [
      "Training Epoch 248: 100%|█████████████████████████████████████████████████████████████| 59/59 [00:00<00:00, 189.32it/s]\n"
     ]
    },
    {
     "name": "stdout",
     "output_type": "stream",
     "text": [
      "Epoch 248, Training loss: 0.6446003034963446\n"
     ]
    },
    {
     "name": "stderr",
     "output_type": "stream",
     "text": [
      "Validation Epoch 248: 100%|███████████████████████████████████████████████████████████| 20/20 [00:00<00:00, 498.50it/s]\n"
     ]
    },
    {
     "name": "stdout",
     "output_type": "stream",
     "text": [
      "Epoch 248, Validation Loss: 1.0754408806562423, Accuracy: 0.6496815286624203\n"
     ]
    },
    {
     "name": "stderr",
     "output_type": "stream",
     "text": [
      "Training Epoch 249: 100%|█████████████████████████████████████████████████████████████| 59/59 [00:00<00:00, 206.15it/s]\n"
     ]
    },
    {
     "name": "stdout",
     "output_type": "stream",
     "text": [
      "Epoch 249, Training loss: 0.6627286071494475\n"
     ]
    },
    {
     "name": "stderr",
     "output_type": "stream",
     "text": [
      "Validation Epoch 249: 100%|███████████████████████████████████████████████████████████| 20/20 [00:00<00:00, 492.44it/s]\n"
     ]
    },
    {
     "name": "stdout",
     "output_type": "stream",
     "text": [
      "Epoch 249, Validation Loss: 1.0745341151952743, Accuracy: 0.6464968152866242\n"
     ]
    },
    {
     "name": "stderr",
     "output_type": "stream",
     "text": [
      "Training Epoch 250: 100%|█████████████████████████████████████████████████████████████| 59/59 [00:00<00:00, 195.24it/s]\n"
     ]
    },
    {
     "name": "stdout",
     "output_type": "stream",
     "text": [
      "Epoch 250, Training loss: 0.6510299737170592\n"
     ]
    },
    {
     "name": "stderr",
     "output_type": "stream",
     "text": [
      "Validation Epoch 250: 100%|███████████████████████████████████████████████████████████| 20/20 [00:00<00:00, 335.46it/s]\n"
     ]
    },
    {
     "name": "stdout",
     "output_type": "stream",
     "text": [
      "Epoch 250, Validation Loss: 1.0735620588064194, Accuracy: 0.6480891719745223\n"
     ]
    },
    {
     "name": "stderr",
     "output_type": "stream",
     "text": [
      "Training Epoch 251: 100%|█████████████████████████████████████████████████████████████| 59/59 [00:00<00:00, 196.07it/s]\n"
     ]
    },
    {
     "name": "stdout",
     "output_type": "stream",
     "text": [
      "Epoch 251, Training loss: 0.6370443034980257\n"
     ]
    },
    {
     "name": "stderr",
     "output_type": "stream",
     "text": [
      "Validation Epoch 251: 100%|███████████████████████████████████████████████████████████| 20/20 [00:00<00:00, 388.36it/s]\n"
     ]
    },
    {
     "name": "stdout",
     "output_type": "stream",
     "text": [
      "Epoch 251, Validation Loss: 1.0728000462055207, Accuracy: 0.6464968152866242\n"
     ]
    },
    {
     "name": "stderr",
     "output_type": "stream",
     "text": [
      "Training Epoch 252: 100%|█████████████████████████████████████████████████████████████| 59/59 [00:00<00:00, 184.27it/s]\n"
     ]
    },
    {
     "name": "stdout",
     "output_type": "stream",
     "text": [
      "Epoch 252, Training loss: 0.6303096514637188\n"
     ]
    },
    {
     "name": "stderr",
     "output_type": "stream",
     "text": [
      "Validation Epoch 252: 100%|███████████████████████████████████████████████████████████| 20/20 [00:00<00:00, 518.12it/s]\n"
     ]
    },
    {
     "name": "stdout",
     "output_type": "stream",
     "text": [
      "Epoch 252, Validation Loss: 1.0716876536607742, Accuracy: 0.6480891719745223\n"
     ]
    },
    {
     "name": "stderr",
     "output_type": "stream",
     "text": [
      "Training Epoch 253: 100%|█████████████████████████████████████████████████████████████| 59/59 [00:00<00:00, 207.02it/s]\n"
     ]
    },
    {
     "name": "stdout",
     "output_type": "stream",
     "text": [
      "Epoch 253, Training loss: 0.6377849346500332\n"
     ]
    },
    {
     "name": "stderr",
     "output_type": "stream",
     "text": [
      "Validation Epoch 253: 100%|███████████████████████████████████████████████████████████| 20/20 [00:00<00:00, 518.07it/s]\n"
     ]
    },
    {
     "name": "stdout",
     "output_type": "stream",
     "text": [
      "Epoch 253, Validation Loss: 1.0705627828836441, Accuracy: 0.6480891719745223\n"
     ]
    },
    {
     "name": "stderr",
     "output_type": "stream",
     "text": [
      "Training Epoch 254: 100%|█████████████████████████████████████████████████████████████| 59/59 [00:00<00:00, 181.79it/s]\n"
     ]
    },
    {
     "name": "stdout",
     "output_type": "stream",
     "text": [
      "Epoch 254, Training loss: 0.6381902745214559\n"
     ]
    },
    {
     "name": "stderr",
     "output_type": "stream",
     "text": [
      "Validation Epoch 254: 100%|███████████████████████████████████████████████████████████| 20/20 [00:00<00:00, 521.65it/s]\n"
     ]
    },
    {
     "name": "stdout",
     "output_type": "stream",
     "text": [
      "Epoch 254, Validation Loss: 1.0697749525308609, Accuracy: 0.6464968152866242\n"
     ]
    },
    {
     "name": "stderr",
     "output_type": "stream",
     "text": [
      "Training Epoch 255: 100%|█████████████████████████████████████████████████████████████| 59/59 [00:00<00:00, 188.90it/s]\n"
     ]
    },
    {
     "name": "stdout",
     "output_type": "stream",
     "text": [
      "Epoch 255, Training loss: 0.6441763831397235\n"
     ]
    },
    {
     "name": "stderr",
     "output_type": "stream",
     "text": [
      "Validation Epoch 255: 100%|███████████████████████████████████████████████████████████| 20/20 [00:00<00:00, 508.33it/s]\n"
     ]
    },
    {
     "name": "stdout",
     "output_type": "stream",
     "text": [
      "Epoch 255, Validation Loss: 1.0685058742761613, Accuracy: 0.6480891719745223\n"
     ]
    },
    {
     "name": "stderr",
     "output_type": "stream",
     "text": [
      "Training Epoch 256: 100%|█████████████████████████████████████████████████████████████| 59/59 [00:00<00:00, 222.95it/s]\n"
     ]
    },
    {
     "name": "stdout",
     "output_type": "stream",
     "text": [
      "Epoch 256, Training loss: 0.6034952255628877\n"
     ]
    },
    {
     "name": "stderr",
     "output_type": "stream",
     "text": [
      "Validation Epoch 256: 100%|███████████████████████████████████████████████████████████| 20/20 [00:00<00:00, 365.36it/s]\n"
     ]
    },
    {
     "name": "stdout",
     "output_type": "stream",
     "text": [
      "Epoch 256, Validation Loss: 1.0680183529853822, Accuracy: 0.6480891719745223\n"
     ]
    },
    {
     "name": "stderr",
     "output_type": "stream",
     "text": [
      "Training Epoch 257: 100%|█████████████████████████████████████████████████████████████| 59/59 [00:00<00:00, 198.54it/s]\n"
     ]
    },
    {
     "name": "stdout",
     "output_type": "stream",
     "text": [
      "Epoch 257, Training loss: 0.6313195314447758\n"
     ]
    },
    {
     "name": "stderr",
     "output_type": "stream",
     "text": [
      "Validation Epoch 257: 100%|███████████████████████████████████████████████████████████| 20/20 [00:00<00:00, 477.47it/s]\n"
     ]
    },
    {
     "name": "stdout",
     "output_type": "stream",
     "text": [
      "Epoch 257, Validation Loss: 1.06662258207798, Accuracy: 0.6480891719745223\n"
     ]
    },
    {
     "name": "stderr",
     "output_type": "stream",
     "text": [
      "Training Epoch 258: 100%|█████████████████████████████████████████████████████████████| 59/59 [00:00<00:00, 202.50it/s]\n"
     ]
    },
    {
     "name": "stdout",
     "output_type": "stream",
     "text": [
      "Epoch 258, Training loss: 0.6308794688370268\n"
     ]
    },
    {
     "name": "stderr",
     "output_type": "stream",
     "text": [
      "Validation Epoch 258: 100%|███████████████████████████████████████████████████████████| 20/20 [00:00<00:00, 523.18it/s]\n"
     ]
    },
    {
     "name": "stdout",
     "output_type": "stream",
     "text": [
      "Epoch 258, Validation Loss: 1.0658678829669952, Accuracy: 0.6480891719745223\n"
     ]
    },
    {
     "name": "stderr",
     "output_type": "stream",
     "text": [
      "Training Epoch 259: 100%|█████████████████████████████████████████████████████████████| 59/59 [00:00<00:00, 193.30it/s]\n"
     ]
    },
    {
     "name": "stdout",
     "output_type": "stream",
     "text": [
      "Epoch 259, Training loss: 0.6194528523138014\n"
     ]
    },
    {
     "name": "stderr",
     "output_type": "stream",
     "text": [
      "Validation Epoch 259: 100%|███████████████████████████████████████████████████████████| 20/20 [00:00<00:00, 515.82it/s]\n"
     ]
    },
    {
     "name": "stdout",
     "output_type": "stream",
     "text": [
      "Epoch 259, Validation Loss: 1.0648003280162812, Accuracy: 0.6512738853503185\n"
     ]
    },
    {
     "name": "stderr",
     "output_type": "stream",
     "text": [
      "Training Epoch 260: 100%|█████████████████████████████████████████████████████████████| 59/59 [00:00<00:00, 218.27it/s]\n"
     ]
    },
    {
     "name": "stdout",
     "output_type": "stream",
     "text": [
      "Epoch 260, Training loss: 0.6297697318812548\n"
     ]
    },
    {
     "name": "stderr",
     "output_type": "stream",
     "text": [
      "Validation Epoch 260: 100%|███████████████████████████████████████████████████████████| 20/20 [00:00<00:00, 526.57it/s]\n"
     ]
    },
    {
     "name": "stdout",
     "output_type": "stream",
     "text": [
      "Epoch 260, Validation Loss: 1.0640453279018403, Accuracy: 0.6464968152866242\n"
     ]
    },
    {
     "name": "stderr",
     "output_type": "stream",
     "text": [
      "Training Epoch 261: 100%|█████████████████████████████████████████████████████████████| 59/59 [00:00<00:00, 199.66it/s]\n"
     ]
    },
    {
     "name": "stdout",
     "output_type": "stream",
     "text": [
      "Epoch 261, Training loss: 0.6110802863614034\n"
     ]
    },
    {
     "name": "stderr",
     "output_type": "stream",
     "text": [
      "Validation Epoch 261: 100%|███████████████████████████████████████████████████████████| 20/20 [00:00<00:00, 516.88it/s]\n"
     ]
    },
    {
     "name": "stdout",
     "output_type": "stream",
     "text": [
      "Epoch 261, Validation Loss: 1.063459450006485, Accuracy: 0.6480891719745223\n"
     ]
    },
    {
     "name": "stderr",
     "output_type": "stream",
     "text": [
      "Training Epoch 262: 100%|█████████████████████████████████████████████████████████████| 59/59 [00:00<00:00, 186.92it/s]\n"
     ]
    },
    {
     "name": "stdout",
     "output_type": "stream",
     "text": [
      "Epoch 262, Training loss: 0.6217261593220598\n"
     ]
    },
    {
     "name": "stderr",
     "output_type": "stream",
     "text": [
      "Validation Epoch 262: 100%|███████████████████████████████████████████████████████████| 20/20 [00:00<00:00, 438.25it/s]\n"
     ]
    },
    {
     "name": "stdout",
     "output_type": "stream",
     "text": [
      "Epoch 262, Validation Loss: 1.062395378947258, Accuracy: 0.6496815286624203\n"
     ]
    },
    {
     "name": "stderr",
     "output_type": "stream",
     "text": [
      "Training Epoch 263: 100%|█████████████████████████████████████████████████████████████| 59/59 [00:00<00:00, 216.12it/s]\n"
     ]
    },
    {
     "name": "stdout",
     "output_type": "stream",
     "text": [
      "Epoch 263, Training loss: 0.602833255872888\n"
     ]
    },
    {
     "name": "stderr",
     "output_type": "stream",
     "text": [
      "Validation Epoch 263: 100%|███████████████████████████████████████████████████████████| 20/20 [00:00<00:00, 437.63it/s]\n"
     ]
    },
    {
     "name": "stdout",
     "output_type": "stream",
     "text": [
      "Epoch 263, Validation Loss: 1.0617546409368515, Accuracy: 0.6480891719745223\n"
     ]
    },
    {
     "name": "stderr",
     "output_type": "stream",
     "text": [
      "Training Epoch 264: 100%|█████████████████████████████████████████████████████████████| 59/59 [00:00<00:00, 195.11it/s]\n"
     ]
    },
    {
     "name": "stdout",
     "output_type": "stream",
     "text": [
      "Epoch 264, Training loss: 0.5997848914841474\n"
     ]
    },
    {
     "name": "stderr",
     "output_type": "stream",
     "text": [
      "Validation Epoch 264: 100%|███████████████████████████████████████████████████████████| 20/20 [00:00<00:00, 453.61it/s]\n"
     ]
    },
    {
     "name": "stdout",
     "output_type": "stream",
     "text": [
      "Epoch 264, Validation Loss: 1.0606098830699922, Accuracy: 0.6480891719745223\n"
     ]
    },
    {
     "name": "stderr",
     "output_type": "stream",
     "text": [
      "Training Epoch 265: 100%|█████████████████████████████████████████████████████████████| 59/59 [00:00<00:00, 185.26it/s]\n"
     ]
    },
    {
     "name": "stdout",
     "output_type": "stream",
     "text": [
      "Epoch 265, Training loss: 0.6259504698090634\n"
     ]
    },
    {
     "name": "stderr",
     "output_type": "stream",
     "text": [
      "Validation Epoch 265: 100%|███████████████████████████████████████████████████████████| 20/20 [00:00<00:00, 524.52it/s]\n"
     ]
    },
    {
     "name": "stdout",
     "output_type": "stream",
     "text": [
      "Epoch 265, Validation Loss: 1.059799188375473, Accuracy: 0.6464968152866242\n"
     ]
    },
    {
     "name": "stderr",
     "output_type": "stream",
     "text": [
      "Training Epoch 266: 100%|█████████████████████████████████████████████████████████████| 59/59 [00:00<00:00, 179.82it/s]\n"
     ]
    },
    {
     "name": "stdout",
     "output_type": "stream",
     "text": [
      "Epoch 266, Training loss: 0.5914536411479369\n"
     ]
    },
    {
     "name": "stderr",
     "output_type": "stream",
     "text": [
      "Validation Epoch 266: 100%|███████████████████████████████████████████████████████████| 20/20 [00:00<00:00, 511.77it/s]\n"
     ]
    },
    {
     "name": "stdout",
     "output_type": "stream",
     "text": [
      "Epoch 266, Validation Loss: 1.0592246353626251, Accuracy: 0.6464968152866242\n"
     ]
    },
    {
     "name": "stderr",
     "output_type": "stream",
     "text": [
      "Training Epoch 267: 100%|█████████████████████████████████████████████████████████████| 59/59 [00:00<00:00, 194.62it/s]\n"
     ]
    },
    {
     "name": "stdout",
     "output_type": "stream",
     "text": [
      "Epoch 267, Training loss: 0.5946956650685455\n"
     ]
    },
    {
     "name": "stderr",
     "output_type": "stream",
     "text": [
      "Validation Epoch 267: 100%|███████████████████████████████████████████████████████████| 20/20 [00:00<00:00, 368.20it/s]\n"
     ]
    },
    {
     "name": "stdout",
     "output_type": "stream",
     "text": [
      "Epoch 267, Validation Loss: 1.058628472685814, Accuracy: 0.6464968152866242\n"
     ]
    },
    {
     "name": "stderr",
     "output_type": "stream",
     "text": [
      "Training Epoch 268: 100%|█████████████████████████████████████████████████████████████| 59/59 [00:00<00:00, 196.69it/s]\n"
     ]
    },
    {
     "name": "stdout",
     "output_type": "stream",
     "text": [
      "Epoch 268, Training loss: 0.605555707115238\n"
     ]
    },
    {
     "name": "stderr",
     "output_type": "stream",
     "text": [
      "Validation Epoch 268: 100%|███████████████████████████████████████████████████████████| 20/20 [00:00<00:00, 418.57it/s]\n"
     ]
    },
    {
     "name": "stdout",
     "output_type": "stream",
     "text": [
      "Epoch 268, Validation Loss: 1.0576580137014389, Accuracy: 0.6480891719745223\n"
     ]
    },
    {
     "name": "stderr",
     "output_type": "stream",
     "text": [
      "Training Epoch 269: 100%|█████████████████████████████████████████████████████████████| 59/59 [00:00<00:00, 200.74it/s]\n"
     ]
    },
    {
     "name": "stdout",
     "output_type": "stream",
     "text": [
      "Epoch 269, Training loss: 0.617576017218121\n"
     ]
    },
    {
     "name": "stderr",
     "output_type": "stream",
     "text": [
      "Validation Epoch 269: 100%|███████████████████████████████████████████████████████████| 20/20 [00:00<00:00, 478.24it/s]\n"
     ]
    },
    {
     "name": "stdout",
     "output_type": "stream",
     "text": [
      "Epoch 269, Validation Loss: 1.0563409060239792, Accuracy: 0.6480891719745223\n"
     ]
    },
    {
     "name": "stderr",
     "output_type": "stream",
     "text": [
      "Training Epoch 270: 100%|█████████████████████████████████████████████████████████████| 59/59 [00:00<00:00, 192.16it/s]\n"
     ]
    },
    {
     "name": "stdout",
     "output_type": "stream",
     "text": [
      "Epoch 270, Training loss: 0.5862377427392087\n"
     ]
    },
    {
     "name": "stderr",
     "output_type": "stream",
     "text": [
      "Validation Epoch 270: 100%|███████████████████████████████████████████████████████████| 20/20 [00:00<00:00, 532.45it/s]\n"
     ]
    },
    {
     "name": "stdout",
     "output_type": "stream",
     "text": [
      "Epoch 270, Validation Loss: 1.0557343661785126, Accuracy: 0.6464968152866242\n"
     ]
    },
    {
     "name": "stderr",
     "output_type": "stream",
     "text": [
      "Training Epoch 271: 100%|█████████████████████████████████████████████████████████████| 59/59 [00:00<00:00, 211.97it/s]\n"
     ]
    },
    {
     "name": "stdout",
     "output_type": "stream",
     "text": [
      "Epoch 271, Training loss: 0.5925522057686822\n"
     ]
    },
    {
     "name": "stderr",
     "output_type": "stream",
     "text": [
      "Validation Epoch 271: 100%|███████████████████████████████████████████████████████████| 20/20 [00:00<00:00, 438.74it/s]\n"
     ]
    },
    {
     "name": "stdout",
     "output_type": "stream",
     "text": [
      "Epoch 271, Validation Loss: 1.0553204834461212, Accuracy: 0.6449044585987261\n"
     ]
    },
    {
     "name": "stderr",
     "output_type": "stream",
     "text": [
      "Training Epoch 272: 100%|█████████████████████████████████████████████████████████████| 59/59 [00:00<00:00, 210.83it/s]\n"
     ]
    },
    {
     "name": "stdout",
     "output_type": "stream",
     "text": [
      "Epoch 272, Training loss: 0.5842307513043031\n"
     ]
    },
    {
     "name": "stderr",
     "output_type": "stream",
     "text": [
      "Validation Epoch 272: 100%|███████████████████████████████████████████████████████████| 20/20 [00:00<00:00, 492.32it/s]\n"
     ]
    },
    {
     "name": "stdout",
     "output_type": "stream",
     "text": [
      "Epoch 272, Validation Loss: 1.054313537478447, Accuracy: 0.6480891719745223\n"
     ]
    },
    {
     "name": "stderr",
     "output_type": "stream",
     "text": [
      "Training Epoch 273: 100%|█████████████████████████████████████████████████████████████| 59/59 [00:00<00:00, 187.30it/s]\n"
     ]
    },
    {
     "name": "stdout",
     "output_type": "stream",
     "text": [
      "Epoch 273, Training loss: 0.586194918822434\n"
     ]
    },
    {
     "name": "stderr",
     "output_type": "stream",
     "text": [
      "Validation Epoch 273: 100%|███████████████████████████████████████████████████████████| 20/20 [00:00<00:00, 518.60it/s]\n"
     ]
    },
    {
     "name": "stdout",
     "output_type": "stream",
     "text": [
      "Epoch 273, Validation Loss: 1.0532054126262664, Accuracy: 0.6480891719745223\n"
     ]
    },
    {
     "name": "stderr",
     "output_type": "stream",
     "text": [
      "Training Epoch 274: 100%|█████████████████████████████████████████████████████████████| 59/59 [00:00<00:00, 213.93it/s]\n"
     ]
    },
    {
     "name": "stdout",
     "output_type": "stream",
     "text": [
      "Epoch 274, Training loss: 0.5938625911534843\n"
     ]
    },
    {
     "name": "stderr",
     "output_type": "stream",
     "text": [
      "Validation Epoch 274: 100%|███████████████████████████████████████████████████████████| 20/20 [00:00<00:00, 553.63it/s]\n"
     ]
    },
    {
     "name": "stdout",
     "output_type": "stream",
     "text": [
      "Epoch 274, Validation Loss: 1.0521785229444505, Accuracy: 0.6480891719745223\n"
     ]
    },
    {
     "name": "stderr",
     "output_type": "stream",
     "text": [
      "Training Epoch 275: 100%|█████████████████████████████████████████████████████████████| 59/59 [00:00<00:00, 190.48it/s]\n"
     ]
    },
    {
     "name": "stdout",
     "output_type": "stream",
     "text": [
      "Epoch 275, Training loss: 0.596802788770805\n"
     ]
    },
    {
     "name": "stderr",
     "output_type": "stream",
     "text": [
      "Validation Epoch 275: 100%|███████████████████████████████████████████████████████████| 20/20 [00:00<00:00, 431.93it/s]\n"
     ]
    },
    {
     "name": "stdout",
     "output_type": "stream",
     "text": [
      "Epoch 275, Validation Loss: 1.0510644018650055, Accuracy: 0.6449044585987261\n"
     ]
    },
    {
     "name": "stderr",
     "output_type": "stream",
     "text": [
      "Training Epoch 276: 100%|█████████████████████████████████████████████████████████████| 59/59 [00:00<00:00, 214.87it/s]\n"
     ]
    },
    {
     "name": "stdout",
     "output_type": "stream",
     "text": [
      "Epoch 276, Training loss: 0.5872720560785067\n"
     ]
    },
    {
     "name": "stderr",
     "output_type": "stream",
     "text": [
      "Validation Epoch 276: 100%|███████████████████████████████████████████████████████████| 20/20 [00:00<00:00, 525.00it/s]\n"
     ]
    },
    {
     "name": "stdout",
     "output_type": "stream",
     "text": [
      "Epoch 276, Validation Loss: 1.0502519458532333, Accuracy: 0.6464968152866242\n"
     ]
    },
    {
     "name": "stderr",
     "output_type": "stream",
     "text": [
      "Training Epoch 277: 100%|█████████████████████████████████████████████████████████████| 59/59 [00:00<00:00, 224.27it/s]\n"
     ]
    },
    {
     "name": "stdout",
     "output_type": "stream",
     "text": [
      "Epoch 277, Training loss: 0.5719651408114675\n"
     ]
    },
    {
     "name": "stderr",
     "output_type": "stream",
     "text": [
      "Validation Epoch 277: 100%|███████████████████████████████████████████████████████████| 20/20 [00:00<00:00, 440.59it/s]\n"
     ]
    },
    {
     "name": "stdout",
     "output_type": "stream",
     "text": [
      "Epoch 277, Validation Loss: 1.0493032932281494, Accuracy: 0.6464968152866242\n"
     ]
    },
    {
     "name": "stderr",
     "output_type": "stream",
     "text": [
      "Training Epoch 278: 100%|█████████████████████████████████████████████████████████████| 59/59 [00:00<00:00, 219.06it/s]\n"
     ]
    },
    {
     "name": "stdout",
     "output_type": "stream",
     "text": [
      "Epoch 278, Training loss: 0.5762685062521595\n"
     ]
    },
    {
     "name": "stderr",
     "output_type": "stream",
     "text": [
      "Validation Epoch 278: 100%|███████████████████████████████████████████████████████████| 20/20 [00:00<00:00, 523.92it/s]\n"
     ]
    },
    {
     "name": "stdout",
     "output_type": "stream",
     "text": [
      "Epoch 278, Validation Loss: 1.0486079633235932, Accuracy: 0.6480891719745223\n"
     ]
    },
    {
     "name": "stderr",
     "output_type": "stream",
     "text": [
      "Training Epoch 279: 100%|█████████████████████████████████████████████████████████████| 59/59 [00:00<00:00, 200.29it/s]\n"
     ]
    },
    {
     "name": "stdout",
     "output_type": "stream",
     "text": [
      "Epoch 279, Training loss: 0.5724934925467281\n"
     ]
    },
    {
     "name": "stderr",
     "output_type": "stream",
     "text": [
      "Validation Epoch 279: 100%|███████████████████████████████████████████████████████████| 20/20 [00:00<00:00, 467.76it/s]\n"
     ]
    },
    {
     "name": "stdout",
     "output_type": "stream",
     "text": [
      "Epoch 279, Validation Loss: 1.0476833909749985, Accuracy: 0.6480891719745223\n"
     ]
    },
    {
     "name": "stderr",
     "output_type": "stream",
     "text": [
      "Training Epoch 280: 100%|█████████████████████████████████████████████████████████████| 59/59 [00:00<00:00, 207.25it/s]\n"
     ]
    },
    {
     "name": "stdout",
     "output_type": "stream",
     "text": [
      "Epoch 280, Training loss: 0.5697813564437931\n"
     ]
    },
    {
     "name": "stderr",
     "output_type": "stream",
     "text": [
      "Validation Epoch 280: 100%|███████████████████████████████████████████████████████████| 20/20 [00:00<00:00, 523.86it/s]\n"
     ]
    },
    {
     "name": "stdout",
     "output_type": "stream",
     "text": [
      "Epoch 280, Validation Loss: 1.0471004486083983, Accuracy: 0.6464968152866242\n"
     ]
    },
    {
     "name": "stderr",
     "output_type": "stream",
     "text": [
      "Training Epoch 281: 100%|█████████████████████████████████████████████████████████████| 59/59 [00:00<00:00, 219.45it/s]\n"
     ]
    },
    {
     "name": "stdout",
     "output_type": "stream",
     "text": [
      "Epoch 281, Training loss: 0.5696227201970957\n"
     ]
    },
    {
     "name": "stderr",
     "output_type": "stream",
     "text": [
      "Validation Epoch 281: 100%|███████████████████████████████████████████████████████████| 20/20 [00:00<00:00, 520.07it/s]\n"
     ]
    },
    {
     "name": "stdout",
     "output_type": "stream",
     "text": [
      "Epoch 281, Validation Loss: 1.0464145869016648, Accuracy: 0.6464968152866242\n"
     ]
    },
    {
     "name": "stderr",
     "output_type": "stream",
     "text": [
      "Training Epoch 282: 100%|█████████████████████████████████████████████████████████████| 59/59 [00:00<00:00, 202.17it/s]\n"
     ]
    },
    {
     "name": "stdout",
     "output_type": "stream",
     "text": [
      "Epoch 282, Training loss: 0.5702500515064951\n"
     ]
    },
    {
     "name": "stderr",
     "output_type": "stream",
     "text": [
      "Validation Epoch 282: 100%|███████████████████████████████████████████████████████████| 20/20 [00:00<00:00, 493.81it/s]\n"
     ]
    },
    {
     "name": "stdout",
     "output_type": "stream",
     "text": [
      "Epoch 282, Validation Loss: 1.0461121678352356, Accuracy: 0.6480891719745223\n"
     ]
    },
    {
     "name": "stderr",
     "output_type": "stream",
     "text": [
      "Training Epoch 283: 100%|█████████████████████████████████████████████████████████████| 59/59 [00:00<00:00, 200.53it/s]\n"
     ]
    },
    {
     "name": "stdout",
     "output_type": "stream",
     "text": [
      "Epoch 283, Training loss: 0.5571967353255062\n"
     ]
    },
    {
     "name": "stderr",
     "output_type": "stream",
     "text": [
      "Validation Epoch 283: 100%|███████████████████████████████████████████████████████████| 20/20 [00:00<00:00, 398.19it/s]\n"
     ]
    },
    {
     "name": "stdout",
     "output_type": "stream",
     "text": [
      "Epoch 283, Validation Loss: 1.0455493688583375, Accuracy: 0.6480891719745223\n"
     ]
    },
    {
     "name": "stderr",
     "output_type": "stream",
     "text": [
      "Training Epoch 284: 100%|█████████████████████████████████████████████████████████████| 59/59 [00:00<00:00, 180.32it/s]\n"
     ]
    },
    {
     "name": "stdout",
     "output_type": "stream",
     "text": [
      "Epoch 284, Training loss: 0.5559204771357068\n"
     ]
    },
    {
     "name": "stderr",
     "output_type": "stream",
     "text": [
      "Validation Epoch 284: 100%|███████████████████████████████████████████████████████████| 20/20 [00:00<00:00, 550.31it/s]\n"
     ]
    },
    {
     "name": "stdout",
     "output_type": "stream",
     "text": [
      "Epoch 284, Validation Loss: 1.0443561106920243, Accuracy: 0.6464968152866242\n"
     ]
    },
    {
     "name": "stderr",
     "output_type": "stream",
     "text": [
      "Training Epoch 285: 100%|█████████████████████████████████████████████████████████████| 59/59 [00:00<00:00, 195.20it/s]\n"
     ]
    },
    {
     "name": "stdout",
     "output_type": "stream",
     "text": [
      "Epoch 285, Training loss: 0.5605872652288211\n"
     ]
    },
    {
     "name": "stderr",
     "output_type": "stream",
     "text": [
      "Validation Epoch 285: 100%|███████████████████████████████████████████████████████████| 20/20 [00:00<00:00, 525.06it/s]\n"
     ]
    },
    {
     "name": "stdout",
     "output_type": "stream",
     "text": [
      "Epoch 285, Validation Loss: 1.043627142906189, Accuracy: 0.643312101910828\n"
     ]
    },
    {
     "name": "stderr",
     "output_type": "stream",
     "text": [
      "Training Epoch 286: 100%|█████████████████████████████████████████████████████████████| 59/59 [00:00<00:00, 215.43it/s]\n"
     ]
    },
    {
     "name": "stdout",
     "output_type": "stream",
     "text": [
      "Epoch 286, Training loss: 0.5578204393386841\n"
     ]
    },
    {
     "name": "stderr",
     "output_type": "stream",
     "text": [
      "Validation Epoch 286: 100%|███████████████████████████████████████████████████████████| 20/20 [00:00<00:00, 498.01it/s]\n"
     ]
    },
    {
     "name": "stdout",
     "output_type": "stream",
     "text": [
      "Epoch 286, Validation Loss: 1.0427709728479386, Accuracy: 0.643312101910828\n"
     ]
    },
    {
     "name": "stderr",
     "output_type": "stream",
     "text": [
      "Training Epoch 287: 100%|█████████████████████████████████████████████████████████████| 59/59 [00:00<00:00, 182.73it/s]\n"
     ]
    },
    {
     "name": "stdout",
     "output_type": "stream",
     "text": [
      "Epoch 287, Training loss: 0.5623858010364791\n"
     ]
    },
    {
     "name": "stderr",
     "output_type": "stream",
     "text": [
      "Validation Epoch 287: 100%|███████████████████████████████████████████████████████████| 20/20 [00:00<00:00, 463.40it/s]\n"
     ]
    },
    {
     "name": "stdout",
     "output_type": "stream",
     "text": [
      "Epoch 287, Validation Loss: 1.042727980017662, Accuracy: 0.6449044585987261\n"
     ]
    },
    {
     "name": "stderr",
     "output_type": "stream",
     "text": [
      "Training Epoch 288: 100%|█████████████████████████████████████████████████████████████| 59/59 [00:00<00:00, 198.15it/s]\n"
     ]
    },
    {
     "name": "stdout",
     "output_type": "stream",
     "text": [
      "Epoch 288, Training loss: 0.5533662564673666\n"
     ]
    },
    {
     "name": "stderr",
     "output_type": "stream",
     "text": [
      "Validation Epoch 288: 100%|███████████████████████████████████████████████████████████| 20/20 [00:00<00:00, 436.06it/s]\n"
     ]
    },
    {
     "name": "stdout",
     "output_type": "stream",
     "text": [
      "Epoch 288, Validation Loss: 1.0419195592403412, Accuracy: 0.6449044585987261\n"
     ]
    },
    {
     "name": "stderr",
     "output_type": "stream",
     "text": [
      "Training Epoch 289: 100%|█████████████████████████████████████████████████████████████| 59/59 [00:00<00:00, 192.05it/s]\n"
     ]
    },
    {
     "name": "stdout",
     "output_type": "stream",
     "text": [
      "Epoch 289, Training loss: 0.566614699060634\n"
     ]
    },
    {
     "name": "stderr",
     "output_type": "stream",
     "text": [
      "Validation Epoch 289: 100%|███████████████████████████████████████████████████████████| 20/20 [00:00<00:00, 526.45it/s]\n"
     ]
    },
    {
     "name": "stdout",
     "output_type": "stream",
     "text": [
      "Epoch 289, Validation Loss: 1.0407732129096985, Accuracy: 0.6464968152866242\n"
     ]
    },
    {
     "name": "stderr",
     "output_type": "stream",
     "text": [
      "Training Epoch 290: 100%|█████████████████████████████████████████████████████████████| 59/59 [00:00<00:00, 219.34it/s]\n"
     ]
    },
    {
     "name": "stdout",
     "output_type": "stream",
     "text": [
      "Epoch 290, Training loss: 0.5505862321894047\n"
     ]
    },
    {
     "name": "stderr",
     "output_type": "stream",
     "text": [
      "Validation Epoch 290: 100%|███████████████████████████████████████████████████████████| 20/20 [00:00<00:00, 382.66it/s]\n"
     ]
    },
    {
     "name": "stdout",
     "output_type": "stream",
     "text": [
      "Epoch 290, Validation Loss: 1.040175423026085, Accuracy: 0.6464968152866242\n"
     ]
    },
    {
     "name": "stderr",
     "output_type": "stream",
     "text": [
      "Training Epoch 291: 100%|█████████████████████████████████████████████████████████████| 59/59 [00:00<00:00, 201.28it/s]\n"
     ]
    },
    {
     "name": "stdout",
     "output_type": "stream",
     "text": [
      "Epoch 291, Training loss: 0.5463810118578248\n"
     ]
    },
    {
     "name": "stderr",
     "output_type": "stream",
     "text": [
      "Validation Epoch 291: 100%|███████████████████████████████████████████████████████████| 20/20 [00:00<00:00, 503.15it/s]\n"
     ]
    },
    {
     "name": "stdout",
     "output_type": "stream",
     "text": [
      "Epoch 291, Validation Loss: 1.0395095020532608, Accuracy: 0.6480891719745223\n"
     ]
    },
    {
     "name": "stderr",
     "output_type": "stream",
     "text": [
      "Training Epoch 292: 100%|█████████████████████████████████████████████████████████████| 59/59 [00:00<00:00, 198.94it/s]\n"
     ]
    },
    {
     "name": "stdout",
     "output_type": "stream",
     "text": [
      "Epoch 292, Training loss: 0.5499732494354248\n"
     ]
    },
    {
     "name": "stderr",
     "output_type": "stream",
     "text": [
      "Validation Epoch 292: 100%|███████████████████████████████████████████████████████████| 20/20 [00:00<00:00, 426.76it/s]\n"
     ]
    },
    {
     "name": "stdout",
     "output_type": "stream",
     "text": [
      "Epoch 292, Validation Loss: 1.0389594972133636, Accuracy: 0.6480891719745223\n"
     ]
    },
    {
     "name": "stderr",
     "output_type": "stream",
     "text": [
      "Training Epoch 293: 100%|█████████████████████████████████████████████████████████████| 59/59 [00:00<00:00, 190.57it/s]\n"
     ]
    },
    {
     "name": "stdout",
     "output_type": "stream",
     "text": [
      "Epoch 293, Training loss: 0.5401631144143767\n"
     ]
    },
    {
     "name": "stderr",
     "output_type": "stream",
     "text": [
      "Validation Epoch 293: 100%|███████████████████████████████████████████████████████████| 20/20 [00:00<00:00, 439.21it/s]\n"
     ]
    },
    {
     "name": "stdout",
     "output_type": "stream",
     "text": [
      "Epoch 293, Validation Loss: 1.0385279536247254, Accuracy: 0.6480891719745223\n"
     ]
    },
    {
     "name": "stderr",
     "output_type": "stream",
     "text": [
      "Training Epoch 294: 100%|█████████████████████████████████████████████████████████████| 59/59 [00:00<00:00, 218.34it/s]\n"
     ]
    },
    {
     "name": "stdout",
     "output_type": "stream",
     "text": [
      "Epoch 294, Training loss: 0.5388117644746425\n"
     ]
    },
    {
     "name": "stderr",
     "output_type": "stream",
     "text": [
      "Validation Epoch 294: 100%|███████████████████████████████████████████████████████████| 20/20 [00:00<00:00, 545.84it/s]\n"
     ]
    },
    {
     "name": "stdout",
     "output_type": "stream",
     "text": [
      "Epoch 294, Validation Loss: 1.0377983450889587, Accuracy: 0.6464968152866242\n"
     ]
    },
    {
     "name": "stderr",
     "output_type": "stream",
     "text": [
      "Training Epoch 295: 100%|█████████████████████████████████████████████████████████████| 59/59 [00:00<00:00, 203.83it/s]\n"
     ]
    },
    {
     "name": "stdout",
     "output_type": "stream",
     "text": [
      "Epoch 295, Training loss: 0.5395726147344557\n"
     ]
    },
    {
     "name": "stderr",
     "output_type": "stream",
     "text": [
      "Validation Epoch 295: 100%|███████████████████████████████████████████████████████████| 20/20 [00:00<00:00, 521.17it/s]\n"
     ]
    },
    {
     "name": "stdout",
     "output_type": "stream",
     "text": [
      "Epoch 295, Validation Loss: 1.0371382266283036, Accuracy: 0.6464968152866242\n"
     ]
    },
    {
     "name": "stderr",
     "output_type": "stream",
     "text": [
      "Training Epoch 296: 100%|█████████████████████████████████████████████████████████████| 59/59 [00:00<00:00, 197.34it/s]\n"
     ]
    },
    {
     "name": "stdout",
     "output_type": "stream",
     "text": [
      "Epoch 296, Training loss: 0.5374526765386937\n"
     ]
    },
    {
     "name": "stderr",
     "output_type": "stream",
     "text": [
      "Validation Epoch 296: 100%|███████████████████████████████████████████████████████████| 20/20 [00:00<00:00, 531.78it/s]\n"
     ]
    },
    {
     "name": "stdout",
     "output_type": "stream",
     "text": [
      "Epoch 296, Validation Loss: 1.03636634349823, Accuracy: 0.6480891719745223\n"
     ]
    },
    {
     "name": "stderr",
     "output_type": "stream",
     "text": [
      "Training Epoch 297: 100%|█████████████████████████████████████████████████████████████| 59/59 [00:00<00:00, 225.24it/s]\n"
     ]
    },
    {
     "name": "stdout",
     "output_type": "stream",
     "text": [
      "Epoch 297, Training loss: 0.528614132081048\n"
     ]
    },
    {
     "name": "stderr",
     "output_type": "stream",
     "text": [
      "Validation Epoch 297: 100%|███████████████████████████████████████████████████████████| 20/20 [00:00<00:00, 539.66it/s]\n"
     ]
    },
    {
     "name": "stdout",
     "output_type": "stream",
     "text": [
      "Epoch 297, Validation Loss: 1.0359517842531205, Accuracy: 0.6480891719745223\n"
     ]
    },
    {
     "name": "stderr",
     "output_type": "stream",
     "text": [
      "Training Epoch 298: 100%|█████████████████████████████████████████████████████████████| 59/59 [00:00<00:00, 207.02it/s]\n"
     ]
    },
    {
     "name": "stdout",
     "output_type": "stream",
     "text": [
      "Epoch 298, Training loss: 0.5348634093494739\n"
     ]
    },
    {
     "name": "stderr",
     "output_type": "stream",
     "text": [
      "Validation Epoch 298: 100%|███████████████████████████████████████████████████████████| 20/20 [00:00<00:00, 515.18it/s]\n"
     ]
    },
    {
     "name": "stdout",
     "output_type": "stream",
     "text": [
      "Epoch 298, Validation Loss: 1.035110703110695, Accuracy: 0.6512738853503185\n"
     ]
    },
    {
     "name": "stderr",
     "output_type": "stream",
     "text": [
      "Training Epoch 299: 100%|█████████████████████████████████████████████████████████████| 59/59 [00:00<00:00, 209.00it/s]\n"
     ]
    },
    {
     "name": "stdout",
     "output_type": "stream",
     "text": [
      "Epoch 299, Training loss: 0.5426132456730988\n"
     ]
    },
    {
     "name": "stderr",
     "output_type": "stream",
     "text": [
      "Validation Epoch 299: 100%|███████████████████████████████████████████████████████████| 20/20 [00:00<00:00, 531.56it/s]\n"
     ]
    },
    {
     "name": "stdout",
     "output_type": "stream",
     "text": [
      "Epoch 299, Validation Loss: 1.0342447996139525, Accuracy: 0.6480891719745223\n"
     ]
    },
    {
     "name": "stderr",
     "output_type": "stream",
     "text": [
      "Training Epoch 300: 100%|█████████████████████████████████████████████████████████████| 59/59 [00:00<00:00, 199.36it/s]\n"
     ]
    },
    {
     "name": "stdout",
     "output_type": "stream",
     "text": [
      "Epoch 300, Training loss: 0.5258139402179395\n"
     ]
    },
    {
     "name": "stderr",
     "output_type": "stream",
     "text": [
      "Validation Epoch 300: 100%|███████████████████████████████████████████████████████████| 20/20 [00:00<00:00, 512.21it/s]"
     ]
    },
    {
     "name": "stdout",
     "output_type": "stream",
     "text": [
      "Epoch 300, Validation Loss: 1.0336124509572984, Accuracy: 0.6496815286624203\n"
     ]
    },
    {
     "name": "stderr",
     "output_type": "stream",
     "text": [
      "\n"
     ]
    }
   ],
   "source": [
    "from torch.optim import Adam\n",
    "from torch.utils.data import Dataset\n",
    "import pandas as pd\n",
    "import re\n",
    "from torch.utils.data import DataLoader\n",
    "from sklearn.model_selection import train_test_split\n",
    "from nltk import download, pos_tag\n",
    "from nltk.corpus import wordnet\n",
    "from nltk.stem import WordNetLemmatizer\n",
    "import torch\n",
    "import torch.nn as nn\n",
    "from nltk.tokenize import word_tokenize\n",
    "from collections import Counter\n",
    "import string\n",
    "from nltk.corpus import stopwords\n",
    "import torch.nn.functional as F\n",
    "import torch\n",
    "from torch import nn, optim\n",
    "from torch.utils.data import DataLoader\n",
    "from tqdm import tqdm\n",
    "download('punkt')\n",
    "download('wordnet')\n",
    "download('averaged_perceptron_tagger')\n",
    "stop_words = set(stopwords.words('english'))\n",
    "\n",
    "\n",
    "\n",
    "\n",
    "#data-load\n",
    "df = pd.read_csv('dataset/user_stories_data.csv')\n",
    "text_data = df['texts'].tolist()\n",
    "label_data = df['labels'].tolist()\n",
    "labels = {'Usability':0,\n",
    "          'Functional':1,\n",
    "          'Maintainability':2,\n",
    "          'Security':3,\n",
    "          'Portability':4,\n",
    "          'Performance':5,\n",
    "          'Compatibility':6,\n",
    "          'Reliability':7\n",
    "          }\n",
    "label_counts = Counter(label_data) #data distribution\n",
    "encoded_label_data = [labels[label] for label in label_data]\n",
    "\n",
    "\n",
    "\n",
    "#preprocessing\n",
    "def get_voc(texts):\n",
    "    words = []\n",
    "    for text in texts:\n",
    "        tokens = word_tokenize(text)\n",
    "        tokens = [word.lower() for word in tokens if word.isalpha() and word.lower() not in stop_words]\n",
    "        words.extend(tokens)\n",
    "    word_counts = Counter(words)\n",
    "    vocab = ['<pad>', '<unk>'] + [word for word, freq in word_counts.items() if freq > 1]\n",
    "    vocab = {word: index for index, word in enumerate(vocab)}\n",
    "\n",
    "    return vocab\n",
    "\n",
    "\n",
    "def load_stopwords(stopwords_file):\n",
    "    with open(stopwords_file, 'r', encoding='utf-8') as f:\n",
    "        stopwords = [line.strip() for line in f.readlines()]\n",
    "    return stopwords\n",
    "\n",
    "lemmatizer = WordNetLemmatizer()\n",
    "def preprocess_texts(texts):\n",
    "    def get_wordnet_pos(tag):\n",
    "        if tag.startswith('J'):\n",
    "            return wordnet.ADJ\n",
    "        elif tag.startswith('V'):\n",
    "            return wordnet.VERB\n",
    "        elif tag.startswith('N'):\n",
    "            return wordnet.NOUN\n",
    "        elif tag.startswith('R'):\n",
    "            return wordnet.ADV\n",
    "        else:\n",
    "            return wordnet.NOUN\n",
    "\n",
    "    def remove_unwanted_chars(text):\n",
    "        text = re.sub(r'https?://\\S+|www\\.\\S+', '', text)\n",
    "        text = re.sub(r'<.*?>', '', text)\n",
    "        text = re.sub(r'[^a-zA-Z\\s]', '', text)\n",
    "        return text\n",
    "\n",
    "    def remove_stopwords(sentence):\n",
    "        tokens = word_tokenize(sentence)\n",
    "        filtered_sentence = [w for w in tokens if not w in stop_words]\n",
    "        return ' '.join(filtered_sentence)\n",
    "\n",
    "    def remove_punctuation(sentence):\n",
    "        translator = str.maketrans('', '', string.punctuation)\n",
    "        lower_case_sentence = sentence.lower().translate(translator)\n",
    "        words = lower_case_sentence.split()\n",
    "        return ' '.join(words)\n",
    "\n",
    "    def lemmatize_text(text):\n",
    "        tokens = word_tokenize(text)\n",
    "        tagged_tokens = pos_tag(tokens)\n",
    "        lemmatized_tokens = [lemmatizer.lemmatize(token, get_wordnet_pos(pos)) for token, pos in tagged_tokens]\n",
    "        return ' '.join(lemmatized_tokens)\n",
    "\n",
    "    #remove URL and unwanted words\n",
    "    texts = [remove_unwanted_chars(text) for text in texts]\n",
    "    # remove stopwords and punctuation\n",
    "    texts = [remove_punctuation(text) for text in texts]\n",
    "    texts = [remove_stopwords(text) for text in texts]\n",
    "    # lematization\n",
    "    texts = [lemmatize_text(text) for text in texts]\n",
    "    # get vocabulary\n",
    "    voc = get_voc(texts)\n",
    "    return texts,voc\n",
    "\n",
    "\n",
    "\n",
    "#convert text to index\n",
    "def convert_texts_to_index(texts,max_length):\n",
    "    texts,voc = preprocess_texts(texts)\n",
    "    text_indexs =[]\n",
    "    for text in texts:\n",
    "        unk_id = voc['<unk>']\n",
    "        pad_id = voc['<pad>']\n",
    "        tokens = word_tokenize(text)\n",
    "        text_index = [voc.get(word,unk_id) for word in tokens]\n",
    "        if len(text_index) < max_length:\n",
    "            text_index += [pad_id] * (max_length - len(text_index))\n",
    "        else:\n",
    "            text_index = text_index[:max_length]\n",
    "        text_indexs.append(text_index)\n",
    "    return text_indexs\n",
    "\n",
    "\n",
    "#model\n",
    "class TextCNN(nn.Module):\n",
    "     def __init__(self, vocab_size, embedding_dim, output_size, filter_num=100, kernel_list=(3, 4, 5), dropout=0.5):\n",
    "        super(TextCNN,self).__init__()\n",
    "        # embedding layer\n",
    "        self.embedding = nn.Embedding(vocab_size, embedding_dim)\n",
    "        # cnn layer and pool layer\n",
    "        self.convs = nn.ModuleList(\n",
    "                [nn.Conv2d(1,filter_num,(kernel,embedding_dim)) for kernel in kernel_list])\n",
    "        #dropout layer\n",
    "        self.dropout = nn.Dropout(dropout)\n",
    "        #full connected layer\n",
    "        self.fc = nn.Linear(filter_num*len(kernel_list),output_size)\n",
    "     def forward(self,x):\n",
    "        x = self.embedding(x)\n",
    "        x = x.unsqueeze(1)\n",
    "        x = [F.relu(conv(x)).squeeze(3) for conv in self.convs]\n",
    "        x = [F.max_pool1d(item, item.size(2)).squeeze(2) for item in x]\n",
    "        x = torch.cat(x, 1)\n",
    "        x = self.dropout(x)\n",
    "        logits = self.fc(x)\n",
    "        return logits\n",
    "\n",
    "\n",
    "class TextDataSet(Dataset):\n",
    "    def __init__(self, texts, labels):\n",
    "        self.texts = texts\n",
    "        self.labels = labels\n",
    "\n",
    "    def __len__(self):\n",
    "        return len(self.texts)\n",
    "\n",
    "    def __getitem__(self, idx):\n",
    "        return torch.tensor(self.texts[idx], dtype=torch.long), torch.tensor(self.labels[idx], dtype=torch.long)\n",
    "\n",
    "# main\n",
    "maxlength = 50\n",
    "learing_rate = 0.01\n",
    "embedding_dim = 128\n",
    "output_size = 8\n",
    "voc_size = len(get_voc(text_data))\n",
    "all_data = convert_texts_to_index(text_data,maxlength)\n",
    "model = TextCNN(voc_size,embedding_dim,output_size)\n",
    "# spilt data\n",
    "train_val_data, test_data, train_val_labels, test_labels = train_test_split(\n",
    "    all_data, encoded_label_data, test_size=0.2, random_state=42)\n",
    "train_data, val_data, train_labels, val_labels = train_test_split(\n",
    "    train_val_data, train_val_labels, test_size=0.25, random_state=42)  # 0.25*0.8 = 0.2\n",
    "\n",
    "train_dataset = TextDataSet(train_data,train_labels)\n",
    "test_dataset = TextDataSet(test_data,test_labels)\n",
    "val_dataset = TextDataSet(val_data,val_labels)\n",
    "batch_size = 128  \n",
    "\n",
    "train_loader = DataLoader(train_dataset, batch_size=batch_size, shuffle=True)\n",
    "val_loader = DataLoader(val_dataset, batch_size=batch_size, shuffle=False)\n",
    "test_loader = DataLoader(test_dataset, batch_size=batch_size, shuffle=False)\n",
    "\n",
    "# train\n",
    "device = torch.device('cuda' if torch.cuda.is_available() else 'cpu')\n",
    "model.to(device)\n",
    "\n",
    "# DataLoader\n",
    "train_loader = DataLoader(train_dataset, batch_size=32, shuffle=True)\n",
    "val_loader = DataLoader(val_dataset, batch_size=32)\n",
    "\n",
    "# Loss function and optimizer\n",
    "criterion = nn.CrossEntropyLoss()\n",
    "optimizer = optim.Adam(model.parameters(), lr=1e-5)\n",
    "\n",
    "# train and validation \n",
    "epochs = 300\n",
    "for epoch in range(epochs):\n",
    " \n",
    "    model.train()\n",
    "    total_loss = 0\n",
    "    for texts, labels in tqdm(train_loader, desc=f\"Training Epoch {epoch + 1}\"):\n",
    "        texts, labels = texts.to(device), labels.to(device)\n",
    "\n",
    "        optimizer.zero_grad()\n",
    "        outputs = model(texts)\n",
    "        loss = criterion(outputs, labels)\n",
    "        loss.backward()\n",
    "        optimizer.step()\n",
    "\n",
    "        total_loss += loss.item()\n",
    "\n",
    "    print(f\"Epoch {epoch + 1}, Training loss: {total_loss / len(train_loader)}\")\n",
    "\n",
    "# validation\n",
    "    model.eval()\n",
    "    total_val_loss = 0\n",
    "    total_correct = 0\n",
    "    with torch.no_grad():\n",
    "        for texts, labels in tqdm(val_loader, desc=f\"Validation Epoch {epoch + 1}\"):\n",
    "            texts, labels = texts.to(device), labels.to(device)\n",
    "            outputs = model(texts)\n",
    "            loss = criterion(outputs, labels)\n",
    "            total_val_loss += loss.item()\n",
    "\n",
    "            _, predicted = torch.max(outputs, 1)\n",
    "            total_correct += (predicted == labels).sum().item()\n",
    "\n",
    "    val_accuracy = total_correct / len(val_loader.dataset)\n",
    "    print(f\"Epoch {epoch + 1}, Validation Loss: {total_val_loss / len(val_loader)}, Accuracy: {val_accuracy}\")"
   ]
  },
  {
   "cell_type": "markdown",
   "metadata": {
    "collapsed": false,
    "jupyter": {
     "outputs_hidden": false
    }
   },
   "source": []
  }
 ],
 "metadata": {
  "kernelspec": {
   "display_name": "Python 3 (ipykernel)",
   "language": "python",
   "name": "python3"
  },
  "language_info": {
   "codemirror_mode": {
    "name": "ipython",
    "version": 3
   },
   "file_extension": ".py",
   "mimetype": "text/x-python",
   "name": "python",
   "nbconvert_exporter": "python",
   "pygments_lexer": "ipython3",
   "version": "3.8.18"
  }
 },
 "nbformat": 4,
 "nbformat_minor": 4
}
