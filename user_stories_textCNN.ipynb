{
 "cells": [
  {
   "cell_type": "markdown",
   "metadata": {},
   "source": [
    "User Stories Classification with textCNN"
   ]
  },
  {
   "cell_type": "code",
   "execution_count": 14,
   "metadata": {},
   "outputs": [
    {
     "name": "stderr",
     "output_type": "stream",
     "text": [
      "[nltk_data] Downloading package punkt to\n",
      "[nltk_data]     C:\\Users\\38673\\AppData\\Roaming\\nltk_data...\n",
      "[nltk_data]   Package punkt is already up-to-date!\n",
      "[nltk_data] Downloading package wordnet to\n",
      "[nltk_data]     C:\\Users\\38673\\AppData\\Roaming\\nltk_data...\n",
      "[nltk_data]   Package wordnet is already up-to-date!\n",
      "[nltk_data] Downloading package averaged_perceptron_tagger to\n",
      "[nltk_data]     C:\\Users\\38673\\AppData\\Roaming\\nltk_data...\n",
      "[nltk_data]   Package averaged_perceptron_tagger is already up-to-\n",
      "[nltk_data]       date!\n",
      "Training Epoch 1: 100%|███████████████████████████████████████████████████████████████| 59/59 [00:00<00:00, 145.36it/s]\n"
     ]
    },
    {
     "name": "stdout",
     "output_type": "stream",
     "text": [
      "Epochs: 1\n",
      "       Train Loss: 2.019\n",
      "       Train Accuracy: 0.246\n",
      "       Val Loss: 1.747\n",
      "       Val Accuracy: 0.350\n"
     ]
    },
    {
     "name": "stderr",
     "output_type": "stream",
     "text": [
      "Training Epoch 2: 100%|███████████████████████████████████████████████████████████████| 59/59 [00:00<00:00, 261.24it/s]\n"
     ]
    },
    {
     "name": "stdout",
     "output_type": "stream",
     "text": [
      "Epochs: 2\n",
      "       Train Loss: 1.888\n",
      "       Train Accuracy: 0.303\n",
      "       Val Loss: 1.699\n",
      "       Val Accuracy: 0.369\n"
     ]
    },
    {
     "name": "stderr",
     "output_type": "stream",
     "text": [
      "Training Epoch 3: 100%|███████████████████████████████████████████████████████████████| 59/59 [00:00<00:00, 265.27it/s]\n"
     ]
    },
    {
     "name": "stdout",
     "output_type": "stream",
     "text": [
      "Epochs: 3\n",
      "       Train Loss: 1.826\n",
      "       Train Accuracy: 0.323\n",
      "       Val Loss: 1.663\n",
      "       Val Accuracy: 0.382\n"
     ]
    },
    {
     "name": "stderr",
     "output_type": "stream",
     "text": [
      "Training Epoch 4: 100%|███████████████████████████████████████████████████████████████| 59/59 [00:00<00:00, 262.83it/s]\n"
     ]
    },
    {
     "name": "stdout",
     "output_type": "stream",
     "text": [
      "Epochs: 4\n",
      "       Train Loss: 1.786\n",
      "       Train Accuracy: 0.331\n",
      "       Val Loss: 1.637\n",
      "       Val Accuracy: 0.393\n"
     ]
    },
    {
     "name": "stderr",
     "output_type": "stream",
     "text": [
      "Training Epoch 5: 100%|███████████████████████████████████████████████████████████████| 59/59 [00:00<00:00, 256.80it/s]\n"
     ]
    },
    {
     "name": "stdout",
     "output_type": "stream",
     "text": [
      "Epochs: 5\n",
      "       Train Loss: 1.745\n",
      "       Train Accuracy: 0.337\n",
      "       Val Loss: 1.612\n",
      "       Val Accuracy: 0.412\n"
     ]
    },
    {
     "name": "stderr",
     "output_type": "stream",
     "text": [
      "Training Epoch 6: 100%|███████████████████████████████████████████████████████████████| 59/59 [00:00<00:00, 247.83it/s]\n"
     ]
    },
    {
     "name": "stdout",
     "output_type": "stream",
     "text": [
      "Epochs: 6\n",
      "       Train Loss: 1.694\n",
      "       Train Accuracy: 0.364\n",
      "       Val Loss: 1.587\n",
      "       Val Accuracy: 0.412\n"
     ]
    },
    {
     "name": "stderr",
     "output_type": "stream",
     "text": [
      "Training Epoch 7: 100%|███████████████████████████████████████████████████████████████| 59/59 [00:00<00:00, 235.20it/s]\n"
     ]
    },
    {
     "name": "stdout",
     "output_type": "stream",
     "text": [
      "Epochs: 7\n",
      "       Train Loss: 1.646\n",
      "       Train Accuracy: 0.416\n",
      "       Val Loss: 1.564\n",
      "       Val Accuracy: 0.417\n"
     ]
    },
    {
     "name": "stderr",
     "output_type": "stream",
     "text": [
      "Training Epoch 8: 100%|███████████████████████████████████████████████████████████████| 59/59 [00:00<00:00, 246.66it/s]\n"
     ]
    },
    {
     "name": "stdout",
     "output_type": "stream",
     "text": [
      "Epochs: 8\n",
      "       Train Loss: 1.582\n",
      "       Train Accuracy: 0.415\n",
      "       Val Loss: 1.543\n",
      "       Val Accuracy: 0.435\n"
     ]
    },
    {
     "name": "stderr",
     "output_type": "stream",
     "text": [
      "Training Epoch 9: 100%|███████████████████████████████████████████████████████████████| 59/59 [00:00<00:00, 258.11it/s]\n"
     ]
    },
    {
     "name": "stdout",
     "output_type": "stream",
     "text": [
      "Epochs: 9\n",
      "       Train Loss: 1.560\n",
      "       Train Accuracy: 0.414\n",
      "       Val Loss: 1.521\n",
      "       Val Accuracy: 0.457\n"
     ]
    },
    {
     "name": "stderr",
     "output_type": "stream",
     "text": [
      "Training Epoch 10: 100%|██████████████████████████████████████████████████████████████| 59/59 [00:00<00:00, 268.62it/s]\n"
     ]
    },
    {
     "name": "stdout",
     "output_type": "stream",
     "text": [
      "Epochs: 10\n",
      "       Train Loss: 1.508\n",
      "       Train Accuracy: 0.440\n",
      "       Val Loss: 1.498\n",
      "       Val Accuracy: 0.478\n"
     ]
    },
    {
     "name": "stderr",
     "output_type": "stream",
     "text": [
      "Training Epoch 11: 100%|██████████████████████████████████████████████████████████████| 59/59 [00:00<00:00, 264.96it/s]\n"
     ]
    },
    {
     "name": "stdout",
     "output_type": "stream",
     "text": [
      "Epochs: 11\n",
      "       Train Loss: 1.475\n",
      "       Train Accuracy: 0.448\n",
      "       Val Loss: 1.478\n",
      "       Val Accuracy: 0.494\n"
     ]
    },
    {
     "name": "stderr",
     "output_type": "stream",
     "text": [
      "Training Epoch 12: 100%|██████████████████████████████████████████████████████████████| 59/59 [00:00<00:00, 257.92it/s]\n"
     ]
    },
    {
     "name": "stdout",
     "output_type": "stream",
     "text": [
      "Epochs: 12\n",
      "       Train Loss: 1.458\n",
      "       Train Accuracy: 0.463\n",
      "       Val Loss: 1.456\n",
      "       Val Accuracy: 0.500\n"
     ]
    },
    {
     "name": "stderr",
     "output_type": "stream",
     "text": [
      "Training Epoch 13: 100%|██████████████████████████████████████████████████████████████| 59/59 [00:00<00:00, 258.86it/s]\n"
     ]
    },
    {
     "name": "stdout",
     "output_type": "stream",
     "text": [
      "Epochs: 13\n",
      "       Train Loss: 1.423\n",
      "       Train Accuracy: 0.485\n",
      "       Val Loss: 1.438\n",
      "       Val Accuracy: 0.508\n"
     ]
    },
    {
     "name": "stderr",
     "output_type": "stream",
     "text": [
      "Training Epoch 14: 100%|██████████████████████████████████████████████████████████████| 59/59 [00:00<00:00, 254.04it/s]\n"
     ]
    },
    {
     "name": "stdout",
     "output_type": "stream",
     "text": [
      "Epochs: 14\n",
      "       Train Loss: 1.380\n",
      "       Train Accuracy: 0.499\n",
      "       Val Loss: 1.419\n",
      "       Val Accuracy: 0.508\n"
     ]
    },
    {
     "name": "stderr",
     "output_type": "stream",
     "text": [
      "Training Epoch 15: 100%|██████████████████████████████████████████████████████████████| 59/59 [00:00<00:00, 257.12it/s]\n"
     ]
    },
    {
     "name": "stdout",
     "output_type": "stream",
     "text": [
      "Epochs: 15\n",
      "       Train Loss: 1.342\n",
      "       Train Accuracy: 0.521\n",
      "       Val Loss: 1.400\n",
      "       Val Accuracy: 0.532\n"
     ]
    },
    {
     "name": "stderr",
     "output_type": "stream",
     "text": [
      "Training Epoch 16: 100%|██████████████████████████████████████████████████████████████| 59/59 [00:00<00:00, 256.39it/s]\n"
     ]
    },
    {
     "name": "stdout",
     "output_type": "stream",
     "text": [
      "Epochs: 16\n",
      "       Train Loss: 1.324\n",
      "       Train Accuracy: 0.534\n",
      "       Val Loss: 1.383\n",
      "       Val Accuracy: 0.525\n"
     ]
    },
    {
     "name": "stderr",
     "output_type": "stream",
     "text": [
      "Training Epoch 17: 100%|██████████████████████████████████████████████████████████████| 59/59 [00:00<00:00, 209.84it/s]\n"
     ]
    },
    {
     "name": "stdout",
     "output_type": "stream",
     "text": [
      "Epochs: 17\n",
      "       Train Loss: 1.277\n",
      "       Train Accuracy: 0.558\n",
      "       Val Loss: 1.365\n",
      "       Val Accuracy: 0.551\n"
     ]
    },
    {
     "name": "stderr",
     "output_type": "stream",
     "text": [
      "Training Epoch 18: 100%|██████████████████████████████████████████████████████████████| 59/59 [00:00<00:00, 219.65it/s]\n"
     ]
    },
    {
     "name": "stdout",
     "output_type": "stream",
     "text": [
      "Epochs: 18\n",
      "       Train Loss: 1.264\n",
      "       Train Accuracy: 0.571\n",
      "       Val Loss: 1.353\n",
      "       Val Accuracy: 0.545\n"
     ]
    },
    {
     "name": "stderr",
     "output_type": "stream",
     "text": [
      "Training Epoch 19: 100%|██████████████████████████████████████████████████████████████| 59/59 [00:00<00:00, 221.20it/s]\n"
     ]
    },
    {
     "name": "stdout",
     "output_type": "stream",
     "text": [
      "Epochs: 19\n",
      "       Train Loss: 1.237\n",
      "       Train Accuracy: 0.572\n",
      "       Val Loss: 1.335\n",
      "       Val Accuracy: 0.551\n"
     ]
    },
    {
     "name": "stderr",
     "output_type": "stream",
     "text": [
      "Training Epoch 20: 100%|██████████████████████████████████████████████████████████████| 59/59 [00:00<00:00, 232.59it/s]\n"
     ]
    },
    {
     "name": "stdout",
     "output_type": "stream",
     "text": [
      "Epochs: 20\n",
      "       Train Loss: 1.200\n",
      "       Train Accuracy: 0.588\n",
      "       Val Loss: 1.320\n",
      "       Val Accuracy: 0.565\n"
     ]
    },
    {
     "name": "stderr",
     "output_type": "stream",
     "text": [
      "Training Epoch 21: 100%|██████████████████████████████████████████████████████████████| 59/59 [00:00<00:00, 245.82it/s]\n"
     ]
    },
    {
     "name": "stdout",
     "output_type": "stream",
     "text": [
      "Epochs: 21\n",
      "       Train Loss: 1.184\n",
      "       Train Accuracy: 0.590\n",
      "       Val Loss: 1.309\n",
      "       Val Accuracy: 0.565\n"
     ]
    },
    {
     "name": "stderr",
     "output_type": "stream",
     "text": [
      "Training Epoch 22: 100%|██████████████████████████████████████████████████████████████| 59/59 [00:00<00:00, 218.71it/s]\n"
     ]
    },
    {
     "name": "stdout",
     "output_type": "stream",
     "text": [
      "Epochs: 22\n",
      "       Train Loss: 1.158\n",
      "       Train Accuracy: 0.619\n",
      "       Val Loss: 1.293\n",
      "       Val Accuracy: 0.583\n"
     ]
    },
    {
     "name": "stderr",
     "output_type": "stream",
     "text": [
      "Training Epoch 23: 100%|██████████████████████████████████████████████████████████████| 59/59 [00:00<00:00, 244.37it/s]\n"
     ]
    },
    {
     "name": "stdout",
     "output_type": "stream",
     "text": [
      "Epochs: 23\n",
      "       Train Loss: 1.121\n",
      "       Train Accuracy: 0.631\n",
      "       Val Loss: 1.280\n",
      "       Val Accuracy: 0.591\n"
     ]
    },
    {
     "name": "stderr",
     "output_type": "stream",
     "text": [
      "Training Epoch 24: 100%|██████████████████████████████████████████████████████████████| 59/59 [00:00<00:00, 260.25it/s]\n"
     ]
    },
    {
     "name": "stdout",
     "output_type": "stream",
     "text": [
      "Epochs: 24\n",
      "       Train Loss: 1.104\n",
      "       Train Accuracy: 0.635\n",
      "       Val Loss: 1.269\n",
      "       Val Accuracy: 0.592\n"
     ]
    },
    {
     "name": "stderr",
     "output_type": "stream",
     "text": [
      "Training Epoch 25: 100%|██████████████████████████████████████████████████████████████| 59/59 [00:00<00:00, 246.91it/s]\n"
     ]
    },
    {
     "name": "stdout",
     "output_type": "stream",
     "text": [
      "Epochs: 25\n",
      "       Train Loss: 1.082\n",
      "       Train Accuracy: 0.639\n",
      "       Val Loss: 1.256\n",
      "       Val Accuracy: 0.607\n"
     ]
    },
    {
     "name": "stderr",
     "output_type": "stream",
     "text": [
      "Training Epoch 26: 100%|██████████████████████████████████████████████████████████████| 59/59 [00:00<00:00, 242.68it/s]\n"
     ]
    },
    {
     "name": "stdout",
     "output_type": "stream",
     "text": [
      "Epochs: 26\n",
      "       Train Loss: 1.062\n",
      "       Train Accuracy: 0.660\n",
      "       Val Loss: 1.246\n",
      "       Val Accuracy: 0.600\n"
     ]
    },
    {
     "name": "stderr",
     "output_type": "stream",
     "text": [
      "Training Epoch 27: 100%|██████████████████████████████████████████████████████████████| 59/59 [00:00<00:00, 262.57it/s]\n"
     ]
    },
    {
     "name": "stdout",
     "output_type": "stream",
     "text": [
      "Epochs: 27\n",
      "       Train Loss: 1.046\n",
      "       Train Accuracy: 0.654\n",
      "       Val Loss: 1.235\n",
      "       Val Accuracy: 0.600\n"
     ]
    },
    {
     "name": "stderr",
     "output_type": "stream",
     "text": [
      "Training Epoch 28: 100%|██████████████████████████████████████████████████████████████| 59/59 [00:00<00:00, 257.41it/s]\n"
     ]
    },
    {
     "name": "stdout",
     "output_type": "stream",
     "text": [
      "Epochs: 28\n",
      "       Train Loss: 1.022\n",
      "       Train Accuracy: 0.669\n",
      "       Val Loss: 1.224\n",
      "       Val Accuracy: 0.615\n"
     ]
    },
    {
     "name": "stderr",
     "output_type": "stream",
     "text": [
      "Training Epoch 29: 100%|██████████████████████████████████████████████████████████████| 59/59 [00:00<00:00, 258.04it/s]\n"
     ]
    },
    {
     "name": "stdout",
     "output_type": "stream",
     "text": [
      "Epochs: 29\n",
      "       Train Loss: 0.998\n",
      "       Train Accuracy: 0.684\n",
      "       Val Loss: 1.216\n",
      "       Val Accuracy: 0.602\n"
     ]
    },
    {
     "name": "stderr",
     "output_type": "stream",
     "text": [
      "Training Epoch 30: 100%|██████████████████████████████████████████████████████████████| 59/59 [00:00<00:00, 239.21it/s]\n"
     ]
    },
    {
     "name": "stdout",
     "output_type": "stream",
     "text": [
      "Epochs: 30\n",
      "       Train Loss: 0.951\n",
      "       Train Accuracy: 0.706\n",
      "       Val Loss: 1.207\n",
      "       Val Accuracy: 0.610\n"
     ]
    },
    {
     "name": "stderr",
     "output_type": "stream",
     "text": [
      "Training Epoch 31: 100%|██████████████████████████████████████████████████████████████| 59/59 [00:00<00:00, 254.49it/s]\n"
     ]
    },
    {
     "name": "stdout",
     "output_type": "stream",
     "text": [
      "Epochs: 31\n",
      "       Train Loss: 0.956\n",
      "       Train Accuracy: 0.703\n",
      "       Val Loss: 1.200\n",
      "       Val Accuracy: 0.594\n"
     ]
    },
    {
     "name": "stderr",
     "output_type": "stream",
     "text": [
      "Training Epoch 32: 100%|██████████████████████████████████████████████████████████████| 59/59 [00:00<00:00, 256.60it/s]\n"
     ]
    },
    {
     "name": "stdout",
     "output_type": "stream",
     "text": [
      "Epochs: 32\n",
      "       Train Loss: 0.932\n",
      "       Train Accuracy: 0.717\n",
      "       Val Loss: 1.189\n",
      "       Val Accuracy: 0.608\n"
     ]
    },
    {
     "name": "stderr",
     "output_type": "stream",
     "text": [
      "Training Epoch 33: 100%|██████████████████████████████████████████████████████████████| 59/59 [00:00<00:00, 237.55it/s]\n"
     ]
    },
    {
     "name": "stdout",
     "output_type": "stream",
     "text": [
      "Epochs: 33\n",
      "       Train Loss: 0.921\n",
      "       Train Accuracy: 0.719\n",
      "       Val Loss: 1.182\n",
      "       Val Accuracy: 0.602\n"
     ]
    },
    {
     "name": "stderr",
     "output_type": "stream",
     "text": [
      "Training Epoch 34: 100%|██████████████████████████████████████████████████████████████| 59/59 [00:00<00:00, 237.41it/s]\n"
     ]
    },
    {
     "name": "stdout",
     "output_type": "stream",
     "text": [
      "Epochs: 34\n",
      "       Train Loss: 0.895\n",
      "       Train Accuracy: 0.728\n",
      "       Val Loss: 1.172\n",
      "       Val Accuracy: 0.615\n"
     ]
    },
    {
     "name": "stderr",
     "output_type": "stream",
     "text": [
      "Training Epoch 35: 100%|██████████████████████████████████████████████████████████████| 59/59 [00:00<00:00, 226.63it/s]\n"
     ]
    },
    {
     "name": "stdout",
     "output_type": "stream",
     "text": [
      "Epochs: 35\n",
      "       Train Loss: 0.872\n",
      "       Train Accuracy: 0.730\n",
      "       Val Loss: 1.163\n",
      "       Val Accuracy: 0.616\n"
     ]
    },
    {
     "name": "stderr",
     "output_type": "stream",
     "text": [
      "Training Epoch 36: 100%|██████████████████████████████████████████████████████████████| 59/59 [00:00<00:00, 220.41it/s]\n"
     ]
    },
    {
     "name": "stdout",
     "output_type": "stream",
     "text": [
      "Epochs: 36\n",
      "       Train Loss: 0.865\n",
      "       Train Accuracy: 0.744\n",
      "       Val Loss: 1.156\n",
      "       Val Accuracy: 0.624\n"
     ]
    },
    {
     "name": "stderr",
     "output_type": "stream",
     "text": [
      "Training Epoch 37: 100%|██████████████████████████████████████████████████████████████| 59/59 [00:00<00:00, 222.29it/s]\n"
     ]
    },
    {
     "name": "stdout",
     "output_type": "stream",
     "text": [
      "Epochs: 37\n",
      "       Train Loss: 0.865\n",
      "       Train Accuracy: 0.734\n",
      "       Val Loss: 1.149\n",
      "       Val Accuracy: 0.624\n"
     ]
    },
    {
     "name": "stderr",
     "output_type": "stream",
     "text": [
      "Training Epoch 38: 100%|██████████████████████████████████████████████████████████████| 59/59 [00:00<00:00, 265.32it/s]\n"
     ]
    },
    {
     "name": "stdout",
     "output_type": "stream",
     "text": [
      "Epochs: 38\n",
      "       Train Loss: 0.827\n",
      "       Train Accuracy: 0.753\n",
      "       Val Loss: 1.141\n",
      "       Val Accuracy: 0.629\n"
     ]
    },
    {
     "name": "stderr",
     "output_type": "stream",
     "text": [
      "Training Epoch 39: 100%|██████████████████████████████████████████████████████████████| 59/59 [00:00<00:00, 260.13it/s]\n"
     ]
    },
    {
     "name": "stdout",
     "output_type": "stream",
     "text": [
      "Epochs: 39\n",
      "       Train Loss: 0.816\n",
      "       Train Accuracy: 0.745\n",
      "       Val Loss: 1.133\n",
      "       Val Accuracy: 0.627\n"
     ]
    },
    {
     "name": "stderr",
     "output_type": "stream",
     "text": [
      "Training Epoch 40: 100%|██████████████████████████████████████████████████████████████| 59/59 [00:00<00:00, 236.93it/s]\n"
     ]
    },
    {
     "name": "stdout",
     "output_type": "stream",
     "text": [
      "Epochs: 40\n",
      "       Train Loss: 0.794\n",
      "       Train Accuracy: 0.762\n",
      "       Val Loss: 1.128\n",
      "       Val Accuracy: 0.619\n"
     ]
    },
    {
     "name": "stderr",
     "output_type": "stream",
     "text": [
      "Training Epoch 41: 100%|██████████████████████████████████████████████████████████████| 59/59 [00:00<00:00, 239.54it/s]\n"
     ]
    },
    {
     "name": "stdout",
     "output_type": "stream",
     "text": [
      "Epochs: 41\n",
      "       Train Loss: 0.779\n",
      "       Train Accuracy: 0.754\n",
      "       Val Loss: 1.120\n",
      "       Val Accuracy: 0.629\n"
     ]
    },
    {
     "name": "stderr",
     "output_type": "stream",
     "text": [
      "Training Epoch 42: 100%|██████████████████████████████████████████████████████████████| 59/59 [00:00<00:00, 234.83it/s]\n"
     ]
    },
    {
     "name": "stdout",
     "output_type": "stream",
     "text": [
      "Epochs: 42\n",
      "       Train Loss: 0.781\n",
      "       Train Accuracy: 0.762\n",
      "       Val Loss: 1.116\n",
      "       Val Accuracy: 0.615\n"
     ]
    },
    {
     "name": "stderr",
     "output_type": "stream",
     "text": [
      "Training Epoch 43: 100%|██████████████████████████████████████████████████████████████| 59/59 [00:00<00:00, 237.37it/s]\n"
     ]
    },
    {
     "name": "stdout",
     "output_type": "stream",
     "text": [
      "Epochs: 43\n",
      "       Train Loss: 0.759\n",
      "       Train Accuracy: 0.775\n",
      "       Val Loss: 1.108\n",
      "       Val Accuracy: 0.626\n"
     ]
    },
    {
     "name": "stderr",
     "output_type": "stream",
     "text": [
      "Training Epoch 44: 100%|██████████████████████████████████████████████████████████████| 59/59 [00:00<00:00, 237.54it/s]\n"
     ]
    },
    {
     "name": "stdout",
     "output_type": "stream",
     "text": [
      "Epochs: 44\n",
      "       Train Loss: 0.743\n",
      "       Train Accuracy: 0.779\n",
      "       Val Loss: 1.103\n",
      "       Val Accuracy: 0.631\n"
     ]
    },
    {
     "name": "stderr",
     "output_type": "stream",
     "text": [
      "Training Epoch 45: 100%|██████████████████████████████████████████████████████████████| 59/59 [00:00<00:00, 238.40it/s]\n"
     ]
    },
    {
     "name": "stdout",
     "output_type": "stream",
     "text": [
      "Epochs: 45\n",
      "       Train Loss: 0.728\n",
      "       Train Accuracy: 0.794\n",
      "       Val Loss: 1.097\n",
      "       Val Accuracy: 0.627\n"
     ]
    },
    {
     "name": "stderr",
     "output_type": "stream",
     "text": [
      "Training Epoch 46: 100%|██████████████████████████████████████████████████████████████| 59/59 [00:00<00:00, 244.44it/s]\n"
     ]
    },
    {
     "name": "stdout",
     "output_type": "stream",
     "text": [
      "Epochs: 46\n",
      "       Train Loss: 0.706\n",
      "       Train Accuracy: 0.799\n",
      "       Val Loss: 1.092\n",
      "       Val Accuracy: 0.624\n"
     ]
    },
    {
     "name": "stderr",
     "output_type": "stream",
     "text": [
      "Training Epoch 47: 100%|██████████████████████████████████████████████████████████████| 59/59 [00:00<00:00, 235.81it/s]\n"
     ]
    },
    {
     "name": "stdout",
     "output_type": "stream",
     "text": [
      "Epochs: 47\n",
      "       Train Loss: 0.695\n",
      "       Train Accuracy: 0.806\n",
      "       Val Loss: 1.089\n",
      "       Val Accuracy: 0.631\n"
     ]
    },
    {
     "name": "stderr",
     "output_type": "stream",
     "text": [
      "Training Epoch 48: 100%|██████████████████████████████████████████████████████████████| 59/59 [00:00<00:00, 261.18it/s]\n"
     ]
    },
    {
     "name": "stdout",
     "output_type": "stream",
     "text": [
      "Epochs: 48\n",
      "       Train Loss: 0.689\n",
      "       Train Accuracy: 0.813\n",
      "       Val Loss: 1.082\n",
      "       Val Accuracy: 0.632\n"
     ]
    },
    {
     "name": "stderr",
     "output_type": "stream",
     "text": [
      "Training Epoch 49: 100%|██████████████████████████████████████████████████████████████| 59/59 [00:00<00:00, 235.16it/s]\n"
     ]
    },
    {
     "name": "stdout",
     "output_type": "stream",
     "text": [
      "Epochs: 49\n",
      "       Train Loss: 0.674\n",
      "       Train Accuracy: 0.816\n",
      "       Val Loss: 1.076\n",
      "       Val Accuracy: 0.631\n"
     ]
    },
    {
     "name": "stderr",
     "output_type": "stream",
     "text": [
      "Training Epoch 50: 100%|██████████████████████████████████████████████████████████████| 59/59 [00:00<00:00, 232.54it/s]\n"
     ]
    },
    {
     "name": "stdout",
     "output_type": "stream",
     "text": [
      "Epochs: 50\n",
      "       Train Loss: 0.652\n",
      "       Train Accuracy: 0.817\n",
      "       Val Loss: 1.072\n",
      "       Val Accuracy: 0.629\n"
     ]
    },
    {
     "name": "stderr",
     "output_type": "stream",
     "text": [
      "Training Epoch 51: 100%|██████████████████████████████████████████████████████████████| 59/59 [00:00<00:00, 248.72it/s]\n"
     ]
    },
    {
     "name": "stdout",
     "output_type": "stream",
     "text": [
      "Epochs: 51\n",
      "       Train Loss: 0.643\n",
      "       Train Accuracy: 0.821\n",
      "       Val Loss: 1.068\n",
      "       Val Accuracy: 0.632\n"
     ]
    },
    {
     "name": "stderr",
     "output_type": "stream",
     "text": [
      "Training Epoch 52: 100%|██████████████████████████████████████████████████████████████| 59/59 [00:00<00:00, 225.53it/s]\n"
     ]
    },
    {
     "name": "stdout",
     "output_type": "stream",
     "text": [
      "Epochs: 52\n",
      "       Train Loss: 0.632\n",
      "       Train Accuracy: 0.825\n",
      "       Val Loss: 1.063\n",
      "       Val Accuracy: 0.645\n"
     ]
    },
    {
     "name": "stderr",
     "output_type": "stream",
     "text": [
      "Training Epoch 53: 100%|██████████████████████████████████████████████████████████████| 59/59 [00:00<00:00, 227.35it/s]\n"
     ]
    },
    {
     "name": "stdout",
     "output_type": "stream",
     "text": [
      "Epochs: 53\n",
      "       Train Loss: 0.628\n",
      "       Train Accuracy: 0.811\n",
      "       Val Loss: 1.061\n",
      "       Val Accuracy: 0.634\n"
     ]
    },
    {
     "name": "stderr",
     "output_type": "stream",
     "text": [
      "Training Epoch 54: 100%|██████████████████████████████████████████████████████████████| 59/59 [00:00<00:00, 260.72it/s]\n"
     ]
    },
    {
     "name": "stdout",
     "output_type": "stream",
     "text": [
      "Epochs: 54\n",
      "       Train Loss: 0.613\n",
      "       Train Accuracy: 0.822\n",
      "       Val Loss: 1.055\n",
      "       Val Accuracy: 0.642\n"
     ]
    },
    {
     "name": "stderr",
     "output_type": "stream",
     "text": [
      "Training Epoch 55: 100%|██████████████████████████████████████████████████████████████| 59/59 [00:00<00:00, 262.09it/s]\n"
     ]
    },
    {
     "name": "stdout",
     "output_type": "stream",
     "text": [
      "Epochs: 55\n",
      "       Train Loss: 0.607\n",
      "       Train Accuracy: 0.827\n",
      "       Val Loss: 1.050\n",
      "       Val Accuracy: 0.640\n"
     ]
    },
    {
     "name": "stderr",
     "output_type": "stream",
     "text": [
      "Training Epoch 56: 100%|██████████████████████████████████████████████████████████████| 59/59 [00:00<00:00, 237.40it/s]\n"
     ]
    },
    {
     "name": "stdout",
     "output_type": "stream",
     "text": [
      "Epochs: 56\n",
      "       Train Loss: 0.593\n",
      "       Train Accuracy: 0.841\n",
      "       Val Loss: 1.048\n",
      "       Val Accuracy: 0.643\n"
     ]
    },
    {
     "name": "stderr",
     "output_type": "stream",
     "text": [
      "Training Epoch 57: 100%|██████████████████████████████████████████████████████████████| 59/59 [00:00<00:00, 249.01it/s]\n"
     ]
    },
    {
     "name": "stdout",
     "output_type": "stream",
     "text": [
      "Epochs: 57\n",
      "       Train Loss: 0.590\n",
      "       Train Accuracy: 0.829\n",
      "       Val Loss: 1.045\n",
      "       Val Accuracy: 0.643\n"
     ]
    },
    {
     "name": "stderr",
     "output_type": "stream",
     "text": [
      "Training Epoch 58: 100%|██████████████████████████████████████████████████████████████| 59/59 [00:00<00:00, 210.08it/s]\n"
     ]
    },
    {
     "name": "stdout",
     "output_type": "stream",
     "text": [
      "Epochs: 58\n",
      "       Train Loss: 0.566\n",
      "       Train Accuracy: 0.843\n",
      "       Val Loss: 1.042\n",
      "       Val Accuracy: 0.646\n"
     ]
    },
    {
     "name": "stderr",
     "output_type": "stream",
     "text": [
      "Training Epoch 59: 100%|██████████████████████████████████████████████████████████████| 59/59 [00:00<00:00, 241.72it/s]\n"
     ]
    },
    {
     "name": "stdout",
     "output_type": "stream",
     "text": [
      "Epochs: 59\n",
      "       Train Loss: 0.573\n",
      "       Train Accuracy: 0.832\n",
      "       Val Loss: 1.041\n",
      "       Val Accuracy: 0.645\n"
     ]
    },
    {
     "name": "stderr",
     "output_type": "stream",
     "text": [
      "Training Epoch 60: 100%|██████████████████████████████████████████████████████████████| 59/59 [00:00<00:00, 256.72it/s]\n"
     ]
    },
    {
     "name": "stdout",
     "output_type": "stream",
     "text": [
      "Epochs: 60\n",
      "       Train Loss: 0.553\n",
      "       Train Accuracy: 0.854\n",
      "       Val Loss: 1.036\n",
      "       Val Accuracy: 0.650\n"
     ]
    },
    {
     "name": "stderr",
     "output_type": "stream",
     "text": [
      "Training Epoch 61: 100%|██████████████████████████████████████████████████████████████| 59/59 [00:00<00:00, 227.18it/s]\n"
     ]
    },
    {
     "name": "stdout",
     "output_type": "stream",
     "text": [
      "Epochs: 61\n",
      "       Train Loss: 0.541\n",
      "       Train Accuracy: 0.837\n",
      "       Val Loss: 1.033\n",
      "       Val Accuracy: 0.646\n"
     ]
    },
    {
     "name": "stderr",
     "output_type": "stream",
     "text": [
      "Training Epoch 62: 100%|██████████████████████████████████████████████████████████████| 59/59 [00:00<00:00, 224.27it/s]\n"
     ]
    },
    {
     "name": "stdout",
     "output_type": "stream",
     "text": [
      "Epochs: 62\n",
      "       Train Loss: 0.534\n",
      "       Train Accuracy: 0.848\n",
      "       Val Loss: 1.034\n",
      "       Val Accuracy: 0.648\n"
     ]
    },
    {
     "name": "stderr",
     "output_type": "stream",
     "text": [
      "Training Epoch 63: 100%|██████████████████████████████████████████████████████████████| 59/59 [00:00<00:00, 262.58it/s]\n"
     ]
    },
    {
     "name": "stdout",
     "output_type": "stream",
     "text": [
      "Epochs: 63\n",
      "       Train Loss: 0.532\n",
      "       Train Accuracy: 0.855\n",
      "       Val Loss: 1.029\n",
      "       Val Accuracy: 0.646\n"
     ]
    },
    {
     "name": "stderr",
     "output_type": "stream",
     "text": [
      "Training Epoch 64: 100%|██████████████████████████████████████████████████████████████| 59/59 [00:00<00:00, 264.97it/s]\n"
     ]
    },
    {
     "name": "stdout",
     "output_type": "stream",
     "text": [
      "Epochs: 64\n",
      "       Train Loss: 0.525\n",
      "       Train Accuracy: 0.852\n",
      "       Val Loss: 1.024\n",
      "       Val Accuracy: 0.656\n"
     ]
    },
    {
     "name": "stderr",
     "output_type": "stream",
     "text": [
      "Training Epoch 65: 100%|██████████████████████████████████████████████████████████████| 59/59 [00:00<00:00, 223.34it/s]\n"
     ]
    },
    {
     "name": "stdout",
     "output_type": "stream",
     "text": [
      "Epochs: 65\n",
      "       Train Loss: 0.498\n",
      "       Train Accuracy: 0.863\n",
      "       Val Loss: 1.022\n",
      "       Val Accuracy: 0.645\n"
     ]
    },
    {
     "name": "stderr",
     "output_type": "stream",
     "text": [
      "Training Epoch 66: 100%|██████████████████████████████████████████████████████████████| 59/59 [00:00<00:00, 231.24it/s]\n"
     ]
    },
    {
     "name": "stdout",
     "output_type": "stream",
     "text": [
      "Epochs: 66\n",
      "       Train Loss: 0.499\n",
      "       Train Accuracy: 0.859\n",
      "       Val Loss: 1.018\n",
      "       Val Accuracy: 0.659\n"
     ]
    },
    {
     "name": "stderr",
     "output_type": "stream",
     "text": [
      "Training Epoch 67: 100%|██████████████████████████████████████████████████████████████| 59/59 [00:00<00:00, 225.72it/s]\n"
     ]
    },
    {
     "name": "stdout",
     "output_type": "stream",
     "text": [
      "Epochs: 67\n",
      "       Train Loss: 0.484\n",
      "       Train Accuracy: 0.873\n",
      "       Val Loss: 1.016\n",
      "       Val Accuracy: 0.662\n"
     ]
    },
    {
     "name": "stderr",
     "output_type": "stream",
     "text": [
      "Training Epoch 68: 100%|██████████████████████████████████████████████████████████████| 59/59 [00:00<00:00, 231.77it/s]\n"
     ]
    },
    {
     "name": "stdout",
     "output_type": "stream",
     "text": [
      "Epochs: 68\n",
      "       Train Loss: 0.470\n",
      "       Train Accuracy: 0.880\n",
      "       Val Loss: 1.014\n",
      "       Val Accuracy: 0.662\n"
     ]
    },
    {
     "name": "stderr",
     "output_type": "stream",
     "text": [
      "Training Epoch 69: 100%|██████████████████████████████████████████████████████████████| 59/59 [00:00<00:00, 235.75it/s]\n"
     ]
    },
    {
     "name": "stdout",
     "output_type": "stream",
     "text": [
      "Epochs: 69\n",
      "       Train Loss: 0.476\n",
      "       Train Accuracy: 0.868\n",
      "       Val Loss: 1.012\n",
      "       Val Accuracy: 0.664\n"
     ]
    },
    {
     "name": "stderr",
     "output_type": "stream",
     "text": [
      "Training Epoch 70: 100%|██████████████████████████████████████████████████████████████| 59/59 [00:00<00:00, 235.89it/s]\n"
     ]
    },
    {
     "name": "stdout",
     "output_type": "stream",
     "text": [
      "Epochs: 70\n",
      "       Train Loss: 0.466\n",
      "       Train Accuracy: 0.866\n",
      "       Val Loss: 1.010\n",
      "       Val Accuracy: 0.654\n"
     ]
    },
    {
     "name": "stderr",
     "output_type": "stream",
     "text": [
      "Training Epoch 71: 100%|██████████████████████████████████████████████████████████████| 59/59 [00:00<00:00, 251.10it/s]\n"
     ]
    },
    {
     "name": "stdout",
     "output_type": "stream",
     "text": [
      "Epochs: 71\n",
      "       Train Loss: 0.452\n",
      "       Train Accuracy: 0.880\n",
      "       Val Loss: 1.008\n",
      "       Val Accuracy: 0.658\n"
     ]
    },
    {
     "name": "stderr",
     "output_type": "stream",
     "text": [
      "Training Epoch 72: 100%|██████████████████████████████████████████████████████████████| 59/59 [00:00<00:00, 240.34it/s]\n"
     ]
    },
    {
     "name": "stdout",
     "output_type": "stream",
     "text": [
      "Epochs: 72\n",
      "       Train Loss: 0.441\n",
      "       Train Accuracy: 0.874\n",
      "       Val Loss: 1.006\n",
      "       Val Accuracy: 0.659\n"
     ]
    },
    {
     "name": "stderr",
     "output_type": "stream",
     "text": [
      "Training Epoch 73: 100%|██████████████████████████████████████████████████████████████| 59/59 [00:00<00:00, 244.98it/s]\n"
     ]
    },
    {
     "name": "stdout",
     "output_type": "stream",
     "text": [
      "Epochs: 73\n",
      "       Train Loss: 0.427\n",
      "       Train Accuracy: 0.894\n",
      "       Val Loss: 1.004\n",
      "       Val Accuracy: 0.658\n"
     ]
    },
    {
     "name": "stderr",
     "output_type": "stream",
     "text": [
      "Training Epoch 74: 100%|██████████████████████████████████████████████████████████████| 59/59 [00:00<00:00, 242.58it/s]\n"
     ]
    },
    {
     "name": "stdout",
     "output_type": "stream",
     "text": [
      "Epochs: 74\n",
      "       Train Loss: 0.432\n",
      "       Train Accuracy: 0.884\n",
      "       Val Loss: 1.003\n",
      "       Val Accuracy: 0.666\n"
     ]
    },
    {
     "name": "stderr",
     "output_type": "stream",
     "text": [
      "Training Epoch 75: 100%|██████████████████████████████████████████████████████████████| 59/59 [00:00<00:00, 224.80it/s]\n"
     ]
    },
    {
     "name": "stdout",
     "output_type": "stream",
     "text": [
      "Epochs: 75\n",
      "       Train Loss: 0.438\n",
      "       Train Accuracy: 0.881\n",
      "       Val Loss: 1.001\n",
      "       Val Accuracy: 0.659\n"
     ]
    },
    {
     "name": "stderr",
     "output_type": "stream",
     "text": [
      "Training Epoch 76: 100%|██████████████████████████████████████████████████████████████| 59/59 [00:00<00:00, 236.00it/s]\n"
     ]
    },
    {
     "name": "stdout",
     "output_type": "stream",
     "text": [
      "Epochs: 76\n",
      "       Train Loss: 0.418\n",
      "       Train Accuracy: 0.889\n",
      "       Val Loss: 1.001\n",
      "       Val Accuracy: 0.666\n"
     ]
    },
    {
     "name": "stderr",
     "output_type": "stream",
     "text": [
      "Training Epoch 77: 100%|██████████████████████████████████████████████████████████████| 59/59 [00:00<00:00, 265.60it/s]\n"
     ]
    },
    {
     "name": "stdout",
     "output_type": "stream",
     "text": [
      "Epochs: 77\n",
      "       Train Loss: 0.410\n",
      "       Train Accuracy: 0.878\n",
      "       Val Loss: 0.998\n",
      "       Val Accuracy: 0.661\n"
     ]
    },
    {
     "name": "stderr",
     "output_type": "stream",
     "text": [
      "Training Epoch 78: 100%|██████████████████████████████████████████████████████████████| 59/59 [00:00<00:00, 230.99it/s]\n"
     ]
    },
    {
     "name": "stdout",
     "output_type": "stream",
     "text": [
      "Epochs: 78\n",
      "       Train Loss: 0.410\n",
      "       Train Accuracy: 0.894\n",
      "       Val Loss: 0.998\n",
      "       Val Accuracy: 0.659\n"
     ]
    },
    {
     "name": "stderr",
     "output_type": "stream",
     "text": [
      "Training Epoch 79: 100%|██████████████████████████████████████████████████████████████| 59/59 [00:00<00:00, 229.03it/s]\n"
     ]
    },
    {
     "name": "stdout",
     "output_type": "stream",
     "text": [
      "Epochs: 79\n",
      "       Train Loss: 0.410\n",
      "       Train Accuracy: 0.891\n",
      "       Val Loss: 0.998\n",
      "       Val Accuracy: 0.666\n"
     ]
    },
    {
     "name": "stderr",
     "output_type": "stream",
     "text": [
      "Training Epoch 80: 100%|██████████████████████████████████████████████████████████████| 59/59 [00:00<00:00, 241.42it/s]\n"
     ]
    },
    {
     "name": "stdout",
     "output_type": "stream",
     "text": [
      "Epochs: 80\n",
      "       Train Loss: 0.387\n",
      "       Train Accuracy: 0.899\n",
      "       Val Loss: 0.997\n",
      "       Val Accuracy: 0.659\n"
     ]
    },
    {
     "name": "stderr",
     "output_type": "stream",
     "text": [
      "Training Epoch 81: 100%|██████████████████████████████████████████████████████████████| 59/59 [00:00<00:00, 221.04it/s]\n"
     ]
    },
    {
     "name": "stdout",
     "output_type": "stream",
     "text": [
      "Epochs: 81\n",
      "       Train Loss: 0.392\n",
      "       Train Accuracy: 0.886\n",
      "       Val Loss: 0.996\n",
      "       Val Accuracy: 0.666\n"
     ]
    },
    {
     "name": "stderr",
     "output_type": "stream",
     "text": [
      "Training Epoch 82: 100%|██████████████████████████████████████████████████████████████| 59/59 [00:00<00:00, 217.66it/s]\n"
     ]
    },
    {
     "name": "stdout",
     "output_type": "stream",
     "text": [
      "Epochs: 82\n",
      "       Train Loss: 0.370\n",
      "       Train Accuracy: 0.899\n",
      "       Val Loss: 0.996\n",
      "       Val Accuracy: 0.661\n"
     ]
    },
    {
     "name": "stderr",
     "output_type": "stream",
     "text": [
      "Training Epoch 83: 100%|██████████████████████████████████████████████████████████████| 59/59 [00:00<00:00, 240.10it/s]\n"
     ]
    },
    {
     "name": "stdout",
     "output_type": "stream",
     "text": [
      "Epochs: 83\n",
      "       Train Loss: 0.377\n",
      "       Train Accuracy: 0.900\n",
      "       Val Loss: 0.993\n",
      "       Val Accuracy: 0.661\n"
     ]
    },
    {
     "name": "stderr",
     "output_type": "stream",
     "text": [
      "Training Epoch 84: 100%|██████████████████████████████████████████████████████████████| 59/59 [00:00<00:00, 226.36it/s]\n"
     ]
    },
    {
     "name": "stdout",
     "output_type": "stream",
     "text": [
      "Epochs: 84\n",
      "       Train Loss: 0.370\n",
      "       Train Accuracy: 0.899\n",
      "       Val Loss: 0.992\n",
      "       Val Accuracy: 0.661\n"
     ]
    },
    {
     "name": "stderr",
     "output_type": "stream",
     "text": [
      "Training Epoch 85: 100%|██████████████████████████████████████████████████████████████| 59/59 [00:00<00:00, 244.24it/s]\n"
     ]
    },
    {
     "name": "stdout",
     "output_type": "stream",
     "text": [
      "Epochs: 85\n",
      "       Train Loss: 0.365\n",
      "       Train Accuracy: 0.903\n",
      "       Val Loss: 0.991\n",
      "       Val Accuracy: 0.659\n"
     ]
    },
    {
     "name": "stderr",
     "output_type": "stream",
     "text": [
      "Training Epoch 86: 100%|██████████████████████████████████████████████████████████████| 59/59 [00:00<00:00, 235.71it/s]\n"
     ]
    },
    {
     "name": "stdout",
     "output_type": "stream",
     "text": [
      "Epochs: 86\n",
      "       Train Loss: 0.365\n",
      "       Train Accuracy: 0.904\n",
      "       Val Loss: 0.989\n",
      "       Val Accuracy: 0.662\n"
     ]
    },
    {
     "name": "stderr",
     "output_type": "stream",
     "text": [
      "Training Epoch 87: 100%|██████████████████████████████████████████████████████████████| 59/59 [00:00<00:00, 231.71it/s]\n"
     ]
    },
    {
     "name": "stdout",
     "output_type": "stream",
     "text": [
      "Epochs: 87\n",
      "       Train Loss: 0.357\n",
      "       Train Accuracy: 0.908\n",
      "       Val Loss: 0.990\n",
      "       Val Accuracy: 0.662\n"
     ]
    },
    {
     "name": "stderr",
     "output_type": "stream",
     "text": [
      "Training Epoch 88: 100%|██████████████████████████████████████████████████████████████| 59/59 [00:00<00:00, 233.02it/s]"
     ]
    },
    {
     "name": "stdout",
     "output_type": "stream",
     "text": [
      "Epochs: 88\n",
      "       Train Loss: 0.355\n",
      "       Train Accuracy: 0.903\n",
      "       Val Loss: 0.989\n",
      "       Val Accuracy: 0.669\n",
      "Stopping early at epoch 88. Best epoch was 78 with loss 0.9977534979581832.\n"
     ]
    },
    {
     "name": "stderr",
     "output_type": "stream",
     "text": [
      "\n"
     ]
    }
   ],
   "source": [
    "from torch.optim import Adam\n",
    "from torch.utils.data import Dataset\n",
    "import pandas as pd\n",
    "import re\n",
    "from torch.utils.data import DataLoader\n",
    "from sklearn.model_selection import train_test_split\n",
    "from nltk import download, pos_tag\n",
    "from nltk.corpus import wordnet\n",
    "from nltk.stem import WordNetLemmatizer\n",
    "import torch\n",
    "import torch.nn as nn\n",
    "from nltk.tokenize import word_tokenize\n",
    "from collections import Counter\n",
    "import string\n",
    "from nltk.corpus import stopwords\n",
    "import torch.nn.functional as F\n",
    "import torch\n",
    "from torch import nn, optim\n",
    "from torch.utils.data import DataLoader\n",
    "from tqdm import tqdm\n",
    "download('punkt')\n",
    "download('wordnet')\n",
    "download('averaged_perceptron_tagger')\n",
    "stop_words = set(stopwords.words('english'))\n",
    "\n",
    "\n",
    "\n",
    "\n",
    "#data-load\n",
    "df = pd.read_csv('dataset/user_stories_data.csv')\n",
    "text_data = df['texts'].tolist()\n",
    "label_data = df['labels'].tolist()\n",
    "labels = {'Usability':0,\n",
    "          'Functional':1,\n",
    "          'Maintainability':2,\n",
    "          'Security':3,\n",
    "          'Portability':4,\n",
    "          'Performance':5,\n",
    "          'Compatibility':6,\n",
    "          'Reliability':7\n",
    "          }\n",
    "label_counts = Counter(label_data) #data distribution\n",
    "encoded_label_data = [labels[label] for label in label_data]\n",
    "\n",
    "\n",
    "\n",
    "#preprocessing\n",
    "def get_voc(texts):\n",
    "    words = []\n",
    "    for text in texts:\n",
    "        tokens = word_tokenize(text)\n",
    "        tokens = [word.lower() for word in tokens if word.isalpha() and word.lower() not in stop_words]\n",
    "        words.extend(tokens)\n",
    "    word_counts = Counter(words)\n",
    "    vocab = ['<pad>', '<unk>'] + [word for word, freq in word_counts.items() if freq > 1]\n",
    "    vocab = {word: index for index, word in enumerate(vocab)}\n",
    "\n",
    "    return vocab\n",
    "\n",
    "\n",
    "def load_stopwords(stopwords_file):\n",
    "    with open(stopwords_file, 'r', encoding='utf-8') as f:\n",
    "        stopwords = [line.strip() for line in f.readlines()]\n",
    "    return stopwords\n",
    "\n",
    "lemmatizer = WordNetLemmatizer()\n",
    "def preprocess_texts(texts):\n",
    "    def get_wordnet_pos(tag):\n",
    "        if tag.startswith('J'):\n",
    "            return wordnet.ADJ\n",
    "        elif tag.startswith('V'):\n",
    "            return wordnet.VERB\n",
    "        elif tag.startswith('N'):\n",
    "            return wordnet.NOUN\n",
    "        elif tag.startswith('R'):\n",
    "            return wordnet.ADV\n",
    "        else:\n",
    "            return wordnet.NOUN\n",
    "\n",
    "    def remove_unwanted_chars(text):\n",
    "        text = re.sub(r'https?://\\S+|www\\.\\S+', '', text)\n",
    "        text = re.sub(r'<.*?>', '', text)\n",
    "        text = re.sub(r'[^a-zA-Z\\s]', '', text)\n",
    "        return text\n",
    "\n",
    "    def remove_stopwords(sentence):\n",
    "        tokens = word_tokenize(sentence)\n",
    "        filtered_sentence = [w for w in tokens if not w in stop_words]\n",
    "        return ' '.join(filtered_sentence)\n",
    "\n",
    "    def remove_punctuation(sentence):\n",
    "        translator = str.maketrans('', '', string.punctuation)\n",
    "        lower_case_sentence = sentence.lower().translate(translator)\n",
    "        words = lower_case_sentence.split()\n",
    "        return ' '.join(words)\n",
    "\n",
    "    def lemmatize_text(text):\n",
    "        tokens = word_tokenize(text)\n",
    "        tagged_tokens = pos_tag(tokens)\n",
    "        lemmatized_tokens = [lemmatizer.lemmatize(token, get_wordnet_pos(pos)) for token, pos in tagged_tokens]\n",
    "        return ' '.join(lemmatized_tokens)\n",
    "\n",
    "    #remove URL and unwanted words\n",
    "    texts = [remove_unwanted_chars(text) for text in texts]\n",
    "    # remove stopwords and punctuation\n",
    "    texts = [remove_punctuation(text) for text in texts]\n",
    "    texts = [remove_stopwords(text) for text in texts]\n",
    "    # lematization\n",
    "    texts = [lemmatize_text(text) for text in texts]\n",
    "    # get vocabulary\n",
    "    voc = get_voc(texts)\n",
    "    return texts,voc\n",
    "\n",
    "\n",
    "\n",
    "#convert text to index\n",
    "def convert_texts_to_index(texts,max_length):\n",
    "    texts,voc = preprocess_texts(texts)\n",
    "    text_indexs =[]\n",
    "    for text in texts:\n",
    "        unk_id = voc['<unk>']\n",
    "        pad_id = voc['<pad>']\n",
    "        tokens = word_tokenize(text)\n",
    "        text_index = [voc.get(word,unk_id) for word in tokens]\n",
    "        if len(text_index) < max_length:\n",
    "            text_index += [pad_id] * (max_length - len(text_index))\n",
    "        else:\n",
    "            text_index = text_index[:max_length]\n",
    "        text_indexs.append(text_index)\n",
    "    return text_indexs\n",
    "\n",
    "\n",
    "#model\n",
    "class TextCNN(nn.Module):\n",
    "     def __init__(self, vocab_size, embedding_dim, output_size, filter_num=100, kernel_list=(3, 4, 5), dropout=0.5):\n",
    "        super(TextCNN,self).__init__()\n",
    "        # embedding layer\n",
    "        self.embedding = nn.Embedding(vocab_size, embedding_dim)\n",
    "        # cnn layer and pool layer\n",
    "        self.convs = nn.ModuleList(\n",
    "                [nn.Conv2d(1,filter_num,(kernel,embedding_dim)) for kernel in kernel_list])\n",
    "        #dropout layer\n",
    "        self.dropout = nn.Dropout(dropout)\n",
    "        #full connected layer\n",
    "        self.fc = nn.Linear(filter_num*len(kernel_list),output_size)\n",
    "     def forward(self,x):\n",
    "        x = self.embedding(x)\n",
    "        x = x.unsqueeze(1)\n",
    "        x = [F.relu(conv(x)).squeeze(3) for conv in self.convs]\n",
    "        x = [F.max_pool1d(item, item.size(2)).squeeze(2) for item in x]\n",
    "        x = torch.cat(x, 1)\n",
    "        x = self.dropout(x)\n",
    "        logits = self.fc(x)\n",
    "        return logits\n",
    "\n",
    "\n",
    "class TextDataSet(Dataset):\n",
    "    def __init__(self, texts, labels):\n",
    "        self.texts = texts\n",
    "        self.labels = labels\n",
    "\n",
    "    def __len__(self):\n",
    "        return len(self.texts)\n",
    "\n",
    "    def __getitem__(self, idx):\n",
    "        return torch.tensor(self.texts[idx], dtype=torch.long), torch.tensor(self.labels[idx], dtype=torch.long)\n",
    "\n",
    "# main\n",
    "maxlength = 50\n",
    "learing_rate = 0.01\n",
    "embedding_dim = 128\n",
    "output_size = 8\n",
    "voc_size = len(get_voc(text_data))\n",
    "all_data = convert_texts_to_index(text_data,maxlength)\n",
    "model = TextCNN(voc_size,embedding_dim,output_size)\n",
    "# spilt data\n",
    "train_val_data, test_data, train_val_labels, test_labels = train_test_split(\n",
    "    all_data, encoded_label_data, test_size=0.2, random_state=42)\n",
    "train_data, val_data, train_labels, val_labels = train_test_split(\n",
    "    train_val_data, train_val_labels, test_size=0.25, random_state=42)  # 0.25*0.8 = 0.2\n",
    "\n",
    "train_dataset = TextDataSet(train_data,train_labels)\n",
    "test_dataset = TextDataSet(test_data,test_labels)\n",
    "val_dataset = TextDataSet(val_data,val_labels)\n",
    "batch_size = 128  \n",
    "\n",
    "train_loader = DataLoader(train_dataset, batch_size=batch_size, shuffle=True)\n",
    "val_loader = DataLoader(val_dataset, batch_size=batch_size, shuffle=False)\n",
    "test_loader = DataLoader(test_dataset, batch_size=batch_size, shuffle=False)\n",
    "\n",
    "# train\n",
    "device = torch.device('cuda' if torch.cuda.is_available() else 'cpu')\n",
    "model.to(device)\n",
    "\n",
    "# DataLoader\n",
    "train_loader = DataLoader(train_dataset, batch_size=32, shuffle=True)\n",
    "val_loader = DataLoader(val_dataset, batch_size=32)\n",
    "\n",
    "# Loss function and optimizer\n",
    "criterion = nn.CrossEntropyLoss()\n",
    "optimizer = optim.Adam(model.parameters(), lr=5e-5)\n",
    "\n",
    "# train and validation \n",
    "epochs = 300\n",
    "patience = 10\n",
    "min_delta = 0.01\n",
    "best_val_loss = float('inf')\n",
    "best_epoch = 0\n",
    "\n",
    "for epoch in range(epochs):\n",
    " \n",
    "    model.train()\n",
    "    total_loss = 0\n",
    "    total_correct = 0\n",
    "    total_samples = 0\n",
    "    for texts, labels in tqdm(train_loader, desc=f\"Training Epoch {epoch + 1}\"):\n",
    "        texts, labels = texts.to(device), labels.to(device)\n",
    "\n",
    "        optimizer.zero_grad()\n",
    "        outputs = model(texts)\n",
    "        loss = criterion(outputs, labels)\n",
    "        loss.backward()\n",
    "        optimizer.step()\n",
    "\n",
    "        total_loss += loss.item()\n",
    "        _, predicted_labels = torch.max(outputs, 1)\n",
    "        correct = (predicted_labels == labels).sum().item()\n",
    "        total_correct += correct\n",
    "        total_samples += labels.size(0)\n",
    "    \n",
    "    train_loss = total_loss / len(train_loader)\n",
    "    train_accuracy = total_correct / total_samples\n",
    "    \n",
    "# validation\n",
    "    model.eval()\n",
    "    total_val_loss = 0\n",
    "    total_correct = 0\n",
    "    with torch.no_grad():\n",
    "        for texts, labels in val_loader:\n",
    "            texts, labels = texts.to(device), labels.to(device)\n",
    "            outputs = model(texts)\n",
    "            loss = criterion(outputs, labels)\n",
    "            total_val_loss += loss.item()\n",
    "\n",
    "            _, predicted = torch.max(outputs, 1)\n",
    "            total_correct += (predicted == labels).sum().item()\n",
    "    val_loss = total_val_loss / len(val_loader)\n",
    "    val_accuracy = total_correct / len(val_loader.dataset)\n",
    "    \n",
    "    val_loss = total_val_loss / len(val_loader)\n",
    "    val_acc = val_accuracy\n",
    "    print(\n",
    "        f'''Epochs: {epoch + 1}\n",
    "       Train Loss: {train_loss:.3f}\n",
    "       Train Accuracy: {train_accuracy:.3f}\n",
    "       Val Loss: {val_loss:.3f}\n",
    "       Val Accuracy: {val_accuracy:.3f}'''\n",
    "    )\n",
    "    if best_val_loss - val_loss > min_delta:\n",
    "        best_val_loss = val_loss\n",
    "        best_epoch = epoch\n",
    "\n",
    "        torch.save(model.state_dict(), 'best_model.pth')\n",
    "    elif (epoch - best_epoch) >= patience:\n",
    "        print(f\"Stopping early at epoch {epoch + 1}. Best epoch was {best_epoch + 1} with loss {best_val_loss}.\")\n",
    "        break"
   ]
  },
  {
   "cell_type": "code",
   "execution_count": 15,
   "metadata": {
    "collapsed": false,
    "jupyter": {
     "outputs_hidden": false
    }
   },
   "outputs": [
    {
     "name": "stderr",
     "output_type": "stream",
     "text": [
      "Testing: 100%|███████████████████████████████████████████████████████████████████████████| 5/5 [00:00<00:00, 86.90it/s]"
     ]
    },
    {
     "name": "stdout",
     "output_type": "stream",
     "text": [
      "Test Accuracy: 0.6518282988871225\n"
     ]
    },
    {
     "name": "stderr",
     "output_type": "stream",
     "text": [
      "\n"
     ]
    }
   ],
   "source": [
    "model.eval()\n",
    "total_test_loss = 0\n",
    "total_correct = 0\n",
    "\n",
    "with torch.no_grad():\n",
    "    for texts, labels in tqdm(test_loader, desc=\"Testing\"):\n",
    "        texts, labels = texts.to(device), labels.to(device)  \n",
    "        outputs = model(texts)\n",
    "        loss = criterion(outputs, labels)\n",
    "        total_test_loss += loss.item()\n",
    "\n",
    "        _, predicted_labels = torch.max(outputs, 1)\n",
    "        total_correct += (predicted_labels == labels).sum().item()\n",
    "\n",
    "test_accuracy = total_correct / len(test_loader.dataset)\n",
    "print(f\"Test Accuracy: {test_accuracy}\")\n"
   ]
  },
  {
   "cell_type": "code",
   "execution_count": null,
   "metadata": {},
   "outputs": [],
   "source": []
  }
 ],
 "metadata": {
  "kernelspec": {
   "display_name": "Python 3 (ipykernel)",
   "language": "python",
   "name": "python3"
  },
  "language_info": {
   "codemirror_mode": {
    "name": "ipython",
    "version": 3
   },
   "file_extension": ".py",
   "mimetype": "text/x-python",
   "name": "python",
   "nbconvert_exporter": "python",
   "pygments_lexer": "ipython3",
   "version": "3.8.18"
  }
 },
 "nbformat": 4,
 "nbformat_minor": 4
}
